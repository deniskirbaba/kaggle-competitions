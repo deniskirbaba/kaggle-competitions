{
  "cells": [
    {
      "cell_type": "code",
      "source": [
        "!pip install catboost"
      ],
      "metadata": {
        "colab": {
          "base_uri": "https://localhost:8080/"
        },
        "id": "UfJVCgRGzbVE",
        "outputId": "58949751-aa13-4067-da96-e723bdf0069f"
      },
      "execution_count": 1,
      "outputs": [
        {
          "output_type": "stream",
          "name": "stdout",
          "text": [
            "Collecting catboost\n",
            "  Downloading catboost-1.2.5-cp310-cp310-manylinux2014_x86_64.whl (98.2 MB)\n",
            "\u001b[2K     \u001b[90m━━━━━━━━━━━━━━━━━━━━━━━━━━━━━━━━━━━━━━━━\u001b[0m \u001b[32m98.2/98.2 MB\u001b[0m \u001b[31m6.9 MB/s\u001b[0m eta \u001b[36m0:00:00\u001b[0m\n",
            "\u001b[?25hRequirement already satisfied: graphviz in /usr/local/lib/python3.10/dist-packages (from catboost) (0.20.3)\n",
            "Requirement already satisfied: matplotlib in /usr/local/lib/python3.10/dist-packages (from catboost) (3.7.1)\n",
            "Requirement already satisfied: numpy>=1.16.0 in /usr/local/lib/python3.10/dist-packages (from catboost) (1.25.2)\n",
            "Requirement already satisfied: pandas>=0.24 in /usr/local/lib/python3.10/dist-packages (from catboost) (2.0.3)\n",
            "Requirement already satisfied: scipy in /usr/local/lib/python3.10/dist-packages (from catboost) (1.11.4)\n",
            "Requirement already satisfied: plotly in /usr/local/lib/python3.10/dist-packages (from catboost) (5.15.0)\n",
            "Requirement already satisfied: six in /usr/local/lib/python3.10/dist-packages (from catboost) (1.16.0)\n",
            "Requirement already satisfied: python-dateutil>=2.8.2 in /usr/local/lib/python3.10/dist-packages (from pandas>=0.24->catboost) (2.8.2)\n",
            "Requirement already satisfied: pytz>=2020.1 in /usr/local/lib/python3.10/dist-packages (from pandas>=0.24->catboost) (2023.4)\n",
            "Requirement already satisfied: tzdata>=2022.1 in /usr/local/lib/python3.10/dist-packages (from pandas>=0.24->catboost) (2024.1)\n",
            "Requirement already satisfied: contourpy>=1.0.1 in /usr/local/lib/python3.10/dist-packages (from matplotlib->catboost) (1.2.1)\n",
            "Requirement already satisfied: cycler>=0.10 in /usr/local/lib/python3.10/dist-packages (from matplotlib->catboost) (0.12.1)\n",
            "Requirement already satisfied: fonttools>=4.22.0 in /usr/local/lib/python3.10/dist-packages (from matplotlib->catboost) (4.53.0)\n",
            "Requirement already satisfied: kiwisolver>=1.0.1 in /usr/local/lib/python3.10/dist-packages (from matplotlib->catboost) (1.4.5)\n",
            "Requirement already satisfied: packaging>=20.0 in /usr/local/lib/python3.10/dist-packages (from matplotlib->catboost) (24.1)\n",
            "Requirement already satisfied: pillow>=6.2.0 in /usr/local/lib/python3.10/dist-packages (from matplotlib->catboost) (9.4.0)\n",
            "Requirement already satisfied: pyparsing>=2.3.1 in /usr/local/lib/python3.10/dist-packages (from matplotlib->catboost) (3.1.2)\n",
            "Requirement already satisfied: tenacity>=6.2.0 in /usr/local/lib/python3.10/dist-packages (from plotly->catboost) (8.3.0)\n",
            "Installing collected packages: catboost\n",
            "Successfully installed catboost-1.2.5\n"
          ]
        }
      ]
    },
    {
      "cell_type": "code",
      "execution_count": 2,
      "metadata": {
        "id": "uRIQPKBZzGjl"
      },
      "outputs": [],
      "source": [
        "import catboost\n",
        "from catboost import *\n",
        "\n",
        "import numpy as np\n",
        "import pandas as pd"
      ]
    },
    {
      "cell_type": "code",
      "execution_count": 36,
      "metadata": {
        "id": "c02un5pqzGjq"
      },
      "outputs": [],
      "source": [
        "train_dataset = pd.read_csv('/content/train.csv')\n",
        "test_dataset = pd.read_csv('/content/test.csv')\n",
        "\n",
        "test_ids = test_dataset['Id']\n",
        "\n",
        "train_dataset.drop(columns='Id', inplace=True)\n",
        "test_dataset.drop(columns='Id', inplace=True)"
      ]
    },
    {
      "cell_type": "code",
      "execution_count": 37,
      "metadata": {
        "colab": {
          "base_uri": "https://localhost:8080/"
        },
        "id": "68Kp8xyXzGjr",
        "outputId": "93cca139-5c92-41c8-fdaa-37ff3df717f7"
      },
      "outputs": [
        {
          "output_type": "execute_result",
          "data": {
            "text/plain": [
              "((1460, 79), (1460,))"
            ]
          },
          "metadata": {},
          "execution_count": 37
        }
      ],
      "source": [
        "X = train_dataset.loc[:, train_dataset.columns.drop('SalePrice')]\n",
        "Y = train_dataset.loc[:, 'SalePrice']\n",
        "X.shape, Y.shape"
      ]
    },
    {
      "cell_type": "code",
      "execution_count": 38,
      "metadata": {
        "colab": {
          "base_uri": "https://localhost:8080/"
        },
        "id": "4zPqe_D7zGjt",
        "outputId": "e0d5c081-872a-4ae4-9e34-bd2dea441bba"
      },
      "outputs": [
        {
          "output_type": "execute_result",
          "data": {
            "text/plain": [
              "(36, 43)"
            ]
          },
          "metadata": {},
          "execution_count": 38
        }
      ],
      "source": [
        "numerical_features_ids = np.where(X.dtypes != 'object')[0]\n",
        "categorical_features_ids = np.where(X.dtypes == 'object')[0]\n",
        "len(numerical_features_ids), len(categorical_features_ids)"
      ]
    },
    {
      "cell_type": "code",
      "execution_count": 39,
      "metadata": {
        "colab": {
          "base_uri": "https://localhost:8080/"
        },
        "id": "G_pbAjGizGjt",
        "outputId": "2f548180-1ad7-4563-abc7-f9bc5f3ab69c"
      },
      "outputs": [
        {
          "output_type": "execute_result",
          "data": {
            "text/plain": [
              "LotFrontage      259\n",
              "Alley           1369\n",
              "MasVnrType       872\n",
              "MasVnrArea         8\n",
              "BsmtQual          37\n",
              "BsmtCond          37\n",
              "BsmtExposure      38\n",
              "BsmtFinType1      37\n",
              "BsmtFinType2      38\n",
              "Electrical         1\n",
              "FireplaceQu      690\n",
              "GarageType        81\n",
              "GarageYrBlt       81\n",
              "GarageFinish      81\n",
              "GarageQual        81\n",
              "GarageCond        81\n",
              "PoolQC          1453\n",
              "Fence           1179\n",
              "MiscFeature     1406\n",
              "dtype: int64"
            ]
          },
          "metadata": {},
          "execution_count": 39
        }
      ],
      "source": [
        "null_value_stats = X.isnull().sum(axis=0)\n",
        "null_value_stats[null_value_stats != 0]"
      ]
    },
    {
      "cell_type": "code",
      "execution_count": 40,
      "metadata": {
        "id": "9LDpVs8mzGju"
      },
      "outputs": [],
      "source": [
        "fillna_values = {}\n",
        "for i in range(len(X.columns)):\n",
        "    if i in categorical_features_ids:\n",
        "        fillna_values[X.columns[i]] = '-9999'\n",
        "    else:\n",
        "        fillna_values[X.columns[i]] = -9999"
      ]
    },
    {
      "cell_type": "code",
      "execution_count": 41,
      "metadata": {
        "id": "UyZYrVR7zGju"
      },
      "outputs": [],
      "source": [
        "X.fillna(fillna_values, inplace=True)\n",
        "test_dataset.fillna(fillna_values, inplace=True)"
      ]
    },
    {
      "cell_type": "code",
      "execution_count": 42,
      "metadata": {
        "colab": {
          "base_uri": "https://localhost:8080/"
        },
        "id": "XOXXZHQOzGjv",
        "outputId": "96797b82-076d-436d-85b8-2be4dc2b3dfd"
      },
      "outputs": [
        {
          "output_type": "execute_result",
          "data": {
            "text/plain": [
              "Series([], dtype: int64)"
            ]
          },
          "metadata": {},
          "execution_count": 42
        }
      ],
      "source": [
        "null_value_stats = X.isnull().sum(axis=0)\n",
        "null_value_stats[null_value_stats != 0]"
      ]
    },
    {
      "cell_type": "code",
      "source": [
        "null_value_stats = test_dataset.isnull().sum(axis=0)\n",
        "null_value_stats[null_value_stats != 0]"
      ],
      "metadata": {
        "colab": {
          "base_uri": "https://localhost:8080/"
        },
        "id": "AU0nczBR7qc4",
        "outputId": "493a0104-1fa1-473f-81cf-5dab67e92fc7"
      },
      "execution_count": 43,
      "outputs": [
        {
          "output_type": "execute_result",
          "data": {
            "text/plain": [
              "Series([], dtype: int64)"
            ]
          },
          "metadata": {},
          "execution_count": 43
        }
      ]
    },
    {
      "cell_type": "code",
      "execution_count": 46,
      "metadata": {
        "id": "gXc-barjzGjw"
      },
      "outputs": [],
      "source": [
        "train_pool = Pool(data=X, label=Y, cat_features=categorical_features_ids)\n",
        "test_pool = Pool(data=test_dataset, cat_features=categorical_features_ids)"
      ]
    },
    {
      "cell_type": "code",
      "execution_count": 47,
      "metadata": {
        "id": "eTUe8h4czGjx"
      },
      "outputs": [],
      "source": [
        "from sklearn.model_selection import train_test_split\n",
        "X_train, X_validation, y_train, y_validation = train_test_split(X, Y, train_size=0.8, random_state=1234)"
      ]
    },
    {
      "cell_type": "code",
      "execution_count": 48,
      "metadata": {
        "colab": {
          "base_uri": "https://localhost:8080/"
        },
        "id": "ifbCtH7RzGjx",
        "outputId": "60ba0dbc-e3da-4c7b-8a39-99ea053a74fb"
      },
      "outputs": [
        {
          "output_type": "stream",
          "name": "stdout",
          "text": [
            "0:\tlearn: 0.1076193\ttest: 0.1300566\tbest: 0.1300566 (0)\ttotal: 33.3ms\tremaining: 33.3s\n",
            "1:\tlearn: 0.0769245\ttest: 0.0988455\tbest: 0.0988455 (1)\ttotal: 57.7ms\tremaining: 28.8s\n",
            "2:\tlearn: 0.0588258\ttest: 0.0795822\tbest: 0.0795822 (2)\ttotal: 82.3ms\tremaining: 27.3s\n",
            "3:\tlearn: 0.0457882\ttest: 0.0654548\tbest: 0.0654548 (3)\ttotal: 104ms\tremaining: 25.8s\n",
            "4:\tlearn: 0.0385799\ttest: 0.0583046\tbest: 0.0583046 (4)\ttotal: 127ms\tremaining: 25.2s\n",
            "5:\tlearn: 0.0329835\ttest: 0.0520243\tbest: 0.0520243 (5)\ttotal: 150ms\tremaining: 24.9s\n",
            "6:\tlearn: 0.0298808\ttest: 0.0480195\tbest: 0.0480195 (6)\ttotal: 175ms\tremaining: 24.8s\n",
            "7:\tlearn: 0.0269425\ttest: 0.0449519\tbest: 0.0449519 (7)\ttotal: 201ms\tremaining: 24.9s\n",
            "8:\tlearn: 0.0243955\ttest: 0.0415916\tbest: 0.0415916 (8)\ttotal: 225ms\tremaining: 24.8s\n",
            "9:\tlearn: 0.0224364\ttest: 0.0382603\tbest: 0.0382603 (9)\ttotal: 258ms\tremaining: 25.5s\n",
            "10:\tlearn: 0.0217830\ttest: 0.0375816\tbest: 0.0375816 (10)\ttotal: 281ms\tremaining: 25.3s\n",
            "11:\tlearn: 0.0199712\ttest: 0.0350125\tbest: 0.0350125 (11)\ttotal: 302ms\tremaining: 24.8s\n",
            "12:\tlearn: 0.0187082\ttest: 0.0335307\tbest: 0.0335307 (12)\ttotal: 324ms\tremaining: 24.6s\n",
            "13:\tlearn: 0.0173167\ttest: 0.0322531\tbest: 0.0322531 (13)\ttotal: 352ms\tremaining: 24.8s\n",
            "14:\tlearn: 0.0166875\ttest: 0.0319174\tbest: 0.0319174 (14)\ttotal: 379ms\tremaining: 24.9s\n",
            "15:\tlearn: 0.0164544\ttest: 0.0317411\tbest: 0.0317411 (15)\ttotal: 406ms\tremaining: 25s\n",
            "16:\tlearn: 0.0157758\ttest: 0.0308140\tbest: 0.0308140 (16)\ttotal: 429ms\tremaining: 24.8s\n",
            "17:\tlearn: 0.0150648\ttest: 0.0302321\tbest: 0.0302321 (17)\ttotal: 456ms\tremaining: 24.9s\n",
            "18:\tlearn: 0.0141001\ttest: 0.0290922\tbest: 0.0290922 (18)\ttotal: 497ms\tremaining: 25.7s\n",
            "19:\tlearn: 0.0141007\ttest: 0.0291023\tbest: 0.0290922 (18)\ttotal: 517ms\tremaining: 25.3s\n",
            "20:\tlearn: 0.0134171\ttest: 0.0282811\tbest: 0.0282811 (20)\ttotal: 541ms\tremaining: 25.2s\n",
            "21:\tlearn: 0.0129157\ttest: 0.0280469\tbest: 0.0280469 (21)\ttotal: 565ms\tremaining: 25.1s\n",
            "22:\tlearn: 0.0128481\ttest: 0.0278023\tbest: 0.0278023 (22)\ttotal: 590ms\tremaining: 25.1s\n",
            "23:\tlearn: 0.0125638\ttest: 0.0276137\tbest: 0.0276137 (23)\ttotal: 613ms\tremaining: 24.9s\n",
            "24:\tlearn: 0.0123551\ttest: 0.0274614\tbest: 0.0274614 (24)\ttotal: 639ms\tremaining: 24.9s\n",
            "25:\tlearn: 0.0119962\ttest: 0.0272430\tbest: 0.0272430 (25)\ttotal: 664ms\tremaining: 24.9s\n",
            "26:\tlearn: 0.0119620\ttest: 0.0272256\tbest: 0.0272256 (26)\ttotal: 694ms\tremaining: 25s\n",
            "27:\tlearn: 0.0116986\ttest: 0.0271844\tbest: 0.0271844 (27)\ttotal: 726ms\tremaining: 25.2s\n",
            "28:\tlearn: 0.0115279\ttest: 0.0271208\tbest: 0.0271208 (28)\ttotal: 757ms\tremaining: 25.3s\n",
            "29:\tlearn: 0.0115018\ttest: 0.0271074\tbest: 0.0271074 (29)\ttotal: 782ms\tremaining: 25.3s\n",
            "30:\tlearn: 0.0107691\ttest: 0.0260281\tbest: 0.0260281 (30)\ttotal: 806ms\tremaining: 25.2s\n",
            "31:\tlearn: 0.0107565\ttest: 0.0260888\tbest: 0.0260281 (30)\ttotal: 833ms\tremaining: 25.2s\n",
            "32:\tlearn: 0.0102936\ttest: 0.0257581\tbest: 0.0257581 (32)\ttotal: 855ms\tremaining: 25.1s\n",
            "33:\tlearn: 0.0100564\ttest: 0.0256784\tbest: 0.0256784 (33)\ttotal: 880ms\tremaining: 25s\n",
            "34:\tlearn: 0.0099357\ttest: 0.0255196\tbest: 0.0255196 (34)\ttotal: 905ms\tremaining: 25s\n",
            "35:\tlearn: 0.0095745\ttest: 0.0249875\tbest: 0.0249875 (35)\ttotal: 932ms\tremaining: 24.9s\n",
            "36:\tlearn: 0.0094405\ttest: 0.0249752\tbest: 0.0249752 (36)\ttotal: 956ms\tremaining: 24.9s\n",
            "37:\tlearn: 0.0093036\ttest: 0.0247746\tbest: 0.0247746 (37)\ttotal: 981ms\tremaining: 24.8s\n",
            "38:\tlearn: 0.0092127\ttest: 0.0247417\tbest: 0.0247417 (38)\ttotal: 1s\tremaining: 24.8s\n",
            "39:\tlearn: 0.0089630\ttest: 0.0246031\tbest: 0.0246031 (39)\ttotal: 1.03s\tremaining: 24.8s\n",
            "40:\tlearn: 0.0086933\ttest: 0.0245839\tbest: 0.0245839 (40)\ttotal: 1.06s\tremaining: 24.8s\n",
            "41:\tlearn: 0.0086336\ttest: 0.0245362\tbest: 0.0245362 (41)\ttotal: 1.08s\tremaining: 24.6s\n",
            "42:\tlearn: 0.0084864\ttest: 0.0243620\tbest: 0.0243620 (42)\ttotal: 1.1s\tremaining: 24.6s\n",
            "43:\tlearn: 0.0082421\ttest: 0.0240870\tbest: 0.0240870 (43)\ttotal: 1.14s\tremaining: 24.7s\n",
            "44:\tlearn: 0.0082319\ttest: 0.0240838\tbest: 0.0240838 (44)\ttotal: 1.17s\tremaining: 24.7s\n",
            "45:\tlearn: 0.0079759\ttest: 0.0239511\tbest: 0.0239511 (45)\ttotal: 1.19s\tremaining: 24.7s\n",
            "46:\tlearn: 0.0079556\ttest: 0.0239660\tbest: 0.0239511 (45)\ttotal: 1.22s\tremaining: 24.7s\n",
            "47:\tlearn: 0.0079345\ttest: 0.0239465\tbest: 0.0239465 (47)\ttotal: 1.24s\tremaining: 24.7s\n",
            "48:\tlearn: 0.0076903\ttest: 0.0239750\tbest: 0.0239465 (47)\ttotal: 1.26s\tremaining: 24.6s\n",
            "49:\tlearn: 0.0076551\ttest: 0.0239795\tbest: 0.0239465 (47)\ttotal: 1.29s\tremaining: 24.5s\n",
            "50:\tlearn: 0.0075302\ttest: 0.0239696\tbest: 0.0239465 (47)\ttotal: 1.31s\tremaining: 24.5s\n",
            "51:\tlearn: 0.0074487\ttest: 0.0239115\tbest: 0.0239115 (51)\ttotal: 1.34s\tremaining: 24.4s\n",
            "52:\tlearn: 0.0072703\ttest: 0.0236742\tbest: 0.0236742 (52)\ttotal: 1.36s\tremaining: 24.3s\n",
            "53:\tlearn: 0.0071039\ttest: 0.0235675\tbest: 0.0235675 (53)\ttotal: 1.39s\tremaining: 24.3s\n",
            "54:\tlearn: 0.0070430\ttest: 0.0235546\tbest: 0.0235546 (54)\ttotal: 1.41s\tremaining: 24.3s\n",
            "55:\tlearn: 0.0068107\ttest: 0.0233056\tbest: 0.0233056 (55)\ttotal: 1.43s\tremaining: 24.2s\n",
            "56:\tlearn: 0.0067385\ttest: 0.0232916\tbest: 0.0232916 (56)\ttotal: 1.46s\tremaining: 24.1s\n",
            "57:\tlearn: 0.0066822\ttest: 0.0232291\tbest: 0.0232291 (57)\ttotal: 1.49s\tremaining: 24.1s\n",
            "58:\tlearn: 0.0066134\ttest: 0.0233012\tbest: 0.0232291 (57)\ttotal: 1.51s\tremaining: 24.1s\n",
            "59:\tlearn: 0.0065833\ttest: 0.0233095\tbest: 0.0232291 (57)\ttotal: 1.54s\tremaining: 24.1s\n",
            "60:\tlearn: 0.0065505\ttest: 0.0233192\tbest: 0.0232291 (57)\ttotal: 1.57s\tremaining: 24.2s\n",
            "61:\tlearn: 0.0064932\ttest: 0.0232815\tbest: 0.0232291 (57)\ttotal: 1.6s\tremaining: 24.2s\n",
            "62:\tlearn: 0.0064274\ttest: 0.0233171\tbest: 0.0232291 (57)\ttotal: 1.62s\tremaining: 24.1s\n",
            "63:\tlearn: 0.0063683\ttest: 0.0232024\tbest: 0.0232024 (63)\ttotal: 1.64s\tremaining: 24s\n",
            "64:\tlearn: 0.0062902\ttest: 0.0231351\tbest: 0.0231351 (64)\ttotal: 1.67s\tremaining: 24.1s\n",
            "65:\tlearn: 0.0062338\ttest: 0.0231297\tbest: 0.0231297 (65)\ttotal: 1.7s\tremaining: 24s\n",
            "66:\tlearn: 0.0061400\ttest: 0.0229726\tbest: 0.0229726 (66)\ttotal: 1.72s\tremaining: 23.9s\n",
            "67:\tlearn: 0.0060827\ttest: 0.0230100\tbest: 0.0229726 (66)\ttotal: 1.75s\tremaining: 24s\n",
            "68:\tlearn: 0.0058629\ttest: 0.0231288\tbest: 0.0229726 (66)\ttotal: 1.77s\tremaining: 23.9s\n",
            "69:\tlearn: 0.0058618\ttest: 0.0231115\tbest: 0.0229726 (66)\ttotal: 1.8s\tremaining: 23.9s\n",
            "70:\tlearn: 0.0057771\ttest: 0.0230810\tbest: 0.0229726 (66)\ttotal: 1.82s\tremaining: 23.9s\n",
            "71:\tlearn: 0.0057147\ttest: 0.0230573\tbest: 0.0229726 (66)\ttotal: 1.85s\tremaining: 23.9s\n",
            "72:\tlearn: 0.0056536\ttest: 0.0230526\tbest: 0.0229726 (66)\ttotal: 1.88s\tremaining: 23.9s\n",
            "73:\tlearn: 0.0055624\ttest: 0.0230129\tbest: 0.0229726 (66)\ttotal: 1.9s\tremaining: 23.8s\n",
            "74:\tlearn: 0.0054227\ttest: 0.0230498\tbest: 0.0229726 (66)\ttotal: 1.93s\tremaining: 23.8s\n",
            "75:\tlearn: 0.0053569\ttest: 0.0228462\tbest: 0.0228462 (75)\ttotal: 1.95s\tremaining: 23.7s\n",
            "76:\tlearn: 0.0053087\ttest: 0.0228689\tbest: 0.0228462 (75)\ttotal: 1.98s\tremaining: 23.7s\n",
            "77:\tlearn: 0.0052548\ttest: 0.0227689\tbest: 0.0227689 (77)\ttotal: 2s\tremaining: 23.7s\n",
            "78:\tlearn: 0.0052374\ttest: 0.0228104\tbest: 0.0227689 (77)\ttotal: 2.02s\tremaining: 23.6s\n",
            "79:\tlearn: 0.0052350\ttest: 0.0228135\tbest: 0.0227689 (77)\ttotal: 2.05s\tremaining: 23.6s\n",
            "80:\tlearn: 0.0051970\ttest: 0.0227881\tbest: 0.0227689 (77)\ttotal: 2.08s\tremaining: 23.6s\n",
            "81:\tlearn: 0.0050947\ttest: 0.0227212\tbest: 0.0227212 (81)\ttotal: 2.11s\tremaining: 23.6s\n",
            "82:\tlearn: 0.0049570\ttest: 0.0225824\tbest: 0.0225824 (82)\ttotal: 2.13s\tremaining: 23.5s\n",
            "83:\tlearn: 0.0049558\ttest: 0.0225792\tbest: 0.0225792 (83)\ttotal: 2.16s\tremaining: 23.5s\n",
            "84:\tlearn: 0.0049490\ttest: 0.0225796\tbest: 0.0225792 (83)\ttotal: 2.19s\tremaining: 23.5s\n",
            "85:\tlearn: 0.0049411\ttest: 0.0226443\tbest: 0.0225792 (83)\ttotal: 2.21s\tremaining: 23.5s\n",
            "86:\tlearn: 0.0047773\ttest: 0.0224550\tbest: 0.0224550 (86)\ttotal: 2.24s\tremaining: 23.5s\n",
            "87:\tlearn: 0.0047716\ttest: 0.0224429\tbest: 0.0224429 (87)\ttotal: 2.26s\tremaining: 23.4s\n",
            "88:\tlearn: 0.0047567\ttest: 0.0224379\tbest: 0.0224379 (88)\ttotal: 2.28s\tremaining: 23.3s\n",
            "89:\tlearn: 0.0047020\ttest: 0.0224069\tbest: 0.0224069 (89)\ttotal: 2.3s\tremaining: 23.3s\n",
            "90:\tlearn: 0.0046399\ttest: 0.0224513\tbest: 0.0224069 (89)\ttotal: 2.33s\tremaining: 23.2s\n",
            "91:\tlearn: 0.0045891\ttest: 0.0225360\tbest: 0.0224069 (89)\ttotal: 2.35s\tremaining: 23.2s\n",
            "92:\tlearn: 0.0045653\ttest: 0.0226080\tbest: 0.0224069 (89)\ttotal: 2.38s\tremaining: 23.2s\n",
            "93:\tlearn: 0.0045332\ttest: 0.0225632\tbest: 0.0224069 (89)\ttotal: 2.4s\tremaining: 23.2s\n",
            "94:\tlearn: 0.0044837\ttest: 0.0227454\tbest: 0.0224069 (89)\ttotal: 2.42s\tremaining: 23.1s\n",
            "95:\tlearn: 0.0044819\ttest: 0.0227425\tbest: 0.0224069 (89)\ttotal: 2.46s\tremaining: 23.1s\n",
            "96:\tlearn: 0.0043906\ttest: 0.0226850\tbest: 0.0224069 (89)\ttotal: 2.48s\tremaining: 23.1s\n",
            "97:\tlearn: 0.0043267\ttest: 0.0226299\tbest: 0.0224069 (89)\ttotal: 2.5s\tremaining: 23s\n",
            "98:\tlearn: 0.0042565\ttest: 0.0227138\tbest: 0.0224069 (89)\ttotal: 2.52s\tremaining: 23s\n",
            "99:\tlearn: 0.0042213\ttest: 0.0227155\tbest: 0.0224069 (89)\ttotal: 2.55s\tremaining: 22.9s\n",
            "100:\tlearn: 0.0041042\ttest: 0.0227825\tbest: 0.0224069 (89)\ttotal: 2.57s\tremaining: 22.9s\n",
            "101:\tlearn: 0.0040755\ttest: 0.0227669\tbest: 0.0224069 (89)\ttotal: 2.6s\tremaining: 22.9s\n",
            "102:\tlearn: 0.0040214\ttest: 0.0227567\tbest: 0.0224069 (89)\ttotal: 2.63s\tremaining: 22.9s\n",
            "103:\tlearn: 0.0039692\ttest: 0.0227257\tbest: 0.0224069 (89)\ttotal: 2.65s\tremaining: 22.9s\n",
            "104:\tlearn: 0.0039232\ttest: 0.0228580\tbest: 0.0224069 (89)\ttotal: 2.68s\tremaining: 22.8s\n",
            "105:\tlearn: 0.0038775\ttest: 0.0228888\tbest: 0.0224069 (89)\ttotal: 2.71s\tremaining: 22.8s\n",
            "106:\tlearn: 0.0038576\ttest: 0.0228861\tbest: 0.0224069 (89)\ttotal: 2.73s\tremaining: 22.8s\n",
            "107:\tlearn: 0.0038257\ttest: 0.0228821\tbest: 0.0224069 (89)\ttotal: 2.76s\tremaining: 22.8s\n",
            "108:\tlearn: 0.0038088\ttest: 0.0228736\tbest: 0.0224069 (89)\ttotal: 2.78s\tremaining: 22.8s\n",
            "109:\tlearn: 0.0037590\ttest: 0.0228296\tbest: 0.0224069 (89)\ttotal: 2.8s\tremaining: 22.7s\n",
            "110:\tlearn: 0.0036843\ttest: 0.0229574\tbest: 0.0224069 (89)\ttotal: 2.84s\tremaining: 22.7s\n",
            "111:\tlearn: 0.0036503\ttest: 0.0229991\tbest: 0.0224069 (89)\ttotal: 2.86s\tremaining: 22.7s\n",
            "112:\tlearn: 0.0036382\ttest: 0.0229955\tbest: 0.0224069 (89)\ttotal: 2.89s\tremaining: 22.7s\n",
            "113:\tlearn: 0.0035764\ttest: 0.0229915\tbest: 0.0224069 (89)\ttotal: 2.91s\tremaining: 22.6s\n",
            "114:\tlearn: 0.0035161\ttest: 0.0229697\tbest: 0.0224069 (89)\ttotal: 2.93s\tremaining: 22.6s\n",
            "115:\tlearn: 0.0034912\ttest: 0.0229257\tbest: 0.0224069 (89)\ttotal: 2.96s\tremaining: 22.5s\n",
            "116:\tlearn: 0.0034694\ttest: 0.0230188\tbest: 0.0224069 (89)\ttotal: 2.98s\tremaining: 22.5s\n",
            "117:\tlearn: 0.0034051\ttest: 0.0230342\tbest: 0.0224069 (89)\ttotal: 3s\tremaining: 22.4s\n",
            "118:\tlearn: 0.0033553\ttest: 0.0230077\tbest: 0.0224069 (89)\ttotal: 3.03s\tremaining: 22.4s\n",
            "119:\tlearn: 0.0033356\ttest: 0.0230260\tbest: 0.0224069 (89)\ttotal: 3.06s\tremaining: 22.4s\n",
            "120:\tlearn: 0.0033172\ttest: 0.0230423\tbest: 0.0224069 (89)\ttotal: 3.1s\tremaining: 22.5s\n",
            "121:\tlearn: 0.0033068\ttest: 0.0230634\tbest: 0.0224069 (89)\ttotal: 3.13s\tremaining: 22.5s\n",
            "122:\tlearn: 0.0032813\ttest: 0.0230595\tbest: 0.0224069 (89)\ttotal: 3.15s\tremaining: 22.5s\n",
            "123:\tlearn: 0.0032670\ttest: 0.0230696\tbest: 0.0224069 (89)\ttotal: 3.17s\tremaining: 22.4s\n",
            "124:\tlearn: 0.0032460\ttest: 0.0230642\tbest: 0.0224069 (89)\ttotal: 3.19s\tremaining: 22.4s\n",
            "125:\tlearn: 0.0032147\ttest: 0.0230808\tbest: 0.0224069 (89)\ttotal: 3.22s\tremaining: 22.4s\n",
            "126:\tlearn: 0.0031925\ttest: 0.0230121\tbest: 0.0224069 (89)\ttotal: 3.25s\tremaining: 22.3s\n",
            "127:\tlearn: 0.0031710\ttest: 0.0230316\tbest: 0.0224069 (89)\ttotal: 3.27s\tremaining: 22.3s\n",
            "128:\tlearn: 0.0031544\ttest: 0.0230169\tbest: 0.0224069 (89)\ttotal: 3.29s\tremaining: 22.2s\n",
            "129:\tlearn: 0.0031417\ttest: 0.0229970\tbest: 0.0224069 (89)\ttotal: 3.31s\tremaining: 22.2s\n",
            "130:\tlearn: 0.0031401\ttest: 0.0229728\tbest: 0.0224069 (89)\ttotal: 3.34s\tremaining: 22.2s\n",
            "131:\tlearn: 0.0030506\ttest: 0.0229002\tbest: 0.0224069 (89)\ttotal: 3.37s\tremaining: 22.2s\n",
            "132:\tlearn: 0.0030480\ttest: 0.0230340\tbest: 0.0224069 (89)\ttotal: 3.4s\tremaining: 22.1s\n",
            "133:\tlearn: 0.0030076\ttest: 0.0230064\tbest: 0.0224069 (89)\ttotal: 3.42s\tremaining: 22.1s\n",
            "134:\tlearn: 0.0029881\ttest: 0.0229791\tbest: 0.0224069 (89)\ttotal: 3.44s\tremaining: 22.1s\n",
            "135:\tlearn: 0.0029859\ttest: 0.0229743\tbest: 0.0224069 (89)\ttotal: 3.47s\tremaining: 22s\n",
            "136:\tlearn: 0.0029569\ttest: 0.0229473\tbest: 0.0224069 (89)\ttotal: 3.49s\tremaining: 22s\n",
            "137:\tlearn: 0.0029532\ttest: 0.0229391\tbest: 0.0224069 (89)\ttotal: 3.52s\tremaining: 22s\n",
            "138:\tlearn: 0.0029472\ttest: 0.0229234\tbest: 0.0224069 (89)\ttotal: 3.54s\tremaining: 21.9s\n",
            "139:\tlearn: 0.0029251\ttest: 0.0228477\tbest: 0.0224069 (89)\ttotal: 3.56s\tremaining: 21.8s\n",
            "140:\tlearn: 0.0029226\ttest: 0.0228397\tbest: 0.0224069 (89)\ttotal: 3.58s\tremaining: 21.8s\n",
            "141:\tlearn: 0.0029119\ttest: 0.0229044\tbest: 0.0224069 (89)\ttotal: 3.6s\tremaining: 21.8s\n",
            "142:\tlearn: 0.0028680\ttest: 0.0229797\tbest: 0.0224069 (89)\ttotal: 3.63s\tremaining: 21.7s\n",
            "143:\tlearn: 0.0028549\ttest: 0.0229851\tbest: 0.0224069 (89)\ttotal: 3.66s\tremaining: 21.7s\n",
            "144:\tlearn: 0.0028407\ttest: 0.0230057\tbest: 0.0224069 (89)\ttotal: 3.69s\tremaining: 21.7s\n",
            "145:\tlearn: 0.0028357\ttest: 0.0230004\tbest: 0.0224069 (89)\ttotal: 3.71s\tremaining: 21.7s\n",
            "146:\tlearn: 0.0028203\ttest: 0.0230240\tbest: 0.0224069 (89)\ttotal: 3.74s\tremaining: 21.7s\n",
            "147:\tlearn: 0.0027878\ttest: 0.0231425\tbest: 0.0224069 (89)\ttotal: 3.77s\tremaining: 21.7s\n",
            "148:\tlearn: 0.0027341\ttest: 0.0230635\tbest: 0.0224069 (89)\ttotal: 3.79s\tremaining: 21.7s\n",
            "149:\tlearn: 0.0027324\ttest: 0.0230193\tbest: 0.0224069 (89)\ttotal: 3.82s\tremaining: 21.6s\n",
            "150:\tlearn: 0.0027174\ttest: 0.0230171\tbest: 0.0224069 (89)\ttotal: 3.86s\tremaining: 21.7s\n",
            "151:\tlearn: 0.0026508\ttest: 0.0227781\tbest: 0.0224069 (89)\ttotal: 3.88s\tremaining: 21.6s\n",
            "152:\tlearn: 0.0026362\ttest: 0.0227601\tbest: 0.0224069 (89)\ttotal: 3.91s\tremaining: 21.6s\n",
            "153:\tlearn: 0.0025773\ttest: 0.0227752\tbest: 0.0224069 (89)\ttotal: 3.94s\tremaining: 21.6s\n",
            "154:\tlearn: 0.0025603\ttest: 0.0227373\tbest: 0.0224069 (89)\ttotal: 3.96s\tremaining: 21.6s\n",
            "155:\tlearn: 0.0025573\ttest: 0.0227603\tbest: 0.0224069 (89)\ttotal: 3.99s\tremaining: 21.6s\n",
            "156:\tlearn: 0.0025140\ttest: 0.0227198\tbest: 0.0224069 (89)\ttotal: 4.01s\tremaining: 21.5s\n",
            "157:\tlearn: 0.0025060\ttest: 0.0226858\tbest: 0.0224069 (89)\ttotal: 4.03s\tremaining: 21.5s\n",
            "158:\tlearn: 0.0024941\ttest: 0.0227052\tbest: 0.0224069 (89)\ttotal: 4.06s\tremaining: 21.5s\n",
            "159:\tlearn: 0.0024594\ttest: 0.0226582\tbest: 0.0224069 (89)\ttotal: 4.09s\tremaining: 21.5s\n",
            "160:\tlearn: 0.0024569\ttest: 0.0226543\tbest: 0.0224069 (89)\ttotal: 4.12s\tremaining: 21.5s\n",
            "161:\tlearn: 0.0024332\ttest: 0.0226400\tbest: 0.0224069 (89)\ttotal: 4.15s\tremaining: 21.5s\n",
            "162:\tlearn: 0.0024048\ttest: 0.0224316\tbest: 0.0224069 (89)\ttotal: 4.18s\tremaining: 21.5s\n",
            "163:\tlearn: 0.0023808\ttest: 0.0223646\tbest: 0.0223646 (163)\ttotal: 4.2s\tremaining: 21.4s\n",
            "164:\tlearn: 0.0023643\ttest: 0.0223471\tbest: 0.0223471 (164)\ttotal: 4.23s\tremaining: 21.4s\n",
            "165:\tlearn: 0.0023411\ttest: 0.0223265\tbest: 0.0223265 (165)\ttotal: 4.26s\tremaining: 21.4s\n",
            "166:\tlearn: 0.0023065\ttest: 0.0223365\tbest: 0.0223265 (165)\ttotal: 4.28s\tremaining: 21.4s\n",
            "167:\tlearn: 0.0023057\ttest: 0.0223395\tbest: 0.0223265 (165)\ttotal: 4.31s\tremaining: 21.3s\n",
            "168:\tlearn: 0.0022937\ttest: 0.0223811\tbest: 0.0223265 (165)\ttotal: 4.34s\tremaining: 21.3s\n",
            "169:\tlearn: 0.0022921\ttest: 0.0223819\tbest: 0.0223265 (165)\ttotal: 4.36s\tremaining: 21.3s\n",
            "170:\tlearn: 0.0022502\ttest: 0.0224010\tbest: 0.0223265 (165)\ttotal: 4.38s\tremaining: 21.3s\n",
            "171:\tlearn: 0.0022382\ttest: 0.0223744\tbest: 0.0223265 (165)\ttotal: 4.41s\tremaining: 21.2s\n",
            "172:\tlearn: 0.0021818\ttest: 0.0224477\tbest: 0.0223265 (165)\ttotal: 4.43s\tremaining: 21.2s\n",
            "173:\tlearn: 0.0021784\ttest: 0.0224466\tbest: 0.0223265 (165)\ttotal: 4.46s\tremaining: 21.2s\n",
            "174:\tlearn: 0.0021634\ttest: 0.0224166\tbest: 0.0223265 (165)\ttotal: 4.48s\tremaining: 21.1s\n",
            "175:\tlearn: 0.0021629\ttest: 0.0224148\tbest: 0.0223265 (165)\ttotal: 4.51s\tremaining: 21.1s\n",
            "176:\tlearn: 0.0021470\ttest: 0.0224049\tbest: 0.0223265 (165)\ttotal: 4.53s\tremaining: 21.1s\n",
            "177:\tlearn: 0.0021460\ttest: 0.0223907\tbest: 0.0223265 (165)\ttotal: 4.57s\tremaining: 21.1s\n",
            "178:\tlearn: 0.0021258\ttest: 0.0224139\tbest: 0.0223265 (165)\ttotal: 4.59s\tremaining: 21.1s\n",
            "179:\tlearn: 0.0021064\ttest: 0.0223992\tbest: 0.0223265 (165)\ttotal: 4.63s\tremaining: 21.1s\n",
            "180:\tlearn: 0.0021055\ttest: 0.0223878\tbest: 0.0223265 (165)\ttotal: 4.66s\tremaining: 21.1s\n",
            "181:\tlearn: 0.0020824\ttest: 0.0223031\tbest: 0.0223031 (181)\ttotal: 4.69s\tremaining: 21.1s\n",
            "182:\tlearn: 0.0020809\ttest: 0.0222822\tbest: 0.0222822 (182)\ttotal: 4.72s\tremaining: 21.1s\n",
            "183:\tlearn: 0.0020632\ttest: 0.0222824\tbest: 0.0222822 (182)\ttotal: 4.74s\tremaining: 21s\n",
            "184:\tlearn: 0.0020615\ttest: 0.0222848\tbest: 0.0222822 (182)\ttotal: 4.76s\tremaining: 21s\n",
            "185:\tlearn: 0.0020464\ttest: 0.0222731\tbest: 0.0222731 (185)\ttotal: 4.79s\tremaining: 20.9s\n",
            "186:\tlearn: 0.0020156\ttest: 0.0222720\tbest: 0.0222720 (186)\ttotal: 4.83s\tremaining: 21s\n",
            "187:\tlearn: 0.0019962\ttest: 0.0222656\tbest: 0.0222656 (187)\ttotal: 4.87s\tremaining: 21.1s\n",
            "188:\tlearn: 0.0019847\ttest: 0.0222496\tbest: 0.0222496 (188)\ttotal: 4.93s\tremaining: 21.1s\n",
            "189:\tlearn: 0.0019840\ttest: 0.0222334\tbest: 0.0222334 (189)\ttotal: 4.96s\tremaining: 21.1s\n",
            "190:\tlearn: 0.0019649\ttest: 0.0223046\tbest: 0.0222334 (189)\ttotal: 5s\tremaining: 21.2s\n",
            "191:\tlearn: 0.0019564\ttest: 0.0223194\tbest: 0.0222334 (189)\ttotal: 5.03s\tremaining: 21.2s\n",
            "192:\tlearn: 0.0019349\ttest: 0.0223768\tbest: 0.0222334 (189)\ttotal: 5.05s\tremaining: 21.1s\n",
            "193:\tlearn: 0.0019250\ttest: 0.0223716\tbest: 0.0222334 (189)\ttotal: 5.1s\tremaining: 21.2s\n",
            "194:\tlearn: 0.0019187\ttest: 0.0224015\tbest: 0.0222334 (189)\ttotal: 5.14s\tremaining: 21.2s\n",
            "195:\tlearn: 0.0018954\ttest: 0.0224247\tbest: 0.0222334 (189)\ttotal: 5.18s\tremaining: 21.2s\n",
            "196:\tlearn: 0.0018832\ttest: 0.0224417\tbest: 0.0222334 (189)\ttotal: 5.23s\tremaining: 21.3s\n",
            "197:\tlearn: 0.0018550\ttest: 0.0224656\tbest: 0.0222334 (189)\ttotal: 5.26s\tremaining: 21.3s\n",
            "198:\tlearn: 0.0018259\ttest: 0.0225660\tbest: 0.0222334 (189)\ttotal: 5.3s\tremaining: 21.3s\n",
            "199:\tlearn: 0.0018089\ttest: 0.0225620\tbest: 0.0222334 (189)\ttotal: 5.34s\tremaining: 21.4s\n",
            "200:\tlearn: 0.0018082\ttest: 0.0225572\tbest: 0.0222334 (189)\ttotal: 5.38s\tremaining: 21.4s\n",
            "201:\tlearn: 0.0018003\ttest: 0.0225066\tbest: 0.0222334 (189)\ttotal: 5.42s\tremaining: 21.4s\n",
            "202:\tlearn: 0.0017808\ttest: 0.0225018\tbest: 0.0222334 (189)\ttotal: 5.47s\tremaining: 21.5s\n",
            "203:\tlearn: 0.0017510\ttest: 0.0224899\tbest: 0.0222334 (189)\ttotal: 5.51s\tremaining: 21.5s\n",
            "204:\tlearn: 0.0017443\ttest: 0.0225010\tbest: 0.0222334 (189)\ttotal: 5.56s\tremaining: 21.6s\n",
            "205:\tlearn: 0.0017392\ttest: 0.0225009\tbest: 0.0222334 (189)\ttotal: 5.61s\tremaining: 21.6s\n",
            "206:\tlearn: 0.0017297\ttest: 0.0225388\tbest: 0.0222334 (189)\ttotal: 5.65s\tremaining: 21.7s\n",
            "207:\tlearn: 0.0017283\ttest: 0.0225343\tbest: 0.0222334 (189)\ttotal: 5.7s\tremaining: 21.7s\n",
            "208:\tlearn: 0.0017061\ttest: 0.0224937\tbest: 0.0222334 (189)\ttotal: 5.74s\tremaining: 21.7s\n",
            "209:\tlearn: 0.0016946\ttest: 0.0224638\tbest: 0.0222334 (189)\ttotal: 5.77s\tremaining: 21.7s\n",
            "210:\tlearn: 0.0016834\ttest: 0.0224681\tbest: 0.0222334 (189)\ttotal: 5.82s\tremaining: 21.7s\n",
            "211:\tlearn: 0.0016797\ttest: 0.0224516\tbest: 0.0222334 (189)\ttotal: 5.86s\tremaining: 21.8s\n",
            "212:\tlearn: 0.0016467\ttest: 0.0225177\tbest: 0.0222334 (189)\ttotal: 5.91s\tremaining: 21.9s\n",
            "213:\tlearn: 0.0016384\ttest: 0.0225157\tbest: 0.0222334 (189)\ttotal: 5.96s\tremaining: 21.9s\n",
            "214:\tlearn: 0.0016268\ttest: 0.0224847\tbest: 0.0222334 (189)\ttotal: 6.01s\tremaining: 21.9s\n",
            "215:\tlearn: 0.0016177\ttest: 0.0225232\tbest: 0.0222334 (189)\ttotal: 6.05s\tremaining: 21.9s\n",
            "216:\tlearn: 0.0015857\ttest: 0.0225558\tbest: 0.0222334 (189)\ttotal: 6.09s\tremaining: 22s\n",
            "217:\tlearn: 0.0015770\ttest: 0.0225306\tbest: 0.0222334 (189)\ttotal: 6.14s\tremaining: 22s\n",
            "218:\tlearn: 0.0015663\ttest: 0.0225467\tbest: 0.0222334 (189)\ttotal: 6.19s\tremaining: 22.1s\n",
            "219:\tlearn: 0.0015542\ttest: 0.0225472\tbest: 0.0222334 (189)\ttotal: 6.24s\tremaining: 22.1s\n",
            "220:\tlearn: 0.0015516\ttest: 0.0225453\tbest: 0.0222334 (189)\ttotal: 6.28s\tremaining: 22.2s\n",
            "221:\tlearn: 0.0015446\ttest: 0.0225774\tbest: 0.0222334 (189)\ttotal: 6.31s\tremaining: 22.1s\n",
            "222:\tlearn: 0.0015255\ttest: 0.0225448\tbest: 0.0222334 (189)\ttotal: 6.36s\tremaining: 22.2s\n",
            "223:\tlearn: 0.0015252\ttest: 0.0225388\tbest: 0.0222334 (189)\ttotal: 6.41s\tremaining: 22.2s\n",
            "224:\tlearn: 0.0014992\ttest: 0.0225271\tbest: 0.0222334 (189)\ttotal: 6.45s\tremaining: 22.2s\n",
            "225:\tlearn: 0.0014887\ttest: 0.0225061\tbest: 0.0222334 (189)\ttotal: 6.5s\tremaining: 22.3s\n",
            "226:\tlearn: 0.0014866\ttest: 0.0225237\tbest: 0.0222334 (189)\ttotal: 6.55s\tremaining: 22.3s\n",
            "227:\tlearn: 0.0014396\ttest: 0.0224895\tbest: 0.0222334 (189)\ttotal: 6.59s\tremaining: 22.3s\n",
            "228:\tlearn: 0.0014380\ttest: 0.0225309\tbest: 0.0222334 (189)\ttotal: 6.64s\tremaining: 22.3s\n",
            "229:\tlearn: 0.0014368\ttest: 0.0225202\tbest: 0.0222334 (189)\ttotal: 6.69s\tremaining: 22.4s\n",
            "230:\tlearn: 0.0014325\ttest: 0.0224955\tbest: 0.0222334 (189)\ttotal: 6.72s\tremaining: 22.4s\n",
            "231:\tlearn: 0.0014249\ttest: 0.0224656\tbest: 0.0222334 (189)\ttotal: 6.76s\tremaining: 22.4s\n",
            "232:\tlearn: 0.0014143\ttest: 0.0224423\tbest: 0.0222334 (189)\ttotal: 6.82s\tremaining: 22.4s\n",
            "233:\tlearn: 0.0013986\ttest: 0.0223913\tbest: 0.0222334 (189)\ttotal: 6.85s\tremaining: 22.4s\n",
            "234:\tlearn: 0.0013770\ttest: 0.0223610\tbest: 0.0222334 (189)\ttotal: 6.9s\tremaining: 22.5s\n",
            "235:\tlearn: 0.0013669\ttest: 0.0223242\tbest: 0.0222334 (189)\ttotal: 6.94s\tremaining: 22.5s\n",
            "236:\tlearn: 0.0013272\ttest: 0.0223192\tbest: 0.0222334 (189)\ttotal: 6.99s\tremaining: 22.5s\n",
            "237:\tlearn: 0.0013075\ttest: 0.0223552\tbest: 0.0222334 (189)\ttotal: 7.04s\tremaining: 22.5s\n",
            "238:\tlearn: 0.0013024\ttest: 0.0223283\tbest: 0.0222334 (189)\ttotal: 7.08s\tremaining: 22.6s\n",
            "239:\tlearn: 0.0012826\ttest: 0.0223509\tbest: 0.0222334 (189)\ttotal: 7.13s\tremaining: 22.6s\n",
            "240:\tlearn: 0.0012775\ttest: 0.0223664\tbest: 0.0222334 (189)\ttotal: 7.18s\tremaining: 22.6s\n",
            "241:\tlearn: 0.0012670\ttest: 0.0223443\tbest: 0.0222334 (189)\ttotal: 7.24s\tremaining: 22.7s\n",
            "242:\tlearn: 0.0012625\ttest: 0.0223345\tbest: 0.0222334 (189)\ttotal: 7.29s\tremaining: 22.7s\n",
            "243:\tlearn: 0.0012536\ttest: 0.0222963\tbest: 0.0222334 (189)\ttotal: 7.32s\tremaining: 22.7s\n",
            "244:\tlearn: 0.0012344\ttest: 0.0222844\tbest: 0.0222334 (189)\ttotal: 7.36s\tremaining: 22.7s\n",
            "245:\tlearn: 0.0012275\ttest: 0.0223193\tbest: 0.0222334 (189)\ttotal: 7.41s\tremaining: 22.7s\n",
            "246:\tlearn: 0.0012239\ttest: 0.0223179\tbest: 0.0222334 (189)\ttotal: 7.46s\tremaining: 22.7s\n",
            "247:\tlearn: 0.0012093\ttest: 0.0223304\tbest: 0.0222334 (189)\ttotal: 7.5s\tremaining: 22.7s\n",
            "248:\tlearn: 0.0012049\ttest: 0.0223275\tbest: 0.0222334 (189)\ttotal: 7.55s\tremaining: 22.8s\n",
            "249:\tlearn: 0.0011845\ttest: 0.0223650\tbest: 0.0222334 (189)\ttotal: 7.59s\tremaining: 22.8s\n",
            "250:\tlearn: 0.0011716\ttest: 0.0224540\tbest: 0.0222334 (189)\ttotal: 7.64s\tremaining: 22.8s\n",
            "251:\tlearn: 0.0011715\ttest: 0.0224593\tbest: 0.0222334 (189)\ttotal: 7.69s\tremaining: 22.8s\n",
            "252:\tlearn: 0.0011619\ttest: 0.0224556\tbest: 0.0222334 (189)\ttotal: 7.74s\tremaining: 22.9s\n",
            "253:\tlearn: 0.0011586\ttest: 0.0224542\tbest: 0.0222334 (189)\ttotal: 7.79s\tremaining: 22.9s\n",
            "254:\tlearn: 0.0011506\ttest: 0.0224347\tbest: 0.0222334 (189)\ttotal: 7.83s\tremaining: 22.9s\n",
            "255:\tlearn: 0.0011414\ttest: 0.0224482\tbest: 0.0222334 (189)\ttotal: 7.88s\tremaining: 22.9s\n",
            "256:\tlearn: 0.0011350\ttest: 0.0224108\tbest: 0.0222334 (189)\ttotal: 7.93s\tremaining: 22.9s\n",
            "257:\tlearn: 0.0011309\ttest: 0.0223933\tbest: 0.0222334 (189)\ttotal: 7.98s\tremaining: 22.9s\n",
            "258:\tlearn: 0.0011276\ttest: 0.0224037\tbest: 0.0222334 (189)\ttotal: 8s\tremaining: 22.9s\n",
            "259:\tlearn: 0.0011274\ttest: 0.0223926\tbest: 0.0222334 (189)\ttotal: 8.03s\tremaining: 22.9s\n",
            "260:\tlearn: 0.0011219\ttest: 0.0223921\tbest: 0.0222334 (189)\ttotal: 8.05s\tremaining: 22.8s\n",
            "261:\tlearn: 0.0011173\ttest: 0.0223731\tbest: 0.0222334 (189)\ttotal: 8.07s\tremaining: 22.7s\n",
            "262:\tlearn: 0.0011164\ttest: 0.0223441\tbest: 0.0222334 (189)\ttotal: 8.1s\tremaining: 22.7s\n",
            "263:\tlearn: 0.0011006\ttest: 0.0223406\tbest: 0.0222334 (189)\ttotal: 8.13s\tremaining: 22.7s\n",
            "264:\tlearn: 0.0011014\ttest: 0.0223444\tbest: 0.0222334 (189)\ttotal: 8.16s\tremaining: 22.6s\n",
            "265:\tlearn: 0.0011011\ttest: 0.0223453\tbest: 0.0222334 (189)\ttotal: 8.19s\tremaining: 22.6s\n",
            "266:\tlearn: 0.0011006\ttest: 0.0223471\tbest: 0.0222334 (189)\ttotal: 8.21s\tremaining: 22.5s\n",
            "267:\tlearn: 0.0010884\ttest: 0.0223908\tbest: 0.0222334 (189)\ttotal: 8.25s\tremaining: 22.5s\n",
            "268:\tlearn: 0.0010821\ttest: 0.0223926\tbest: 0.0222334 (189)\ttotal: 8.28s\tremaining: 22.5s\n",
            "269:\tlearn: 0.0010687\ttest: 0.0224020\tbest: 0.0222334 (189)\ttotal: 8.3s\tremaining: 22.4s\n",
            "270:\tlearn: 0.0010633\ttest: 0.0224151\tbest: 0.0222334 (189)\ttotal: 8.32s\tremaining: 22.4s\n",
            "271:\tlearn: 0.0010556\ttest: 0.0223553\tbest: 0.0222334 (189)\ttotal: 8.35s\tremaining: 22.4s\n",
            "272:\tlearn: 0.0010280\ttest: 0.0223792\tbest: 0.0222334 (189)\ttotal: 8.38s\tremaining: 22.3s\n",
            "273:\tlearn: 0.0010125\ttest: 0.0223801\tbest: 0.0222334 (189)\ttotal: 8.4s\tremaining: 22.3s\n",
            "274:\tlearn: 0.0010093\ttest: 0.0223780\tbest: 0.0222334 (189)\ttotal: 8.43s\tremaining: 22.2s\n",
            "275:\tlearn: 0.0010082\ttest: 0.0223780\tbest: 0.0222334 (189)\ttotal: 8.45s\tremaining: 22.2s\n",
            "276:\tlearn: 0.0010078\ttest: 0.0223784\tbest: 0.0222334 (189)\ttotal: 8.48s\tremaining: 22.1s\n",
            "277:\tlearn: 0.0009971\ttest: 0.0223829\tbest: 0.0222334 (189)\ttotal: 8.51s\tremaining: 22.1s\n",
            "278:\tlearn: 0.0009945\ttest: 0.0223777\tbest: 0.0222334 (189)\ttotal: 8.53s\tremaining: 22s\n",
            "279:\tlearn: 0.0009730\ttest: 0.0223468\tbest: 0.0222334 (189)\ttotal: 8.55s\tremaining: 22s\n",
            "280:\tlearn: 0.0009676\ttest: 0.0223265\tbest: 0.0222334 (189)\ttotal: 8.58s\tremaining: 21.9s\n",
            "281:\tlearn: 0.0009622\ttest: 0.0223888\tbest: 0.0222334 (189)\ttotal: 8.61s\tremaining: 21.9s\n",
            "282:\tlearn: 0.0009535\ttest: 0.0223764\tbest: 0.0222334 (189)\ttotal: 8.63s\tremaining: 21.9s\n",
            "283:\tlearn: 0.0009494\ttest: 0.0223951\tbest: 0.0222334 (189)\ttotal: 8.65s\tremaining: 21.8s\n",
            "284:\tlearn: 0.0009363\ttest: 0.0223797\tbest: 0.0222334 (189)\ttotal: 8.68s\tremaining: 21.8s\n",
            "285:\tlearn: 0.0009293\ttest: 0.0223714\tbest: 0.0222334 (189)\ttotal: 8.7s\tremaining: 21.7s\n",
            "286:\tlearn: 0.0009282\ttest: 0.0223722\tbest: 0.0222334 (189)\ttotal: 8.72s\tremaining: 21.7s\n",
            "287:\tlearn: 0.0009246\ttest: 0.0223156\tbest: 0.0222334 (189)\ttotal: 8.75s\tremaining: 21.6s\n",
            "288:\tlearn: 0.0009230\ttest: 0.0223170\tbest: 0.0222334 (189)\ttotal: 8.77s\tremaining: 21.6s\n",
            "289:\tlearn: 0.0009158\ttest: 0.0222796\tbest: 0.0222334 (189)\ttotal: 8.79s\tremaining: 21.5s\n",
            "Stopped by overfitting detector  (100 iterations wait)\n",
            "\n",
            "bestTest = 0.0222333888\n",
            "bestIteration = 189\n",
            "\n",
            "Shrink model to first 190 iterations.\n"
          ]
        },
        {
          "output_type": "execute_result",
          "data": {
            "text/plain": [
              "<catboost.core.CatBoostRegressor at 0x7ca8165e0790>"
            ]
          },
          "metadata": {},
          "execution_count": 48
        }
      ],
      "source": [
        "from catboost import CatBoostRegressor\n",
        "\n",
        "model = CatBoostRegressor(\n",
        "    iterations=1000,\n",
        "    learning_rate=0.3,\n",
        "    early_stopping_rounds=100,\n",
        "    eval_metric='MSLE'\n",
        ")\n",
        "model.fit(\n",
        "    X_train, y_train,\n",
        "    cat_features=categorical_features_ids,\n",
        "    eval_set=(X_validation, y_validation),\n",
        "    verbose=True,\n",
        "    plot=False\n",
        ")"
      ]
    },
    {
      "cell_type": "code",
      "source": [
        "best_model = CatBoostRegressor(\n",
        "    iterations=int(model.tree_count_ * 1),\n",
        "    learning_rate=0.3,\n",
        "    eval_metric='MSLE'\n",
        ")\n",
        "best_model.fit(\n",
        "    train_pool,\n",
        "    verbose=100\n",
        ")"
      ],
      "metadata": {
        "colab": {
          "base_uri": "https://localhost:8080/"
        },
        "id": "fJzxM0WS3Xvr",
        "outputId": "2fafd2e4-4d59-4862-f3c6-9b3d4e8d62aa"
      },
      "execution_count": 57,
      "outputs": [
        {
          "output_type": "stream",
          "name": "stdout",
          "text": [
            "0:\tlearn: 0.1114886\ttotal: 10.8ms\tremaining: 2.03s\n",
            "100:\tlearn: 0.0052751\ttotal: 932ms\tremaining: 821ms\n",
            "189:\tlearn: 0.0026431\ttotal: 1.74s\tremaining: 0us\n"
          ]
        },
        {
          "output_type": "execute_result",
          "data": {
            "text/plain": [
              "<catboost.core.CatBoostRegressor at 0x7ca8038fa7a0>"
            ]
          },
          "metadata": {},
          "execution_count": 57
        }
      ]
    },
    {
      "cell_type": "code",
      "source": [
        "best_model.tree_count_"
      ],
      "metadata": {
        "colab": {
          "base_uri": "https://localhost:8080/"
        },
        "id": "DXgJad1u5RWv",
        "outputId": "336a136c-0e84-4be9-9dce-7f1507b15983"
      },
      "execution_count": 58,
      "outputs": [
        {
          "output_type": "execute_result",
          "data": {
            "text/plain": [
              "190"
            ]
          },
          "metadata": {},
          "execution_count": 58
        }
      ]
    },
    {
      "cell_type": "code",
      "source": [
        "Y_pred = best_model.predict(test_pool)\n",
        "print('Predictoins:')\n",
        "print(Y_pred)"
      ],
      "metadata": {
        "colab": {
          "base_uri": "https://localhost:8080/"
        },
        "id": "u6UCf-4B6Iao",
        "outputId": "3af940b7-3ba8-43f2-dc9d-55307996515a"
      },
      "execution_count": 59,
      "outputs": [
        {
          "output_type": "stream",
          "name": "stdout",
          "text": [
            "Predictoins:\n",
            "[117607.44348596 156970.25134855 185240.10542912 ... 169060.39970464\n",
            " 112166.50628668 223562.33635485]\n"
          ]
        }
      ]
    },
    {
      "cell_type": "code",
      "source": [
        "submission = pd.DataFrame()\n",
        "submission['Id'] = test_ids\n",
        "submission['SalePrice'] = Y_pred"
      ],
      "metadata": {
        "id": "gZ3eL2fI6yVj"
      },
      "execution_count": 60,
      "outputs": []
    },
    {
      "cell_type": "code",
      "source": [
        "submission.head()"
      ],
      "metadata": {
        "colab": {
          "base_uri": "https://localhost:8080/",
          "height": 206
        },
        "id": "31m_U9L08kDm",
        "outputId": "2e4180b0-11ad-4f33-965b-3c6d8304a0eb"
      },
      "execution_count": 61,
      "outputs": [
        {
          "output_type": "execute_result",
          "data": {
            "text/plain": [
              "     Id      SalePrice\n",
              "0  1461  117607.443486\n",
              "1  1462  156970.251349\n",
              "2  1463  185240.105429\n",
              "3  1464  196496.915797\n",
              "4  1465  190661.610962"
            ],
            "text/html": [
              "\n",
              "  <div id=\"df-d34553b6-8138-48c4-9ef9-f3aba3e76329\" class=\"colab-df-container\">\n",
              "    <div>\n",
              "<style scoped>\n",
              "    .dataframe tbody tr th:only-of-type {\n",
              "        vertical-align: middle;\n",
              "    }\n",
              "\n",
              "    .dataframe tbody tr th {\n",
              "        vertical-align: top;\n",
              "    }\n",
              "\n",
              "    .dataframe thead th {\n",
              "        text-align: right;\n",
              "    }\n",
              "</style>\n",
              "<table border=\"1\" class=\"dataframe\">\n",
              "  <thead>\n",
              "    <tr style=\"text-align: right;\">\n",
              "      <th></th>\n",
              "      <th>Id</th>\n",
              "      <th>SalePrice</th>\n",
              "    </tr>\n",
              "  </thead>\n",
              "  <tbody>\n",
              "    <tr>\n",
              "      <th>0</th>\n",
              "      <td>1461</td>\n",
              "      <td>117607.443486</td>\n",
              "    </tr>\n",
              "    <tr>\n",
              "      <th>1</th>\n",
              "      <td>1462</td>\n",
              "      <td>156970.251349</td>\n",
              "    </tr>\n",
              "    <tr>\n",
              "      <th>2</th>\n",
              "      <td>1463</td>\n",
              "      <td>185240.105429</td>\n",
              "    </tr>\n",
              "    <tr>\n",
              "      <th>3</th>\n",
              "      <td>1464</td>\n",
              "      <td>196496.915797</td>\n",
              "    </tr>\n",
              "    <tr>\n",
              "      <th>4</th>\n",
              "      <td>1465</td>\n",
              "      <td>190661.610962</td>\n",
              "    </tr>\n",
              "  </tbody>\n",
              "</table>\n",
              "</div>\n",
              "    <div class=\"colab-df-buttons\">\n",
              "\n",
              "  <div class=\"colab-df-container\">\n",
              "    <button class=\"colab-df-convert\" onclick=\"convertToInteractive('df-d34553b6-8138-48c4-9ef9-f3aba3e76329')\"\n",
              "            title=\"Convert this dataframe to an interactive table.\"\n",
              "            style=\"display:none;\">\n",
              "\n",
              "  <svg xmlns=\"http://www.w3.org/2000/svg\" height=\"24px\" viewBox=\"0 -960 960 960\">\n",
              "    <path d=\"M120-120v-720h720v720H120Zm60-500h600v-160H180v160Zm220 220h160v-160H400v160Zm0 220h160v-160H400v160ZM180-400h160v-160H180v160Zm440 0h160v-160H620v160ZM180-180h160v-160H180v160Zm440 0h160v-160H620v160Z\"/>\n",
              "  </svg>\n",
              "    </button>\n",
              "\n",
              "  <style>\n",
              "    .colab-df-container {\n",
              "      display:flex;\n",
              "      gap: 12px;\n",
              "    }\n",
              "\n",
              "    .colab-df-convert {\n",
              "      background-color: #E8F0FE;\n",
              "      border: none;\n",
              "      border-radius: 50%;\n",
              "      cursor: pointer;\n",
              "      display: none;\n",
              "      fill: #1967D2;\n",
              "      height: 32px;\n",
              "      padding: 0 0 0 0;\n",
              "      width: 32px;\n",
              "    }\n",
              "\n",
              "    .colab-df-convert:hover {\n",
              "      background-color: #E2EBFA;\n",
              "      box-shadow: 0px 1px 2px rgba(60, 64, 67, 0.3), 0px 1px 3px 1px rgba(60, 64, 67, 0.15);\n",
              "      fill: #174EA6;\n",
              "    }\n",
              "\n",
              "    .colab-df-buttons div {\n",
              "      margin-bottom: 4px;\n",
              "    }\n",
              "\n",
              "    [theme=dark] .colab-df-convert {\n",
              "      background-color: #3B4455;\n",
              "      fill: #D2E3FC;\n",
              "    }\n",
              "\n",
              "    [theme=dark] .colab-df-convert:hover {\n",
              "      background-color: #434B5C;\n",
              "      box-shadow: 0px 1px 3px 1px rgba(0, 0, 0, 0.15);\n",
              "      filter: drop-shadow(0px 1px 2px rgba(0, 0, 0, 0.3));\n",
              "      fill: #FFFFFF;\n",
              "    }\n",
              "  </style>\n",
              "\n",
              "    <script>\n",
              "      const buttonEl =\n",
              "        document.querySelector('#df-d34553b6-8138-48c4-9ef9-f3aba3e76329 button.colab-df-convert');\n",
              "      buttonEl.style.display =\n",
              "        google.colab.kernel.accessAllowed ? 'block' : 'none';\n",
              "\n",
              "      async function convertToInteractive(key) {\n",
              "        const element = document.querySelector('#df-d34553b6-8138-48c4-9ef9-f3aba3e76329');\n",
              "        const dataTable =\n",
              "          await google.colab.kernel.invokeFunction('convertToInteractive',\n",
              "                                                    [key], {});\n",
              "        if (!dataTable) return;\n",
              "\n",
              "        const docLinkHtml = 'Like what you see? Visit the ' +\n",
              "          '<a target=\"_blank\" href=https://colab.research.google.com/notebooks/data_table.ipynb>data table notebook</a>'\n",
              "          + ' to learn more about interactive tables.';\n",
              "        element.innerHTML = '';\n",
              "        dataTable['output_type'] = 'display_data';\n",
              "        await google.colab.output.renderOutput(dataTable, element);\n",
              "        const docLink = document.createElement('div');\n",
              "        docLink.innerHTML = docLinkHtml;\n",
              "        element.appendChild(docLink);\n",
              "      }\n",
              "    </script>\n",
              "  </div>\n",
              "\n",
              "\n",
              "<div id=\"df-d0828fb4-2266-4171-b2d8-aed3792a025f\">\n",
              "  <button class=\"colab-df-quickchart\" onclick=\"quickchart('df-d0828fb4-2266-4171-b2d8-aed3792a025f')\"\n",
              "            title=\"Suggest charts\"\n",
              "            style=\"display:none;\">\n",
              "\n",
              "<svg xmlns=\"http://www.w3.org/2000/svg\" height=\"24px\"viewBox=\"0 0 24 24\"\n",
              "     width=\"24px\">\n",
              "    <g>\n",
              "        <path d=\"M19 3H5c-1.1 0-2 .9-2 2v14c0 1.1.9 2 2 2h14c1.1 0 2-.9 2-2V5c0-1.1-.9-2-2-2zM9 17H7v-7h2v7zm4 0h-2V7h2v10zm4 0h-2v-4h2v4z\"/>\n",
              "    </g>\n",
              "</svg>\n",
              "  </button>\n",
              "\n",
              "<style>\n",
              "  .colab-df-quickchart {\n",
              "      --bg-color: #E8F0FE;\n",
              "      --fill-color: #1967D2;\n",
              "      --hover-bg-color: #E2EBFA;\n",
              "      --hover-fill-color: #174EA6;\n",
              "      --disabled-fill-color: #AAA;\n",
              "      --disabled-bg-color: #DDD;\n",
              "  }\n",
              "\n",
              "  [theme=dark] .colab-df-quickchart {\n",
              "      --bg-color: #3B4455;\n",
              "      --fill-color: #D2E3FC;\n",
              "      --hover-bg-color: #434B5C;\n",
              "      --hover-fill-color: #FFFFFF;\n",
              "      --disabled-bg-color: #3B4455;\n",
              "      --disabled-fill-color: #666;\n",
              "  }\n",
              "\n",
              "  .colab-df-quickchart {\n",
              "    background-color: var(--bg-color);\n",
              "    border: none;\n",
              "    border-radius: 50%;\n",
              "    cursor: pointer;\n",
              "    display: none;\n",
              "    fill: var(--fill-color);\n",
              "    height: 32px;\n",
              "    padding: 0;\n",
              "    width: 32px;\n",
              "  }\n",
              "\n",
              "  .colab-df-quickchart:hover {\n",
              "    background-color: var(--hover-bg-color);\n",
              "    box-shadow: 0 1px 2px rgba(60, 64, 67, 0.3), 0 1px 3px 1px rgba(60, 64, 67, 0.15);\n",
              "    fill: var(--button-hover-fill-color);\n",
              "  }\n",
              "\n",
              "  .colab-df-quickchart-complete:disabled,\n",
              "  .colab-df-quickchart-complete:disabled:hover {\n",
              "    background-color: var(--disabled-bg-color);\n",
              "    fill: var(--disabled-fill-color);\n",
              "    box-shadow: none;\n",
              "  }\n",
              "\n",
              "  .colab-df-spinner {\n",
              "    border: 2px solid var(--fill-color);\n",
              "    border-color: transparent;\n",
              "    border-bottom-color: var(--fill-color);\n",
              "    animation:\n",
              "      spin 1s steps(1) infinite;\n",
              "  }\n",
              "\n",
              "  @keyframes spin {\n",
              "    0% {\n",
              "      border-color: transparent;\n",
              "      border-bottom-color: var(--fill-color);\n",
              "      border-left-color: var(--fill-color);\n",
              "    }\n",
              "    20% {\n",
              "      border-color: transparent;\n",
              "      border-left-color: var(--fill-color);\n",
              "      border-top-color: var(--fill-color);\n",
              "    }\n",
              "    30% {\n",
              "      border-color: transparent;\n",
              "      border-left-color: var(--fill-color);\n",
              "      border-top-color: var(--fill-color);\n",
              "      border-right-color: var(--fill-color);\n",
              "    }\n",
              "    40% {\n",
              "      border-color: transparent;\n",
              "      border-right-color: var(--fill-color);\n",
              "      border-top-color: var(--fill-color);\n",
              "    }\n",
              "    60% {\n",
              "      border-color: transparent;\n",
              "      border-right-color: var(--fill-color);\n",
              "    }\n",
              "    80% {\n",
              "      border-color: transparent;\n",
              "      border-right-color: var(--fill-color);\n",
              "      border-bottom-color: var(--fill-color);\n",
              "    }\n",
              "    90% {\n",
              "      border-color: transparent;\n",
              "      border-bottom-color: var(--fill-color);\n",
              "    }\n",
              "  }\n",
              "</style>\n",
              "\n",
              "  <script>\n",
              "    async function quickchart(key) {\n",
              "      const quickchartButtonEl =\n",
              "        document.querySelector('#' + key + ' button');\n",
              "      quickchartButtonEl.disabled = true;  // To prevent multiple clicks.\n",
              "      quickchartButtonEl.classList.add('colab-df-spinner');\n",
              "      try {\n",
              "        const charts = await google.colab.kernel.invokeFunction(\n",
              "            'suggestCharts', [key], {});\n",
              "      } catch (error) {\n",
              "        console.error('Error during call to suggestCharts:', error);\n",
              "      }\n",
              "      quickchartButtonEl.classList.remove('colab-df-spinner');\n",
              "      quickchartButtonEl.classList.add('colab-df-quickchart-complete');\n",
              "    }\n",
              "    (() => {\n",
              "      let quickchartButtonEl =\n",
              "        document.querySelector('#df-d0828fb4-2266-4171-b2d8-aed3792a025f button');\n",
              "      quickchartButtonEl.style.display =\n",
              "        google.colab.kernel.accessAllowed ? 'block' : 'none';\n",
              "    })();\n",
              "  </script>\n",
              "</div>\n",
              "    </div>\n",
              "  </div>\n"
            ],
            "application/vnd.google.colaboratory.intrinsic+json": {
              "type": "dataframe",
              "variable_name": "submission",
              "summary": "{\n  \"name\": \"submission\",\n  \"rows\": 1459,\n  \"fields\": [\n    {\n      \"column\": \"Id\",\n      \"properties\": {\n        \"dtype\": \"number\",\n        \"std\": 421,\n        \"min\": 1461,\n        \"max\": 2919,\n        \"num_unique_values\": 1459,\n        \"samples\": [\n          2782,\n          2297,\n          1874\n        ],\n        \"semantic_type\": \"\",\n        \"description\": \"\"\n      }\n    },\n    {\n      \"column\": \"SalePrice\",\n      \"properties\": {\n        \"dtype\": \"number\",\n        \"std\": 77185.51645484044,\n        \"min\": 37180.221981648385,\n        \"max\": 541388.9356358848,\n        \"num_unique_values\": 1457,\n        \"samples\": [\n          114468.89755113938,\n          133612.42194753358,\n          141497.91025582596\n        ],\n        \"semantic_type\": \"\",\n        \"description\": \"\"\n      }\n    }\n  ]\n}"
            }
          },
          "metadata": {},
          "execution_count": 61
        }
      ]
    },
    {
      "cell_type": "code",
      "source": [
        "submission.to_csv('/content/catboost.csv', index=False)"
      ],
      "metadata": {
        "id": "jXxOlIDJ8lqv"
      },
      "execution_count": 62,
      "outputs": []
    }
  ],
  "metadata": {
    "kernelspec": {
      "display_name": "Python 3",
      "name": "python3"
    },
    "language_info": {
      "codemirror_mode": {
        "name": "ipython",
        "version": 3
      },
      "file_extension": ".py",
      "mimetype": "text/x-python",
      "name": "python",
      "nbconvert_exporter": "python",
      "pygments_lexer": "ipython3",
      "version": "3.12.1"
    },
    "colab": {
      "provenance": [],
      "gpuType": "T4"
    },
    "accelerator": "GPU"
  },
  "nbformat": 4,
  "nbformat_minor": 0
}