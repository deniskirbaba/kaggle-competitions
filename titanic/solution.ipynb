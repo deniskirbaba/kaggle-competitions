{
 "cells": [
  {
   "cell_type": "markdown",
   "metadata": {},
   "source": [
    "# Starting steps\n",
    "This problem is a binary classification problem.\n",
    "We will be using *F1-Score* as main metric.\n",
    "\n",
    "Starting steps:\n",
    "1. Analyze the dataset: features types, uninformative features, missing values, outliers\n",
    "2. Based on step 1 choose the models and its learning algorithms"
   ]
  },
  {
   "cell_type": "code",
   "execution_count": 440,
   "metadata": {},
   "outputs": [],
   "source": [
    "import numpy as np\n",
    "import pandas as pd\n",
    "\n",
    "from tqdm.notebook import tqdm"
   ]
  },
  {
   "cell_type": "code",
   "execution_count": 368,
   "metadata": {},
   "outputs": [
    {
     "data": {
      "text/html": [
       "<div>\n",
       "<style scoped>\n",
       "    .dataframe tbody tr th:only-of-type {\n",
       "        vertical-align: middle;\n",
       "    }\n",
       "\n",
       "    .dataframe tbody tr th {\n",
       "        vertical-align: top;\n",
       "    }\n",
       "\n",
       "    .dataframe thead th {\n",
       "        text-align: right;\n",
       "    }\n",
       "</style>\n",
       "<table border=\"1\" class=\"dataframe\">\n",
       "  <thead>\n",
       "    <tr style=\"text-align: right;\">\n",
       "      <th></th>\n",
       "      <th>Survived</th>\n",
       "      <th>Pclass</th>\n",
       "      <th>Name</th>\n",
       "      <th>Sex</th>\n",
       "      <th>Age</th>\n",
       "      <th>SibSp</th>\n",
       "      <th>Parch</th>\n",
       "      <th>Ticket</th>\n",
       "      <th>Fare</th>\n",
       "      <th>Cabin</th>\n",
       "      <th>Embarked</th>\n",
       "    </tr>\n",
       "    <tr>\n",
       "      <th>PassengerId</th>\n",
       "      <th></th>\n",
       "      <th></th>\n",
       "      <th></th>\n",
       "      <th></th>\n",
       "      <th></th>\n",
       "      <th></th>\n",
       "      <th></th>\n",
       "      <th></th>\n",
       "      <th></th>\n",
       "      <th></th>\n",
       "      <th></th>\n",
       "    </tr>\n",
       "  </thead>\n",
       "  <tbody>\n",
       "    <tr>\n",
       "      <th>1</th>\n",
       "      <td>0</td>\n",
       "      <td>3</td>\n",
       "      <td>Braund, Mr. Owen Harris</td>\n",
       "      <td>male</td>\n",
       "      <td>22.0</td>\n",
       "      <td>1</td>\n",
       "      <td>0</td>\n",
       "      <td>A/5 21171</td>\n",
       "      <td>7.2500</td>\n",
       "      <td>NaN</td>\n",
       "      <td>S</td>\n",
       "    </tr>\n",
       "    <tr>\n",
       "      <th>2</th>\n",
       "      <td>1</td>\n",
       "      <td>1</td>\n",
       "      <td>Cumings, Mrs. John Bradley (Florence Briggs Th...</td>\n",
       "      <td>female</td>\n",
       "      <td>38.0</td>\n",
       "      <td>1</td>\n",
       "      <td>0</td>\n",
       "      <td>PC 17599</td>\n",
       "      <td>71.2833</td>\n",
       "      <td>C85</td>\n",
       "      <td>C</td>\n",
       "    </tr>\n",
       "    <tr>\n",
       "      <th>3</th>\n",
       "      <td>1</td>\n",
       "      <td>3</td>\n",
       "      <td>Heikkinen, Miss. Laina</td>\n",
       "      <td>female</td>\n",
       "      <td>26.0</td>\n",
       "      <td>0</td>\n",
       "      <td>0</td>\n",
       "      <td>STON/O2. 3101282</td>\n",
       "      <td>7.9250</td>\n",
       "      <td>NaN</td>\n",
       "      <td>S</td>\n",
       "    </tr>\n",
       "    <tr>\n",
       "      <th>4</th>\n",
       "      <td>1</td>\n",
       "      <td>1</td>\n",
       "      <td>Futrelle, Mrs. Jacques Heath (Lily May Peel)</td>\n",
       "      <td>female</td>\n",
       "      <td>35.0</td>\n",
       "      <td>1</td>\n",
       "      <td>0</td>\n",
       "      <td>113803</td>\n",
       "      <td>53.1000</td>\n",
       "      <td>C123</td>\n",
       "      <td>S</td>\n",
       "    </tr>\n",
       "    <tr>\n",
       "      <th>5</th>\n",
       "      <td>0</td>\n",
       "      <td>3</td>\n",
       "      <td>Allen, Mr. William Henry</td>\n",
       "      <td>male</td>\n",
       "      <td>35.0</td>\n",
       "      <td>0</td>\n",
       "      <td>0</td>\n",
       "      <td>373450</td>\n",
       "      <td>8.0500</td>\n",
       "      <td>NaN</td>\n",
       "      <td>S</td>\n",
       "    </tr>\n",
       "  </tbody>\n",
       "</table>\n",
       "</div>"
      ],
      "text/plain": [
       "             Survived  Pclass  \\\n",
       "PassengerId                     \n",
       "1                   0       3   \n",
       "2                   1       1   \n",
       "3                   1       3   \n",
       "4                   1       1   \n",
       "5                   0       3   \n",
       "\n",
       "                                                          Name     Sex   Age  \\\n",
       "PassengerId                                                                    \n",
       "1                                      Braund, Mr. Owen Harris    male  22.0   \n",
       "2            Cumings, Mrs. John Bradley (Florence Briggs Th...  female  38.0   \n",
       "3                                       Heikkinen, Miss. Laina  female  26.0   \n",
       "4                 Futrelle, Mrs. Jacques Heath (Lily May Peel)  female  35.0   \n",
       "5                                     Allen, Mr. William Henry    male  35.0   \n",
       "\n",
       "             SibSp  Parch            Ticket     Fare Cabin Embarked  \n",
       "PassengerId                                                          \n",
       "1                1      0         A/5 21171   7.2500   NaN        S  \n",
       "2                1      0          PC 17599  71.2833   C85        C  \n",
       "3                0      0  STON/O2. 3101282   7.9250   NaN        S  \n",
       "4                1      0            113803  53.1000  C123        S  \n",
       "5                0      0            373450   8.0500   NaN        S  "
      ]
     },
     "execution_count": 368,
     "metadata": {},
     "output_type": "execute_result"
    }
   ],
   "source": [
    "dataset = pd.read_csv('data/train.csv', index_col='PassengerId')\n",
    "dataset.head()"
   ]
  },
  {
   "cell_type": "code",
   "execution_count": 369,
   "metadata": {},
   "outputs": [
    {
     "data": {
      "text/plain": [
       "((891, 10), (891,))"
      ]
     },
     "execution_count": 369,
     "metadata": {},
     "output_type": "execute_result"
    }
   ],
   "source": [
    "features = dataset.loc[:, dataset.columns.drop('Survived')]\n",
    "target = dataset.loc[:, 'Survived']\n",
    "features.shape, target.shape"
   ]
  },
  {
   "cell_type": "code",
   "execution_count": 370,
   "metadata": {},
   "outputs": [
    {
     "name": "stdout",
     "output_type": "stream",
     "text": [
      "Survived: 549, dead: 342\n"
     ]
    }
   ],
   "source": [
    "print(f'Survived: {len(target[target == 0])}, dead: {len(target[target == 1])}')"
   ]
  },
  {
   "cell_type": "markdown",
   "metadata": {},
   "source": [
    "## Feature types"
   ]
  },
  {
   "cell_type": "code",
   "execution_count": 371,
   "metadata": {},
   "outputs": [
    {
     "data": {
      "text/plain": [
       "Pclass        int64\n",
       "Name         object\n",
       "Sex          object\n",
       "Age         float64\n",
       "SibSp         int64\n",
       "Parch         int64\n",
       "Ticket       object\n",
       "Fare        float64\n",
       "Cabin        object\n",
       "Embarked     object\n",
       "dtype: object"
      ]
     },
     "execution_count": 371,
     "metadata": {},
     "output_type": "execute_result"
    }
   ],
   "source": [
    "features.dtypes"
   ]
  },
  {
   "cell_type": "code",
   "execution_count": 372,
   "metadata": {},
   "outputs": [],
   "source": [
    "cont_features = ['Age', 'SibSp', 'Parch', 'Fare']\n",
    "cat_features = ['Pclass', 'Sex', 'Cabin', 'Embarked']"
   ]
  },
  {
   "cell_type": "code",
   "execution_count": 373,
   "metadata": {},
   "outputs": [
    {
     "name": "stdout",
     "output_type": "stream",
     "text": [
      "# of categories in \"Pclass\": 3\n",
      "# of categories in \"Sex\": 2\n",
      "# of categories in \"Cabin\": 148\n",
      "# of categories in \"Embarked\": 4\n"
     ]
    }
   ],
   "source": [
    "for i in cat_features:\n",
    "    print(f'# of categories in \"{i}\": {len(np.unique(features.loc[:, i].apply(str)))}')"
   ]
  },
  {
   "cell_type": "code",
   "execution_count": 374,
   "metadata": {},
   "outputs": [
    {
     "name": "stdout",
     "output_type": "stream",
     "text": [
      "unique categories in \"Pclass\": ['1' '2' '3']\n",
      "unique categories in \"Sex\": ['female' 'male']\n",
      "unique categories in \"Cabin\": ['A10' 'A14' 'A16' 'A19' 'A20' 'A23' 'A24' 'A26' 'A31' 'A32' 'A34' 'A36'\n",
      " 'A5' 'A6' 'A7' 'B101' 'B102' 'B18' 'B19' 'B20' 'B22' 'B28' 'B3' 'B30'\n",
      " 'B35' 'B37' 'B38' 'B39' 'B4' 'B41' 'B42' 'B49' 'B5' 'B50' 'B51 B53 B55'\n",
      " 'B57 B59 B63 B66' 'B58 B60' 'B69' 'B71' 'B73' 'B77' 'B78' 'B79' 'B80'\n",
      " 'B82 B84' 'B86' 'B94' 'B96 B98' 'C101' 'C103' 'C104' 'C106' 'C110' 'C111'\n",
      " 'C118' 'C123' 'C124' 'C125' 'C126' 'C128' 'C148' 'C2' 'C22 C26'\n",
      " 'C23 C25 C27' 'C30' 'C32' 'C45' 'C46' 'C47' 'C49' 'C50' 'C52' 'C54'\n",
      " 'C62 C64' 'C65' 'C68' 'C7' 'C70' 'C78' 'C82' 'C83' 'C85' 'C86' 'C87'\n",
      " 'C90' 'C91' 'C92' 'C93' 'C95' 'C99' 'D' 'D10 D12' 'D11' 'D15' 'D17' 'D19'\n",
      " 'D20' 'D21' 'D26' 'D28' 'D30' 'D33' 'D35' 'D36' 'D37' 'D45' 'D46' 'D47'\n",
      " 'D48' 'D49' 'D50' 'D56' 'D6' 'D7' 'D9' 'E10' 'E101' 'E12' 'E121' 'E17'\n",
      " 'E24' 'E25' 'E31' 'E33' 'E34' 'E36' 'E38' 'E40' 'E44' 'E46' 'E49' 'E50'\n",
      " 'E58' 'E63' 'E67' 'E68' 'E77' 'E8' 'F E69' 'F G63' 'F G73' 'F2' 'F33'\n",
      " 'F38' 'F4' 'G6' 'T' 'nan']\n",
      "unique categories in \"Embarked\": ['C' 'Q' 'S' 'nan']\n"
     ]
    }
   ],
   "source": [
    "for i in cat_features:\n",
    "    print(f'unique categories in \"{i}\": {np.unique(features.loc[:, i].apply(str))}')"
   ]
  },
  {
   "cell_type": "markdown",
   "metadata": {},
   "source": [
    "## Uninformative features"
   ]
  },
  {
   "cell_type": "code",
   "execution_count": 375,
   "metadata": {},
   "outputs": [],
   "source": [
    "uninformative_features = ['Name', 'Ticket']"
   ]
  },
  {
   "cell_type": "markdown",
   "metadata": {},
   "source": [
    "## Missing values"
   ]
  },
  {
   "cell_type": "code",
   "execution_count": 376,
   "metadata": {},
   "outputs": [
    {
     "name": "stdout",
     "output_type": "stream",
     "text": [
      "<class 'pandas.core.frame.DataFrame'>\n",
      "Index: 891 entries, 1 to 891\n",
      "Data columns (total 10 columns):\n",
      " #   Column    Non-Null Count  Dtype  \n",
      "---  ------    --------------  -----  \n",
      " 0   Pclass    891 non-null    int64  \n",
      " 1   Name      891 non-null    object \n",
      " 2   Sex       891 non-null    object \n",
      " 3   Age       714 non-null    float64\n",
      " 4   SibSp     891 non-null    int64  \n",
      " 5   Parch     891 non-null    int64  \n",
      " 6   Ticket    891 non-null    object \n",
      " 7   Fare      891 non-null    float64\n",
      " 8   Cabin     204 non-null    object \n",
      " 9   Embarked  889 non-null    object \n",
      "dtypes: float64(2), int64(3), object(5)\n",
      "memory usage: 76.6+ KB\n"
     ]
    }
   ],
   "source": [
    "features.info()"
   ]
  },
  {
   "cell_type": "code",
   "execution_count": 377,
   "metadata": {},
   "outputs": [
    {
     "name": "stdout",
     "output_type": "stream",
     "text": [
      "# if NaN in \"Pclass\": 0\n",
      "# if NaN in \"Name\": 0\n",
      "# if NaN in \"Sex\": 0\n",
      "# if NaN in \"Age\": 177\n",
      "# if NaN in \"SibSp\": 0\n",
      "# if NaN in \"Parch\": 0\n",
      "# if NaN in \"Ticket\": 0\n",
      "# if NaN in \"Fare\": 0\n",
      "# if NaN in \"Cabin\": 687\n",
      "# if NaN in \"Embarked\": 2\n"
     ]
    }
   ],
   "source": [
    "for i in features.columns:\n",
    "    print(f'# if NaN in \"{i}\": {np.sum(pd.isna(features.loc[:, i]))}')"
   ]
  },
  {
   "cell_type": "markdown",
   "metadata": {},
   "source": [
    "## Outliers"
   ]
  },
  {
   "cell_type": "code",
   "execution_count": 378,
   "metadata": {},
   "outputs": [],
   "source": [
    "import matplotlib.pyplot as plt\n",
    "import seaborn as sns"
   ]
  },
  {
   "cell_type": "code",
   "execution_count": 379,
   "metadata": {},
   "outputs": [
    {
     "data": {
      "image/png": "[encoded data removed]",
      "text/plain": [
       "<Figure size 640x480 with 1 Axes>"
      ]
     },
     "metadata": {},
     "output_type": "display_data"
    },
    {
     "data": {
      "image/png": "[encoded data removed]",
      "text/plain": [
       "<Figure size 640x480 with 1 Axes>"
      ]
     },
     "metadata": {},
     "output_type": "display_data"
    },
    {
     "data": {
      "image/png": "[encoded data removed]",
      "text/plain": [
       "<Figure size 640x480 with 1 Axes>"
      ]
     },
     "metadata": {},
     "output_type": "display_data"
    },
    {
     "data": {
      "image/png": "[encoded data removed]",
      "text/plain": [
       "<Figure size 640x480 with 1 Axes>"
      ]
     },
     "metadata": {},
     "output_type": "display_data"
    }
   ],
   "source": [
    "# Boxplots\n",
    "for feature in cont_features:\n",
    "    sns.boxplot(x=features[feature])\n",
    "    plt.title(f'Box plot for {feature}')\n",
    "    plt.show()"
   ]
  },
  {
   "cell_type": "code",
   "execution_count": 380,
   "metadata": {},
   "outputs": [
    {
     "data": {
      "image/png": "[encoded data removed]",
      "text/plain": [
       "<Figure size 640x480 with 1 Axes>"
      ]
     },
     "metadata": {},
     "output_type": "display_data"
    },
    {
     "data": {
      "image/png": "[encoded data removed]",
      "text/plain": [
       "<Figure size 640x480 with 1 Axes>"
      ]
     },
     "metadata": {},
     "output_type": "display_data"
    },
    {
     "data": {
      "image/png": "[encoded data removed]",
      "text/plain": [
       "<Figure size 640x480 with 1 Axes>"
      ]
     },
     "metadata": {},
     "output_type": "display_data"
    },
    {
     "data": {
      "image/png": "[encoded data removed]",
      "text/plain": [
       "<Figure size 640x480 with 1 Axes>"
      ]
     },
     "metadata": {},
     "output_type": "display_data"
    }
   ],
   "source": [
    "# Histograms\n",
    "for feature in cont_features:\n",
    "    sns.histplot(features[feature], kde=True)\n",
    "    plt.title(f'Histogram for {feature}')\n",
    "    plt.show()"
   ]
  },
  {
   "cell_type": "markdown",
   "metadata": {},
   "source": [
    "So, we have no outliers in continuous features data."
   ]
  },
  {
   "cell_type": "markdown",
   "metadata": {},
   "source": [
    "Check the categorical features"
   ]
  },
  {
   "cell_type": "code",
   "execution_count": 381,
   "metadata": {},
   "outputs": [
    {
     "name": "stdout",
     "output_type": "stream",
     "text": [
      "Pclass\n",
      "3    491\n",
      "1    216\n",
      "2    184\n",
      "Name: count, dtype: int64\n",
      "Sex\n",
      "male      577\n",
      "female    314\n",
      "Name: count, dtype: int64\n",
      "Cabin\n",
      "B96 B98        4\n",
      "G6             4\n",
      "C23 C25 C27    4\n",
      "C22 C26        3\n",
      "F33            3\n",
      "              ..\n",
      "E34            1\n",
      "C7             1\n",
      "C54            1\n",
      "E36            1\n",
      "C148           1\n",
      "Name: count, Length: 147, dtype: int64\n",
      "Embarked\n",
      "S    644\n",
      "C    168\n",
      "Q     77\n",
      "Name: count, dtype: int64\n"
     ]
    }
   ],
   "source": [
    "# Frequency Analysis\n",
    "for feature in cat_features:\n",
    "    print(features[feature].value_counts())"
   ]
  },
  {
   "cell_type": "markdown",
   "metadata": {},
   "source": [
    "# Preprocessing the data\n",
    "\n",
    "After the analysis of the dataset we have found:\n",
    "1. The numbers of survived and dead people are almost equal, so we have almost balanced dataset\n",
    "2. We found 2 uninformative features\n",
    "3. We have 4 categorical and 4 continuous features\n",
    "4. In 'Age' continouos feature we have lost of NaN (~200 objects)\n",
    "5. In 'Embarked' we have only 2 None values\n",
    "6. In 'Cabin' we have ~700 None values\n",
    "7. We have no outliers in dataset\n",
    "\n",
    "We will do this steps:\n",
    "1. Drop uninformative features\n",
    "2. Add new category 'Missing' for 'Cabin' and 'Embarked'\n",
    "3. Use imputer for missing values in 'Age'\n",
    "\n",
    "As baseline models we will use:\n",
    "1. kNN\n",
    "2. Naive Bayes\n",
    "3. Logistic Regression\n",
    "4. Random Forest\n",
    "\n",
    "As final models we will use:\n",
    "1. Gradient Boosting (from catboost - because we have 50% of categorical features)"
   ]
  },
  {
   "cell_type": "markdown",
   "metadata": {},
   "source": [
    "We also need to find best of this types of preprocessing the 'Cabin' feature:\n",
    "1. Extract the letter from str value\n",
    "2. OneHot the cabins\n",
    "3. Drop this feature\n",
    "\n",
    "And for the 'Age' feature:\n",
    "1. Imputing with kNN\n",
    "2. Imputing with MICE (IterativeImputer)\n",
    "3. Imputing with mean, median, mode"
   ]
  },
  {
   "cell_type": "code",
   "execution_count": 382,
   "metadata": {},
   "outputs": [
    {
     "data": {
      "text/plain": [
       "Index(['Pclass', 'Sex', 'Age', 'SibSp', 'Parch', 'Fare', 'Cabin', 'Embarked'], dtype='object')"
      ]
     },
     "execution_count": 382,
     "metadata": {},
     "output_type": "execute_result"
    }
   ],
   "source": [
    "# remove uninformative features\n",
    "features = features.loc[:, features.columns.drop(uninformative_features)]\n",
    "features.columns"
   ]
  },
  {
   "cell_type": "code",
   "execution_count": 383,
   "metadata": {},
   "outputs": [
    {
     "name": "stdout",
     "output_type": "stream",
     "text": [
      "['A10' 'A14' 'A16' 'A19' 'A20' 'A23' 'A24' 'A26' 'A31' 'A32' 'A34' 'A36'\n",
      " 'A5' 'A6' 'A7' 'B101' 'B102' 'B18' 'B19' 'B20' 'B22' 'B28' 'B3' 'B30'\n",
      " 'B35' 'B37' 'B38' 'B39' 'B4' 'B41' 'B42' 'B49' 'B5' 'B50' 'B51 B53 B55'\n",
      " 'B57 B59 B63 B66' 'B58 B60' 'B69' 'B71' 'B73' 'B77' 'B78' 'B79' 'B80'\n",
      " 'B82 B84' 'B86' 'B94' 'B96 B98' 'C101' 'C103' 'C104' 'C106' 'C110' 'C111'\n",
      " 'C118' 'C123' 'C124' 'C125' 'C126' 'C128' 'C148' 'C2' 'C22 C26'\n",
      " 'C23 C25 C27' 'C30' 'C32' 'C45' 'C46' 'C47' 'C49' 'C50' 'C52' 'C54'\n",
      " 'C62 C64' 'C65' 'C68' 'C7' 'C70' 'C78' 'C82' 'C83' 'C85' 'C86' 'C87'\n",
      " 'C90' 'C91' 'C92' 'C93' 'C95' 'C99' 'D' 'D10 D12' 'D11' 'D15' 'D17' 'D19'\n",
      " 'D20' 'D21' 'D26' 'D28' 'D30' 'D33' 'D35' 'D36' 'D37' 'D45' 'D46' 'D47'\n",
      " 'D48' 'D49' 'D50' 'D56' 'D6' 'D7' 'D9' 'E10' 'E101' 'E12' 'E121' 'E17'\n",
      " 'E24' 'E25' 'E31' 'E33' 'E34' 'E36' 'E38' 'E40' 'E44' 'E46' 'E49' 'E50'\n",
      " 'E58' 'E63' 'E67' 'E68' 'E77' 'E8' 'F E69' 'F G63' 'F G73' 'F2' 'F33'\n",
      " 'F38' 'F4' 'G6' 'Missing' 'T']\n",
      "['C' 'Missing' 'Q' 'S']\n"
     ]
    }
   ],
   "source": [
    "from sklearn.impute import SimpleImputer\n",
    "\n",
    "# create 'Missing' category\n",
    "features.loc[:, ['Cabin', 'Embarked']] = SimpleImputer(missing_values=pd.NA, strategy='constant', fill_value='Missing').fit_transform(features.loc[:, ['Cabin', 'Embarked']])\n",
    "\n",
    "for i in ['Cabin', 'Embarked']:\n",
    "    print(np.unique(features.loc[:, i]))"
   ]
  },
  {
   "cell_type": "code",
   "execution_count": 384,
   "metadata": {},
   "outputs": [],
   "source": [
    "from sklearn.impute import KNNImputer\n",
    "from sklearn.experimental import enable_iterative_imputer\n",
    "from sklearn.impute import IterativeImputer\n",
    "\n",
    "# Imputers for 'Age' feature\n",
    "age_imputers = {\n",
    "    'mean': SimpleImputer(strategy='mean'),\n",
    "    'median': SimpleImputer(strategy='median'),\n",
    "    'mode': SimpleImputer(strategy='most_frequent'),\n",
    "    'kNN': KNNImputer(n_neighbors=5), # only if continuous features in dataset\n",
    "    'MICE': IterativeImputer() # only if continuous features in dataset\n",
    "}"
   ]
  },
  {
   "cell_type": "code",
   "execution_count": 385,
   "metadata": {},
   "outputs": [],
   "source": [
    "from sklearn.base import TransformerMixin\n",
    "from sklearn.base import BaseEstimator\n",
    "\n",
    "\n",
    "# make class for transforming Cabin feature\n",
    "# input: pd.Series of 'Cabin' feature\n",
    "# return: transformed pd.Series of 'Cabin' feature\n",
    "class CabinPreprocessing(BaseEstimator, TransformerMixin):\n",
    "    def __init__(self, type):\n",
    "        self.type = type\n",
    "    \n",
    "    def fit(self, data, *args):\n",
    "        match self.type:\n",
    "            case 'letter':\n",
    "                self.unique_letters = np.unique(data.loc[:, 'Cabin'].apply(lambda x: str(x)[0]))\n",
    "                \n",
    "        return self\n",
    "    \n",
    "    def transform(self, data):\n",
    "        match self.type:   \n",
    "            case 'letter':\n",
    "                data['Cabin'] = data.loc[:, 'Cabin'].apply(lambda x: str(x)[0] if str(x)[0] in self.unique_letters else 'M')\n",
    "                return data"
   ]
  },
  {
   "cell_type": "markdown",
   "metadata": {},
   "source": [
    "# kNN"
   ]
  },
  {
   "cell_type": "code",
   "execution_count": 231,
   "metadata": {},
   "outputs": [],
   "source": [
    "from sklearn.neighbors import KNeighborsClassifier\n",
    "from sklearn.compose import ColumnTransformer\n",
    "from sklearn.preprocessing import StandardScaler\n",
    "from sklearn.preprocessing import OneHotEncoder\n",
    "from sklearn.pipeline import Pipeline\n",
    "\n",
    "# for kNN we need to do the normalization and then encode categoriacal features as continuous"
   ]
  },
  {
   "cell_type": "markdown",
   "metadata": {},
   "source": [
    "## Case 1. Age: mean impute, Cabin: drop"
   ]
  },
  {
   "cell_type": "code",
   "execution_count": 416,
   "metadata": {},
   "outputs": [],
   "source": [
    "features_edit = features\n",
    "target_edit = target"
   ]
  },
  {
   "cell_type": "code",
   "execution_count": 417,
   "metadata": {},
   "outputs": [
    {
     "data": {
      "text/plain": [
       "Index(['Pclass', 'Sex', 'Age', 'SibSp', 'Parch', 'Fare', 'Cabin', 'Embarked'], dtype='object')"
      ]
     },
     "execution_count": 417,
     "metadata": {},
     "output_type": "execute_result"
    }
   ],
   "source": [
    "features_edit.columns"
   ]
  },
  {
   "cell_type": "code",
   "execution_count": 418,
   "metadata": {},
   "outputs": [
    {
     "name": "stdout",
     "output_type": "stream",
     "text": [
      "<class 'pandas.core.frame.DataFrame'>\n",
      "Index: 891 entries, 1 to 891\n",
      "Data columns (total 8 columns):\n",
      " #   Column    Non-Null Count  Dtype  \n",
      "---  ------    --------------  -----  \n",
      " 0   Pclass    891 non-null    int64  \n",
      " 1   Sex       891 non-null    object \n",
      " 2   Age       714 non-null    float64\n",
      " 3   SibSp     891 non-null    int64  \n",
      " 4   Parch     891 non-null    int64  \n",
      " 5   Fare      891 non-null    float64\n",
      " 6   Cabin     891 non-null    object \n",
      " 7   Embarked  891 non-null    object \n",
      "dtypes: float64(2), int64(3), object(3)\n",
      "memory usage: 62.6+ KB\n"
     ]
    }
   ],
   "source": [
    "features_edit.info()"
   ]
  },
  {
   "cell_type": "code",
   "execution_count": 419,
   "metadata": {},
   "outputs": [],
   "source": [
    "features_edit = features_edit.loc[:, features_edit.columns.drop('Cabin')]"
   ]
  },
  {
   "cell_type": "code",
   "execution_count": 422,
   "metadata": {},
   "outputs": [
    {
     "data": {
      "application/vnd.jupyter.widget-view+json": {
       "model_id": "403898f2045e414b9afc63e3bf23caef",
       "version_major": 2,
       "version_minor": 0
      },
      "text/plain": [
       "  0%|          | 0/10 [00:00<?, ?it/s]"
      ]
     },
     "metadata": {},
     "output_type": "display_data"
    },
    {
     "name": "stderr",
     "output_type": "stream",
     "text": [
      "c:\\Program Files\\Python312\\Lib\\site-packages\\sklearn\\preprocessing\\_encoders.py:241: UserWarning: Found unknown categories in columns [2] during transform. These unknown categories will be encoded as all zeros\n",
      "  warnings.warn(\n",
      "c:\\Program Files\\Python312\\Lib\\site-packages\\sklearn\\preprocessing\\_encoders.py:241: UserWarning: Found unknown categories in columns [2] during transform. These unknown categories will be encoded as all zeros\n",
      "  warnings.warn(\n",
      "c:\\Program Files\\Python312\\Lib\\site-packages\\sklearn\\preprocessing\\_encoders.py:241: UserWarning: Found unknown categories in columns [2] during transform. These unknown categories will be encoded as all zeros\n",
      "  warnings.warn(\n"
     ]
    }
   ],
   "source": [
    "from sklearn.metrics import f1_score\n",
    "from sklearn.model_selection import train_test_split\n",
    "\n",
    "# cross-validate\n",
    "n_folds = 10\n",
    "test_factor = 0.20\n",
    "f1_scores = dict()\n",
    "cv_params = {'n_neighbors': [5, 10, 15, 20, 25, 30, 50, 60, 75, 100]}\n",
    "\n",
    "for j in tqdm(cv_params['n_neighbors']):\n",
    "    \n",
    "    knn_preprocessor = ColumnTransformer(transformers=[\n",
    "        ('continous', StandardScaler(), cont_features),\n",
    "        ('categorical', OneHotEncoder(drop='first', handle_unknown='ignore'), ['Pclass', 'Sex', 'Embarked'])\n",
    "    ])\n",
    "\n",
    "    clf = Pipeline(steps=[\n",
    "        ('preprocessor', knn_preprocessor),\n",
    "        ('classifier', KNeighborsClassifier(n_neighbors=j, weights='distance'))\n",
    "    ])\n",
    "    \n",
    "    for i in range(n_folds):\n",
    "        X_train, X_test, y_train, y_test = train_test_split(features_edit, target_edit, test_size=test_factor)\n",
    "                \n",
    "        X_train.loc[:, 'Age'] = age_imputers['mean'].fit_transform(X_train.loc[:, 'Age'].to_numpy().reshape(-1, 1))\n",
    "        X_test.loc[:, 'Age'] = age_imputers['mean'].transform(X_test.loc[:, 'Age'].to_numpy().reshape(-1, 1))\n",
    "\n",
    "        clf.fit(X_train, y_train)\n",
    "        f1_scores[j] = f1_scores.get(j, 0) + f1_score(y_test, clf.predict(X_test))\n",
    "    f1_scores[j] /= n_folds"
   ]
  },
  {
   "cell_type": "code",
   "execution_count": 423,
   "metadata": {},
   "outputs": [
    {
     "name": "stdout",
     "output_type": "stream",
     "text": [
      "max f1-score: 0.7323479509727586 found at n_neighboars: 25\n"
     ]
    },
    {
     "data": {
      "text/plain": [
       "<matplotlib.collections.PathCollection at 0x2451b9a5dc0>"
      ]
     },
     "execution_count": 423,
     "metadata": {},
     "output_type": "execute_result"
    },
    {
     "data": {
      "image/png": "[encoded data removed]",
      "text/plain": [
       "<Figure size 640x480 with 1 Axes>"
      ]
     },
     "metadata": {},
     "output_type": "display_data"
    }
   ],
   "source": [
    "import matplotlib.pyplot as plt\n",
    "\n",
    "print(f'max f1-score: {max(f1_scores.values())} found at n_neighboars: {max(f1_scores, key=f1_scores.get)}')\n",
    "plt.scatter(f1_scores.keys(), f1_scores.values())"
   ]
  },
  {
   "cell_type": "markdown",
   "metadata": {},
   "source": [
    "## Case 2. Age median, Cabin drop"
   ]
  },
  {
   "cell_type": "code",
   "execution_count": 424,
   "metadata": {},
   "outputs": [
    {
     "name": "stderr",
     "output_type": "stream",
     "text": [
      " 11%|█         | 1/9 [00:00<00:03,  2.46it/s]c:\\Program Files\\Python312\\Lib\\site-packages\\sklearn\\preprocessing\\_encoders.py:241: UserWarning: Found unknown categories in columns [2] during transform. These unknown categories will be encoded as all zeros\n",
      "  warnings.warn(\n",
      " 22%|██▏       | 2/9 [00:01<00:04,  1.58it/s]c:\\Program Files\\Python312\\Lib\\site-packages\\sklearn\\preprocessing\\_encoders.py:241: UserWarning: Found unknown categories in columns [2] during transform. These unknown categories will be encoded as all zeros\n",
      "  warnings.warn(\n",
      "c:\\Program Files\\Python312\\Lib\\site-packages\\sklearn\\preprocessing\\_encoders.py:241: UserWarning: Found unknown categories in columns [2] during transform. These unknown categories will be encoded as all zeros\n",
      "  warnings.warn(\n",
      " 33%|███▎      | 3/9 [00:01<00:03,  1.75it/s]c:\\Program Files\\Python312\\Lib\\site-packages\\sklearn\\preprocessing\\_encoders.py:241: UserWarning: Found unknown categories in columns [2] during transform. These unknown categories will be encoded as all zeros\n",
      "  warnings.warn(\n",
      " 56%|█████▌    | 5/9 [00:02<00:01,  2.17it/s]c:\\Program Files\\Python312\\Lib\\site-packages\\sklearn\\preprocessing\\_encoders.py:241: UserWarning: Found unknown categories in columns [2] during transform. These unknown categories will be encoded as all zeros\n",
      "  warnings.warn(\n",
      " 89%|████████▉ | 8/9 [00:03<00:00,  2.60it/s]c:\\Program Files\\Python312\\Lib\\site-packages\\sklearn\\preprocessing\\_encoders.py:241: UserWarning: Found unknown categories in columns [2] during transform. These unknown categories will be encoded as all zeros\n",
      "  warnings.warn(\n",
      "100%|██████████| 9/9 [00:03<00:00,  2.31it/s]\n"
     ]
    }
   ],
   "source": [
    "features_edit = features\n",
    "target_edit = target\n",
    "\n",
    "features_edit = features_edit.loc[:, features_edit.columns.drop('Cabin')]\n",
    "\n",
    "from sklearn.metrics import f1_score\n",
    "from sklearn.model_selection import train_test_split\n",
    "\n",
    "# cross-validate\n",
    "n_folds = 10\n",
    "test_factor = 0.20\n",
    "f1_scores = dict()\n",
    "cv_params = {'n_neighbors': [5, 10, 15, 20, 25, 30, 50, 75, 100]}\n",
    "\n",
    "for j in tqdm(cv_params['n_neighbors']):\n",
    "    \n",
    "    knn_preprocessor = ColumnTransformer(transformers=[\n",
    "        ('continous', StandardScaler(), cont_features),\n",
    "        ('categorical', OneHotEncoder(drop='first', handle_unknown='ignore'), ['Pclass', 'Sex', 'Embarked'])\n",
    "    ])\n",
    "\n",
    "    clf = Pipeline(steps=[\n",
    "        ('preprocessor', knn_preprocessor),\n",
    "        ('classifier', KNeighborsClassifier(n_neighbors=j, weights='distance'))\n",
    "    ])\n",
    "    \n",
    "    for i in range(n_folds):\n",
    "        X_train, X_test, y_train, y_test = train_test_split(features_edit, target_edit, test_size=test_factor)\n",
    "                \n",
    "        X_train.loc[:, 'Age'] = age_imputers['median'].fit_transform(X_train.loc[:, 'Age'].to_numpy().reshape(-1, 1))\n",
    "        X_test.loc[:, 'Age'] = age_imputers['median'].transform(X_test.loc[:, 'Age'].to_numpy().reshape(-1, 1))\n",
    "\n",
    "        clf.fit(X_train, y_train)\n",
    "        f1_scores[j] = f1_scores.get(j, 0) + f1_score(y_test, clf.predict(X_test))\n",
    "    f1_scores[j] /= n_folds"
   ]
  },
  {
   "cell_type": "code",
   "execution_count": 425,
   "metadata": {},
   "outputs": [
    {
     "name": "stdout",
     "output_type": "stream",
     "text": [
      "max f1-score: 0.7279722462454992 found at n_neighboars: 30\n"
     ]
    },
    {
     "data": {
      "text/plain": [
       "<matplotlib.collections.PathCollection at 0x24515325e80>"
      ]
     },
     "execution_count": 425,
     "metadata": {},
     "output_type": "execute_result"
    },
    {
     "data": {
      "image/png": "[encoded data removed]",
      "text/plain": [
       "<Figure size 640x480 with 1 Axes>"
      ]
     },
     "metadata": {},
     "output_type": "display_data"
    }
   ],
   "source": [
    "import matplotlib.pyplot as plt\n",
    "\n",
    "print(f'max f1-score: {max(f1_scores.values())} found at n_neighboars: {max(f1_scores, key=f1_scores.get)}')\n",
    "plt.scatter(f1_scores.keys(), f1_scores.values())"
   ]
  },
  {
   "cell_type": "markdown",
   "metadata": {},
   "source": [
    "## Case 3. Age mode, Cabin drop"
   ]
  },
  {
   "cell_type": "code",
   "execution_count": 426,
   "metadata": {},
   "outputs": [
    {
     "name": "stderr",
     "output_type": "stream",
     "text": [
      " 22%|██▏       | 2/9 [00:01<00:03,  1.83it/s]c:\\Program Files\\Python312\\Lib\\site-packages\\sklearn\\preprocessing\\_encoders.py:241: UserWarning: Found unknown categories in columns [2] during transform. These unknown categories will be encoded as all zeros\n",
      "  warnings.warn(\n",
      " 67%|██████▋   | 6/9 [00:02<00:01,  2.30it/s]c:\\Program Files\\Python312\\Lib\\site-packages\\sklearn\\preprocessing\\_encoders.py:241: UserWarning: Found unknown categories in columns [2] during transform. These unknown categories will be encoded as all zeros\n",
      "  warnings.warn(\n",
      "100%|██████████| 9/9 [00:04<00:00,  2.13it/s]\n"
     ]
    }
   ],
   "source": [
    "features_edit = features\n",
    "target_edit = target\n",
    "\n",
    "features_edit = features_edit.loc[:, features_edit.columns.drop('Cabin')]\n",
    "\n",
    "from sklearn.metrics import f1_score\n",
    "from sklearn.model_selection import train_test_split\n",
    "\n",
    "# cross-validate\n",
    "n_folds = 10\n",
    "test_factor = 0.20\n",
    "f1_scores = dict()\n",
    "cv_params = {'n_neighbors': [5, 10, 15, 20, 25, 30, 50, 75, 100]}\n",
    "\n",
    "for j in tqdm(cv_params['n_neighbors']):\n",
    "    \n",
    "    knn_preprocessor = ColumnTransformer(transformers=[\n",
    "        ('continous', StandardScaler(), cont_features),\n",
    "        ('categorical', OneHotEncoder(drop='first', handle_unknown='ignore'), ['Pclass', 'Sex', 'Embarked'])\n",
    "    ])\n",
    "\n",
    "    clf = Pipeline(steps=[\n",
    "        ('preprocessor', knn_preprocessor),\n",
    "        ('classifier', KNeighborsClassifier(n_neighbors=j, weights='distance'))\n",
    "    ])\n",
    "    \n",
    "    for i in range(n_folds):\n",
    "        X_train, X_test, y_train, y_test = train_test_split(features_edit, target_edit, test_size=test_factor)\n",
    "                \n",
    "        X_train.loc[:, 'Age'] = age_imputers['mode'].fit_transform(X_train.loc[:, 'Age'].to_numpy().reshape(-1, 1))\n",
    "        X_test.loc[:, 'Age'] = age_imputers['mode'].transform(X_test.loc[:, 'Age'].to_numpy().reshape(-1, 1))\n",
    "\n",
    "        clf.fit(X_train, y_train)\n",
    "        f1_scores[j] = f1_scores.get(j, 0) + f1_score(y_test, clf.predict(X_test))\n",
    "    f1_scores[j] /= n_folds"
   ]
  },
  {
   "cell_type": "code",
   "execution_count": 427,
   "metadata": {},
   "outputs": [
    {
     "name": "stdout",
     "output_type": "stream",
     "text": [
      "max f1-score: 0.7352278092783034 found at n_neighboars: 30\n"
     ]
    },
    {
     "data": {
      "text/plain": [
       "<matplotlib.collections.PathCollection at 0x2451c04ddc0>"
      ]
     },
     "execution_count": 427,
     "metadata": {},
     "output_type": "execute_result"
    },
    {
     "data": {
      "image/png": "[encoded data removed]",
      "text/plain": [
       "<Figure size 640x480 with 1 Axes>"
      ]
     },
     "metadata": {},
     "output_type": "display_data"
    }
   ],
   "source": [
    "import matplotlib.pyplot as plt\n",
    "\n",
    "print(f'max f1-score: {max(f1_scores.values())} found at n_neighboars: {max(f1_scores, key=f1_scores.get)}')\n",
    "plt.scatter(f1_scores.keys(), f1_scores.values())"
   ]
  },
  {
   "cell_type": "markdown",
   "metadata": {},
   "source": [
    "## Case 4. Age: KNN, Cabin: drop"
   ]
  },
  {
   "cell_type": "code",
   "execution_count": 428,
   "metadata": {},
   "outputs": [
    {
     "name": "stderr",
     "output_type": "stream",
     "text": [
      " 11%|█         | 1/9 [00:00<00:07,  1.03it/s]c:\\Program Files\\Python312\\Lib\\site-packages\\sklearn\\preprocessing\\_encoders.py:241: UserWarning: Found unknown categories in columns [2] during transform. These unknown categories will be encoded as all zeros\n",
      "  warnings.warn(\n",
      " 22%|██▏       | 2/9 [00:01<00:06,  1.04it/s]c:\\Program Files\\Python312\\Lib\\site-packages\\sklearn\\preprocessing\\_encoders.py:241: UserWarning: Found unknown categories in columns [2] during transform. These unknown categories will be encoded as all zeros\n",
      "  warnings.warn(\n",
      " 56%|█████▌    | 5/9 [00:03<00:02,  1.58it/s]c:\\Program Files\\Python312\\Lib\\site-packages\\sklearn\\preprocessing\\_encoders.py:241: UserWarning: Found unknown categories in columns [2] during transform. These unknown categories will be encoded as all zeros\n",
      "  warnings.warn(\n",
      " 67%|██████▋   | 6/9 [00:04<00:01,  1.60it/s]c:\\Program Files\\Python312\\Lib\\site-packages\\sklearn\\preprocessing\\_encoders.py:241: UserWarning: Found unknown categories in columns [2] during transform. These unknown categories will be encoded as all zeros\n",
      "  warnings.warn(\n",
      "100%|██████████| 9/9 [00:05<00:00,  1.51it/s]\n"
     ]
    }
   ],
   "source": [
    "# Age feature transform we need to do after onehotencoder\n",
    "\n",
    "features_edit = features\n",
    "target_edit = target\n",
    "\n",
    "features_edit = features_edit.loc[:, features_edit.columns.drop('Cabin')]\n",
    "\n",
    "# cross-validate\n",
    "n_folds = 10\n",
    "test_factor = 0.20\n",
    "f1_scores = dict()\n",
    "cv_params = {'n_neighbors': [5, 10, 15, 20, 25, 30, 50, 75, 100]}\n",
    "\n",
    "for j in tqdm(cv_params['n_neighbors']):    \n",
    "    for i in range(n_folds):\n",
    "        X_train, X_test, y_train, y_test = train_test_split(features_edit, target_edit, test_size=test_factor)\n",
    "\n",
    "        ohe = ColumnTransformer(transformers=[\n",
    "            ('ohe', OneHotEncoder(drop='first', handle_unknown='ignore', sparse_output=False), ['Pclass',\n",
    "                                                                                                'Sex',\n",
    "                                                                                                'Embarked']),\n",
    "            ('pass', 'passthrough', ['Age', 'SibSp', 'Parch', 'Fare'])\n",
    "        ], verbose_feature_names_out=False)\n",
    "        X_train = pd.DataFrame(ohe.fit_transform(X_train), columns=ohe.get_feature_names_out())\n",
    "        X_test = pd.DataFrame(ohe.transform(X_test), columns=ohe.get_feature_names_out())        \n",
    "\n",
    "        knn_imputer = KNNImputer(n_neighbors=15)\n",
    "        X_train = knn_imputer.fit_transform(X_train)\n",
    "        X_test = knn_imputer.transform(X_test)\n",
    "        X_train = pd.DataFrame(X_train, columns=knn_imputer.get_feature_names_out())\n",
    "        X_test = pd.DataFrame(X_test, columns=knn_imputer.get_feature_names_out())\n",
    "        \n",
    "        scaler = ColumnTransformer(\n",
    "            transformers=[('scaler', StandardScaler(), cont_features)],\n",
    "            remainder='passthrough'\n",
    "            )\n",
    "        pipe = Pipeline(steps=[\n",
    "            ('scaler_cont_features', scaler),\n",
    "            ('knn', KNeighborsClassifier(n_neighbors=j, weights='distance'))\n",
    "        ])\n",
    "        \n",
    "        pipe.fit(X_train, y_train)\n",
    "        f1_scores[j] = f1_scores.get(j, 0) + f1_score(y_test, pipe.predict(X_test))\n",
    "        \n",
    "    f1_scores[j] /= n_folds"
   ]
  },
  {
   "cell_type": "code",
   "execution_count": 429,
   "metadata": {},
   "outputs": [
    {
     "name": "stdout",
     "output_type": "stream",
     "text": [
      "max f1-score: 0.7280376434851875 found at n_neighboars: 50\n"
     ]
    },
    {
     "data": {
      "text/plain": [
       "<matplotlib.collections.PathCollection at 0x2451c080ec0>"
      ]
     },
     "execution_count": 429,
     "metadata": {},
     "output_type": "execute_result"
    },
    {
     "data": {
      "image/png": "[encoded data removed]",
      "text/plain": [
       "<Figure size 640x480 with 1 Axes>"
      ]
     },
     "metadata": {},
     "output_type": "display_data"
    }
   ],
   "source": [
    "print(f'max f1-score: {max(f1_scores.values())} found at n_neighboars: {max(f1_scores, key=f1_scores.get)}')\n",
    "plt.scatter(f1_scores.keys(), f1_scores.values())"
   ]
  },
  {
   "cell_type": "markdown",
   "metadata": {},
   "source": [
    "## Case 5. Age: MICE, Cabin: drop"
   ]
  },
  {
   "cell_type": "code",
   "execution_count": 430,
   "metadata": {},
   "outputs": [
    {
     "name": "stderr",
     "output_type": "stream",
     "text": [
      "  0%|          | 0/9 [00:00<?, ?it/s]"
     ]
    },
    {
     "name": "stderr",
     "output_type": "stream",
     "text": [
      "c:\\Program Files\\Python312\\Lib\\site-packages\\sklearn\\preprocessing\\_encoders.py:241: UserWarning: Found unknown categories in columns [2] during transform. These unknown categories will be encoded as all zeros\n",
      "  warnings.warn(\n",
      " 11%|█         | 1/9 [00:01<00:12,  1.58s/it]c:\\Program Files\\Python312\\Lib\\site-packages\\sklearn\\preprocessing\\_encoders.py:241: UserWarning: Found unknown categories in columns [2] during transform. These unknown categories will be encoded as all zeros\n",
      "  warnings.warn(\n",
      "100%|██████████| 9/9 [00:09<00:00,  1.01s/it]\n"
     ]
    }
   ],
   "source": [
    "# Age feature transform we need to do after onehotencoder\n",
    "\n",
    "features_edit = features\n",
    "target_edit = target\n",
    "\n",
    "features_edit = features_edit.loc[:, features_edit.columns.drop('Cabin')]\n",
    "\n",
    "# cross-validate\n",
    "n_folds = 10\n",
    "test_factor = 0.20\n",
    "f1_scores = dict()\n",
    "cv_params = {'n_neighbors': [5, 10, 15, 20, 25, 30, 50, 75, 100]}\n",
    "\n",
    "for j in tqdm(cv_params['n_neighbors']):    \n",
    "    for i in range(n_folds):\n",
    "        X_train, X_test, y_train, y_test = train_test_split(features_edit, target_edit, test_size=test_factor)\n",
    "\n",
    "        ohe = ColumnTransformer(transformers=[\n",
    "            ('ohe', OneHotEncoder(drop='first', handle_unknown='ignore', sparse_output=False), ['Pclass',\n",
    "                                                                                                'Sex',\n",
    "                                                                                                'Embarked']),\n",
    "            ('pass', 'passthrough', ['Age', 'SibSp', 'Parch', 'Fare'])\n",
    "        ], verbose_feature_names_out=False)\n",
    "        X_train = pd.DataFrame(ohe.fit_transform(X_train), columns=ohe.get_feature_names_out())\n",
    "        X_test = pd.DataFrame(ohe.transform(X_test), columns=ohe.get_feature_names_out())        \n",
    "        \n",
    "        mice_imputer = IterativeImputer()\n",
    "        X_train = mice_imputer.fit_transform(X_train)\n",
    "        X_test = mice_imputer.transform(X_test)\n",
    "        X_train = pd.DataFrame(X_train, columns=mice_imputer.get_feature_names_out())\n",
    "        X_test = pd.DataFrame(X_test, columns=mice_imputer.get_feature_names_out())\n",
    "        \n",
    "        scaler = ColumnTransformer(\n",
    "            transformers=[('scaler', StandardScaler(), cont_features)],\n",
    "            remainder='passthrough'\n",
    "            )\n",
    "        pipe = Pipeline(steps=[\n",
    "            ('scaler_cont_features', scaler),\n",
    "            ('knn', KNeighborsClassifier(n_neighbors=j, weights='distance'))\n",
    "        ])\n",
    "        \n",
    "        pipe.fit(X_train, y_train)\n",
    "        f1_scores[j] = f1_scores.get(j, 0) + f1_score(y_test, pipe.predict(X_test))\n",
    "        \n",
    "    f1_scores[j] /= n_folds"
   ]
  },
  {
   "cell_type": "code",
   "execution_count": 432,
   "metadata": {},
   "outputs": [
    {
     "name": "stdout",
     "output_type": "stream",
     "text": [
      "max f1-score: 0.7360851436633248 found at n_neighboars: 20\n"
     ]
    },
    {
     "data": {
      "text/plain": [
       "<matplotlib.collections.PathCollection at 0x2451c05a450>"
      ]
     },
     "execution_count": 432,
     "metadata": {},
     "output_type": "execute_result"
    },
    {
     "data": {
      "image/png": "[encoded data removed]",
      "text/plain": [
       "<Figure size 640x480 with 1 Axes>"
      ]
     },
     "metadata": {},
     "output_type": "display_data"
    }
   ],
   "source": [
    "print(f'max f1-score: {max(f1_scores.values())} found at n_neighboars: {max(f1_scores, key=f1_scores.get)}')\n",
    "plt.scatter(f1_scores.keys(), f1_scores.values())"
   ]
  },
  {
   "cell_type": "markdown",
   "metadata": {},
   "source": [
    "## Case 6 Age: MICE, Cabin: first letter"
   ]
  },
  {
   "cell_type": "code",
   "execution_count": 433,
   "metadata": {},
   "outputs": [
    {
     "name": "stderr",
     "output_type": "stream",
     "text": [
      " 11%|█         | 1/9 [00:03<00:25,  3.25s/it]c:\\Program Files\\Python312\\Lib\\site-packages\\sklearn\\preprocessing\\_encoders.py:241: UserWarning: Found unknown categories in columns [2] during transform. These unknown categories will be encoded as all zeros\n",
      "  warnings.warn(\n",
      " 22%|██▏       | 2/9 [00:06<00:21,  3.10s/it]c:\\Program Files\\Python312\\Lib\\site-packages\\sklearn\\preprocessing\\_encoders.py:241: UserWarning: Found unknown categories in columns [2] during transform. These unknown categories will be encoded as all zeros\n",
      "  warnings.warn(\n",
      " 33%|███▎      | 3/9 [00:09<00:18,  3.05s/it]c:\\Program Files\\Python312\\Lib\\site-packages\\sklearn\\preprocessing\\_encoders.py:241: UserWarning: Found unknown categories in columns [2] during transform. These unknown categories will be encoded as all zeros\n",
      "  warnings.warn(\n",
      " 56%|█████▌    | 5/9 [00:15<00:12,  3.08s/it]c:\\Program Files\\Python312\\Lib\\site-packages\\sklearn\\preprocessing\\_encoders.py:241: UserWarning: Found unknown categories in columns [2] during transform. These unknown categories will be encoded as all zeros\n",
      "  warnings.warn(\n",
      " 78%|███████▊  | 7/9 [00:21<00:05,  2.99s/it]c:\\Program Files\\Python312\\Lib\\site-packages\\sklearn\\preprocessing\\_encoders.py:241: UserWarning: Found unknown categories in columns [2] during transform. These unknown categories will be encoded as all zeros\n",
      "  warnings.warn(\n",
      "c:\\Program Files\\Python312\\Lib\\site-packages\\sklearn\\preprocessing\\_encoders.py:241: UserWarning: Found unknown categories in columns [2] during transform. These unknown categories will be encoded as all zeros\n",
      "  warnings.warn(\n",
      "100%|██████████| 9/9 [00:26<00:00,  2.99s/it]\n"
     ]
    }
   ],
   "source": [
    "features_edit = features\n",
    "target_edit = target\n",
    "\n",
    "n_folds = 10\n",
    "test_factor = 0.20\n",
    "f1_scores = dict()\n",
    "cv_params = {'n_neighbors': [5, 10, 15, 20, 25, 30, 50, 75, 100]}\n",
    "\n",
    "for j in tqdm(cv_params['n_neighbors']):    \n",
    "    for i in range(n_folds):\n",
    "        X_train, X_test, y_train, y_test = train_test_split(features_edit, target_edit, test_size=test_factor)\n",
    "        \n",
    "        cabin_transform = CabinPreprocessing(type='letter')\n",
    "        X_train = cabin_transform.fit_transform(X_train)\n",
    "        X_test = cabin_transform.transform(X_test)\n",
    "\n",
    "        ohe = ColumnTransformer(transformers=[\n",
    "            ('ohe', OneHotEncoder(drop='first', handle_unknown='ignore', sparse_output=False), ['Pclass',\n",
    "                                                                                                'Sex',\n",
    "                                                                                                'Embarked',\n",
    "                                                                                                'Cabin']),\n",
    "            ('pass', 'passthrough', ['Age', 'SibSp', 'Parch', 'Fare'])\n",
    "        ], verbose_feature_names_out=False)\n",
    "        X_train = pd.DataFrame(ohe.fit_transform(X_train), columns=ohe.get_feature_names_out())\n",
    "        X_test = pd.DataFrame(ohe.transform(X_test), columns=ohe.get_feature_names_out())        \n",
    "        \n",
    "        mice_imputer = IterativeImputer()\n",
    "        X_train = mice_imputer.fit_transform(X_train)\n",
    "        X_test = mice_imputer.transform(X_test)\n",
    "        X_train = pd.DataFrame(X_train, columns=mice_imputer.get_feature_names_out())\n",
    "        X_test = pd.DataFrame(X_test, columns=mice_imputer.get_feature_names_out())\n",
    "        \n",
    "        scaler = ColumnTransformer(\n",
    "            transformers=[('scaler', StandardScaler(), cont_features)],\n",
    "            remainder='passthrough'\n",
    "            )\n",
    "        pipe = Pipeline(steps=[\n",
    "            ('scaler_cont_features', scaler),\n",
    "            ('knn', KNeighborsClassifier(n_neighbors=j, weights='distance'))\n",
    "        ])\n",
    "        \n",
    "        pipe.fit(X_train, y_train)\n",
    "        f1_scores[j] = f1_scores.get(j, 0) + f1_score(y_test, pipe.predict(X_test))\n",
    "        \n",
    "    f1_scores[j] /= n_folds"
   ]
  },
  {
   "cell_type": "code",
   "execution_count": 434,
   "metadata": {},
   "outputs": [
    {
     "name": "stdout",
     "output_type": "stream",
     "text": [
      "max f1-score: 0.7305439580518245 found at n_neighboars: 25\n"
     ]
    },
    {
     "data": {
      "text/plain": [
       "<matplotlib.collections.PathCollection at 0x2451c036b40>"
      ]
     },
     "execution_count": 434,
     "metadata": {},
     "output_type": "execute_result"
    },
    {
     "data": {
      "image/png": "[encoded data removed]",
      "text/plain": [
       "<Figure size 640x480 with 1 Axes>"
      ]
     },
     "metadata": {},
     "output_type": "display_data"
    }
   ],
   "source": [
    "print(f'max f1-score: {max(f1_scores.values())} found at n_neighboars: {max(f1_scores, key=f1_scores.get)}')\n",
    "plt.scatter(f1_scores.keys(), f1_scores.values())"
   ]
  },
  {
   "cell_type": "markdown",
   "metadata": {},
   "source": [
    "## Results\n",
    "During using KNN model the f1-score was around 0.73 level all the time. \n",
    "And what interesting that all of possible transforms with 'Age' and 'Cabin' columns didn't give an improvement of the metric."
   ]
  },
  {
   "cell_type": "markdown",
   "metadata": {},
   "source": [
    "# Naive Bayes"
   ]
  },
  {
   "cell_type": "markdown",
   "metadata": {},
   "source": [
    "Fist of all, lets see at distibutions of our continuous features relative to the target"
   ]
  },
  {
   "cell_type": "code",
   "execution_count": 248,
   "metadata": {},
   "outputs": [
    {
     "data": {
      "text/plain": [
       "(Index(['Pclass', 'Sex', 'Age', 'SibSp', 'Parch', 'Fare', 'Cabin', 'Embarked'], dtype='object'),\n",
       " array([0, 1], dtype=int64))"
      ]
     },
     "execution_count": 248,
     "metadata": {},
     "output_type": "execute_result"
    }
   ],
   "source": [
    "features.columns, np.unique(target)"
   ]
  },
  {
   "cell_type": "code",
   "execution_count": 249,
   "metadata": {},
   "outputs": [
    {
     "data": {
      "image/png": "[encoded data removed]",
      "text/plain": [
       "<Figure size 1500x1000 with 8 Axes>"
      ]
     },
     "metadata": {},
     "output_type": "display_data"
    }
   ],
   "source": [
    "fig, axes = plt.subplots(2, 4, figsize=(15, 10))\n",
    "\n",
    "for feature_idx, feature_name in enumerate(cont_features):\n",
    "    for label_idx, label_name in enumerate(np.unique(target)):\n",
    "        ax = axes[label_idx, feature_idx]\n",
    "        feature_col = features.loc[target==label_name, feature_name]\n",
    "        ax.hist(feature_col, bins=10)\n",
    "        ax.grid()\n",
    "        ax.set_title(f'feature: {feature_name}, class: {label_name}')"
   ]
  },
  {
   "cell_type": "code",
   "execution_count": 250,
   "metadata": {},
   "outputs": [
    {
     "data": {
      "image/png": "[encoded data removed]",
      "text/plain": [
       "<Figure size 1500x1000 with 8 Axes>"
      ]
     },
     "metadata": {},
     "output_type": "display_data"
    }
   ],
   "source": [
    "# plot the Gaussian distribution from scipy\n",
    "from scipy.stats import norm\n",
    "\n",
    "fig, axes = plt.subplots(2, 4, figsize=(15, 10))\n",
    "\n",
    "for feature_idx, feature_name in enumerate(cont_features):\n",
    "    for label_idx, label_name in enumerate(np.unique(target)):\n",
    "        ax = axes[label_idx, feature_idx]\n",
    "        feature_col = features.loc[target==label_name, feature_name]\n",
    "        gaussian_dist = norm(loc=feature_col.mean(axis=0), scale=feature_col.std(axis=0))\n",
    "        linspace = np.linspace(feature_col.min(), feature_col.max(), 1000)\n",
    "        ax.plot(linspace, gaussian_dist.pdf(linspace.reshape(-1, 1)))\n",
    "        ax.grid()\n",
    "        ax.set_title(f'feature: {feature_name}, class: {label_name}')"
   ]
  },
  {
   "cell_type": "code",
   "execution_count": 211,
   "metadata": {},
   "outputs": [
    {
     "data": {
      "text/plain": [
       "['Pclass', 'Sex', 'Cabin', 'Embarked']"
      ]
     },
     "execution_count": 211,
     "metadata": {},
     "output_type": "execute_result"
    }
   ],
   "source": [
    "cat_features"
   ]
  },
  {
   "cell_type": "markdown",
   "metadata": {},
   "source": [
    "In order to use NaiveBayes in this problem, we need to use:\n",
    "1. *GaussianNB* for continuous features\n",
    "2. *CategoricalNB* for categorical features\n",
    "Combine the results from this two classifier"
   ]
  },
  {
   "cell_type": "markdown",
   "metadata": {},
   "source": [
    "The feature transformations to the data will be the same as in kNN, but now we don't need to do normalization of out features, because the Naive Bayes deal with each feature independantly. Also, we will change the OneHot encoding with the OrdinalEncoder()"
   ]
  },
  {
   "cell_type": "markdown",
   "metadata": {},
   "source": [
    "## Case 1. Age: mean, Cabin: drop"
   ]
  },
  {
   "cell_type": "code",
   "execution_count": 278,
   "metadata": {},
   "outputs": [],
   "source": [
    "from sklearn.base import ClassifierMixin\n",
    "from sklearn.naive_bayes import GaussianNB, CategoricalNB\n",
    "\n",
    "\n",
    "class HybridNaiveBayes(BaseEstimator, ClassifierMixin):\n",
    "    def __init__(self):\n",
    "        self.gaussian_nb = GaussianNB()\n",
    "        self.categorical_nb = CategoricalNB()\n",
    "    \n",
    "    def fit(self, X_cont, X_cat, y):\n",
    "        self.gaussian_nb.fit(X_cont, y)\n",
    "        self.categorical_nb.fit(X_cat, y)\n",
    "        return self\n",
    "    \n",
    "    def predict(self, X_cont, X_cat):\n",
    "        y_pred_cont = self.gaussian_nb.predict_proba(X_cont)\n",
    "        y_pred_cat = self.categorical_nb.predict_proba(X_cat)\n",
    "        y_pred_combined = y_pred_cont * y_pred_cat\n",
    "        return np.argmax(y_pred_combined, axis=1)\n",
    "\n",
    "    def predict_proba(self, X_cont, X_cat):\n",
    "        y_pred_cont = self.gaussian_nb.predict_proba(X_cont)\n",
    "        y_pred_cat = self.categorical_nb.predict_proba(X_cat)\n",
    "        return y_pred_cont * y_pred_cat"
   ]
  },
  {
   "cell_type": "code",
   "execution_count": 294,
   "metadata": {},
   "outputs": [
    {
     "name": "stdout",
     "output_type": "stream",
     "text": [
      "0.6261479173294575\n"
     ]
    }
   ],
   "source": [
    "from sklearn.preprocessing import OrdinalEncoder\n",
    "\n",
    "\n",
    "features_edit = features\n",
    "target_edit = target\n",
    "\n",
    "features_edit = features_edit.loc[:, features_edit.columns.drop('Cabin')]\n",
    "\n",
    "n_folds = 10\n",
    "test_factor = 0.20\n",
    "f1_scores = list()\n",
    "\n",
    "for i in range(n_folds):\n",
    "    X_train, X_test, y_train, y_test = train_test_split(features_edit, target_edit, test_size=test_factor)\n",
    "    \n",
    "    # categorical features preprocessing\n",
    "    ord_enc = OrdinalEncoder(categories='auto', handle_unknown='use_encoded_value', unknown_value=9)\n",
    "    X_train_cat = ord_enc.fit_transform(X_train.loc[:, ['Pclass', 'Sex', 'Embarked']]) + 1\n",
    "    X_test_cat = ord_enc.transform(X_test.loc[:, ['Pclass', 'Sex', 'Embarked']]) + 1\n",
    "    X_test_cat[X_test_cat == 10] = 0\n",
    "    \n",
    "    # continuous features preprocessing\n",
    "    age_imputer = SimpleImputer(strategy='mean')\n",
    "    X_train_cont = X_train.loc[:, cont_features]\n",
    "    X_test_cont = X_test.loc[:, cont_features]\n",
    "    X_train_cont.loc[:, 'Age'] = age_imputer.fit_transform(X_train.loc[:, 'Age'].to_numpy().reshape(-1, 1))\n",
    "    X_test_cont.loc[:, 'Age'] = age_imputer.transform(X_test.loc[:, 'Age'].to_numpy().reshape(-1, 1))\n",
    "    \n",
    "    hybrid_nb = HybridNaiveBayes()\n",
    "    hybrid_nb.fit(X_train_cont, X_train_cat, y_train)     \n",
    "    f1_scores.append(f1_score(y_test, hybrid_nb.predict(X_test_cont, X_test_cat)))\n",
    "    \n",
    "print(np.mean(f1_scores))"
   ]
  },
  {
   "cell_type": "markdown",
   "metadata": {},
   "source": [
    "## Case 2. Age: median, Cabin: drop"
   ]
  },
  {
   "cell_type": "code",
   "execution_count": 295,
   "metadata": {},
   "outputs": [
    {
     "name": "stdout",
     "output_type": "stream",
     "text": [
      "0.6303155717377582\n"
     ]
    }
   ],
   "source": [
    "from sklearn.preprocessing import OrdinalEncoder\n",
    "\n",
    "\n",
    "features_edit = features\n",
    "target_edit = target\n",
    "\n",
    "features_edit = features_edit.loc[:, features_edit.columns.drop('Cabin')]\n",
    "\n",
    "n_folds = 10\n",
    "test_factor = 0.20\n",
    "f1_scores = list()\n",
    "\n",
    "for i in range(n_folds):\n",
    "    X_train, X_test, y_train, y_test = train_test_split(features_edit, target_edit, test_size=test_factor)\n",
    "    \n",
    "    # categorical features preprocessing\n",
    "    ord_enc = OrdinalEncoder(categories='auto', handle_unknown='use_encoded_value', unknown_value=9)\n",
    "    X_train_cat = ord_enc.fit_transform(X_train.loc[:, ['Pclass', 'Sex', 'Embarked']]) + 1\n",
    "    X_test_cat = ord_enc.transform(X_test.loc[:, ['Pclass', 'Sex', 'Embarked']]) + 1\n",
    "    X_test_cat[X_test_cat == 10] = 0\n",
    "    \n",
    "    # continuous features preprocessing\n",
    "    age_imputer = SimpleImputer(strategy='median')\n",
    "    X_train_cont = X_train.loc[:, cont_features]\n",
    "    X_test_cont = X_test.loc[:, cont_features]\n",
    "    X_train_cont.loc[:, 'Age'] = age_imputer.fit_transform(X_train.loc[:, 'Age'].to_numpy().reshape(-1, 1))\n",
    "    X_test_cont.loc[:, 'Age'] = age_imputer.transform(X_test.loc[:, 'Age'].to_numpy().reshape(-1, 1))\n",
    "    \n",
    "    hybrid_nb = HybridNaiveBayes()\n",
    "    hybrid_nb.fit(X_train_cont, X_train_cat, y_train)     \n",
    "    f1_scores.append(f1_score(y_test, hybrid_nb.predict(X_test_cont, X_test_cat)))\n",
    "    \n",
    "print(np.mean(f1_scores))"
   ]
  },
  {
   "cell_type": "markdown",
   "metadata": {},
   "source": [
    "## Case 3. Age: mode, Cabin: drop"
   ]
  },
  {
   "cell_type": "code",
   "execution_count": 298,
   "metadata": {},
   "outputs": [
    {
     "name": "stdout",
     "output_type": "stream",
     "text": [
      "0.630893777893884\n"
     ]
    }
   ],
   "source": [
    "from sklearn.preprocessing import OrdinalEncoder\n",
    "\n",
    "\n",
    "features_edit = features\n",
    "target_edit = target\n",
    "\n",
    "features_edit = features_edit.loc[:, features_edit.columns.drop('Cabin')]\n",
    "\n",
    "n_folds = 10\n",
    "test_factor = 0.20\n",
    "f1_scores = list()\n",
    "\n",
    "for i in range(n_folds):\n",
    "    X_train, X_test, y_train, y_test = train_test_split(features_edit, target_edit, test_size=test_factor)\n",
    "    \n",
    "    # categorical features preprocessing\n",
    "    ord_enc = OrdinalEncoder(categories='auto', handle_unknown='use_encoded_value', unknown_value=9)\n",
    "    X_train_cat = ord_enc.fit_transform(X_train.loc[:, ['Pclass', 'Sex', 'Embarked']]) + 1\n",
    "    X_test_cat = ord_enc.transform(X_test.loc[:, ['Pclass', 'Sex', 'Embarked']]) + 1\n",
    "    X_test_cat[X_test_cat == 10] = 0\n",
    "    \n",
    "    # continuous features preprocessing\n",
    "    age_imputer = SimpleImputer(strategy='most_frequent')\n",
    "    X_train_cont = X_train.loc[:, cont_features]\n",
    "    X_test_cont = X_test.loc[:, cont_features]\n",
    "    X_train_cont.loc[:, 'Age'] = age_imputer.fit_transform(X_train.loc[:, 'Age'].to_numpy().reshape(-1, 1))\n",
    "    X_test_cont.loc[:, 'Age'] = age_imputer.transform(X_test.loc[:, 'Age'].to_numpy().reshape(-1, 1))\n",
    "    \n",
    "    hybrid_nb = HybridNaiveBayes()\n",
    "    hybrid_nb.fit(X_train_cont, X_train_cat, y_train)     \n",
    "    f1_scores.append(f1_score(y_test, hybrid_nb.predict(X_test_cont, X_test_cat)))\n",
    "    \n",
    "print(np.mean(f1_scores))"
   ]
  },
  {
   "cell_type": "markdown",
   "metadata": {},
   "source": [
    "## Case 4. Age: kNN, Cabin: drop"
   ]
  },
  {
   "cell_type": "code",
   "execution_count": 315,
   "metadata": {},
   "outputs": [
    {
     "name": "stdout",
     "output_type": "stream",
     "text": [
      "0.6385429888685097\n"
     ]
    }
   ],
   "source": [
    "features_edit = features\n",
    "target_edit = target\n",
    "\n",
    "features_edit = features_edit.loc[:, features_edit.columns.drop('Cabin')]\n",
    "\n",
    "n_folds = 10\n",
    "test_factor = 0.20\n",
    "f1_scores = list()\n",
    "\n",
    "for i in range(n_folds):\n",
    "    X_train, X_test, y_train, y_test = train_test_split(features_edit, target_edit, test_size=test_factor)\n",
    "    \n",
    "    # categorical features preprocessing\n",
    "    ord_enc = OrdinalEncoder(categories='auto', handle_unknown='use_encoded_value', unknown_value=9)\n",
    "    X_train_cat = ord_enc.fit_transform(X_train.loc[:, ['Pclass', 'Sex', 'Embarked']]) + 1\n",
    "    X_test_cat = ord_enc.transform(X_test.loc[:, ['Pclass', 'Sex', 'Embarked']]) + 1\n",
    "    X_test_cat[X_test_cat == 10] = 0\n",
    "    \n",
    "    # continuous features preprocessing\n",
    "    age_imputer = KNNImputer(n_neighbors=5)\n",
    "    X_train_cont = X_train.loc[:, cont_features]\n",
    "    X_test_cont = X_test.loc[:, cont_features]\n",
    "    \n",
    "    X_train_cont = age_imputer.fit_transform(X_train_cont)\n",
    "    X_test_cont = age_imputer.transform(X_test_cont)\n",
    "    X_train_cont = pd.DataFrame(X_train_cont, columns=age_imputer.get_feature_names_out())\n",
    "    X_test_cont = pd.DataFrame(X_test_cont, columns=age_imputer.get_feature_names_out())\n",
    "    \n",
    "    hybrid_nb = HybridNaiveBayes()\n",
    "    hybrid_nb.fit(X_train_cont, X_train_cat, y_train)     \n",
    "    f1_scores.append(f1_score(y_test, hybrid_nb.predict(X_test_cont, X_test_cat)))\n",
    "    \n",
    "print(np.mean(f1_scores))"
   ]
  },
  {
   "cell_type": "markdown",
   "metadata": {},
   "source": [
    "## Case 5. Age: MICE, Cabin: drop"
   ]
  },
  {
   "cell_type": "code",
   "execution_count": 316,
   "metadata": {},
   "outputs": [
    {
     "name": "stdout",
     "output_type": "stream",
     "text": [
      "0.6389089185238251\n"
     ]
    }
   ],
   "source": [
    "features_edit = features\n",
    "target_edit = target\n",
    "\n",
    "features_edit = features_edit.loc[:, features_edit.columns.drop('Cabin')]\n",
    "\n",
    "n_folds = 10\n",
    "test_factor = 0.20\n",
    "f1_scores = list()\n",
    "\n",
    "for i in range(n_folds):\n",
    "    X_train, X_test, y_train, y_test = train_test_split(features_edit, target_edit, test_size=test_factor)\n",
    "    \n",
    "    # categorical features preprocessing\n",
    "    ord_enc = OrdinalEncoder(categories='auto', handle_unknown='use_encoded_value', unknown_value=9)\n",
    "    X_train_cat = ord_enc.fit_transform(X_train.loc[:, ['Pclass', 'Sex', 'Embarked']]) + 1\n",
    "    X_test_cat = ord_enc.transform(X_test.loc[:, ['Pclass', 'Sex', 'Embarked']]) + 1\n",
    "    X_test_cat[X_test_cat == 10] = 0\n",
    "    \n",
    "    # continuous features preprocessing\n",
    "    age_imputer = IterativeImputer()\n",
    "    X_train_cont = X_train.loc[:, cont_features]\n",
    "    X_test_cont = X_test.loc[:, cont_features]\n",
    "    \n",
    "    X_train_cont = age_imputer.fit_transform(X_train_cont)\n",
    "    X_test_cont = age_imputer.transform(X_test_cont)\n",
    "    X_train_cont = pd.DataFrame(X_train_cont, columns=age_imputer.get_feature_names_out())\n",
    "    X_test_cont = pd.DataFrame(X_test_cont, columns=age_imputer.get_feature_names_out())\n",
    "    \n",
    "    hybrid_nb = HybridNaiveBayes()\n",
    "    hybrid_nb.fit(X_train_cont, X_train_cat, y_train)     \n",
    "    f1_scores.append(f1_score(y_test, hybrid_nb.predict(X_test_cont, X_test_cat)))\n",
    "    \n",
    "print(np.mean(f1_scores))"
   ]
  },
  {
   "cell_type": "markdown",
   "metadata": {},
   "source": [
    "## Case 6. Age: MICE, Cabin: letter"
   ]
  },
  {
   "cell_type": "code",
   "execution_count": 320,
   "metadata": {},
   "outputs": [
    {
     "name": "stdout",
     "output_type": "stream",
     "text": [
      "0.5859118568854667\n"
     ]
    }
   ],
   "source": [
    "features_edit = features\n",
    "target_edit = target\n",
    "\n",
    "n_folds = 10\n",
    "test_factor = 0.20\n",
    "f1_scores = list()\n",
    "\n",
    "for i in range(n_folds):\n",
    "    X_train, X_test, y_train, y_test = train_test_split(features_edit, target_edit, test_size=test_factor)\n",
    "    \n",
    "    # categorical features preprocessing\n",
    "    cabin_transform = CabinPreprocessing(type='letter')\n",
    "    X_train_cat = cabin_transform.fit_transform(X_train.loc[:, cat_features])\n",
    "    X_test_cat = cabin_transform.transform(X_test.loc[:, cat_features])\n",
    "    \n",
    "    ord_enc = OrdinalEncoder(categories='auto', handle_unknown='use_encoded_value', unknown_value=999)\n",
    "    X_train_cat = ord_enc.fit_transform(X_train_cat) + 1\n",
    "    X_test_cat = ord_enc.transform(X_test_cat) + 1\n",
    "    X_test_cat[X_test_cat == 1000] = 0\n",
    "    \n",
    "    # continuous features preprocessing\n",
    "    age_imputer = IterativeImputer()\n",
    "    X_train_cont = X_train.loc[:, cont_features]\n",
    "    X_test_cont = X_test.loc[:, cont_features]\n",
    "    \n",
    "    X_train_cont = age_imputer.fit_transform(X_train_cont)\n",
    "    X_test_cont = age_imputer.transform(X_test_cont)\n",
    "    X_train_cont = pd.DataFrame(X_train_cont, columns=age_imputer.get_feature_names_out())\n",
    "    X_test_cont = pd.DataFrame(X_test_cont, columns=age_imputer.get_feature_names_out())\n",
    "    \n",
    "    hybrid_nb = HybridNaiveBayes()\n",
    "    hybrid_nb.fit(X_train_cont, X_train_cat, y_train)     \n",
    "    f1_scores.append(f1_score(y_test, hybrid_nb.predict(X_test_cont, X_test_cat)))\n",
    "    \n",
    "print(np.mean(f1_scores))"
   ]
  },
  {
   "cell_type": "markdown",
   "metadata": {},
   "source": [
    "## Case 7. Age: MICE, Cabin: onehot"
   ]
  },
  {
   "cell_type": "code",
   "execution_count": 321,
   "metadata": {},
   "outputs": [
    {
     "name": "stdout",
     "output_type": "stream",
     "text": [
      "0.5417105245561538\n"
     ]
    }
   ],
   "source": [
    "features_edit = features\n",
    "target_edit = target\n",
    "\n",
    "n_folds = 10\n",
    "test_factor = 0.20\n",
    "f1_scores = list()\n",
    "\n",
    "for i in range(n_folds):\n",
    "    X_train, X_test, y_train, y_test = train_test_split(features_edit, target_edit, test_size=test_factor)\n",
    "    \n",
    "    # categorical features preprocessing\n",
    "    X_train_cat = X_train.loc[:, cat_features]\n",
    "    X_test_cat = X_test.loc[:, cat_features]\n",
    "    \n",
    "    ord_enc = OrdinalEncoder(categories='auto', handle_unknown='use_encoded_value', unknown_value=999)\n",
    "    X_train_cat = ord_enc.fit_transform(X_train_cat) + 1\n",
    "    X_test_cat = ord_enc.transform(X_test_cat) + 1\n",
    "    X_test_cat[X_test_cat == 1000] = 0\n",
    "    \n",
    "    # continuous features preprocessing\n",
    "    age_imputer = IterativeImputer()\n",
    "    X_train_cont = X_train.loc[:, cont_features]\n",
    "    X_test_cont = X_test.loc[:, cont_features]\n",
    "    \n",
    "    X_train_cont = age_imputer.fit_transform(X_train_cont)\n",
    "    X_test_cont = age_imputer.transform(X_test_cont)\n",
    "    X_train_cont = pd.DataFrame(X_train_cont, columns=age_imputer.get_feature_names_out())\n",
    "    X_test_cont = pd.DataFrame(X_test_cont, columns=age_imputer.get_feature_names_out())\n",
    "    \n",
    "    hybrid_nb = HybridNaiveBayes()\n",
    "    hybrid_nb.fit(X_train_cont, X_train_cat, y_train)     \n",
    "    f1_scores.append(f1_score(y_test, hybrid_nb.predict(X_test_cont, X_test_cat)))\n",
    "    \n",
    "print(np.mean(f1_scores))"
   ]
  },
  {
   "cell_type": "markdown",
   "metadata": {},
   "source": [
    "## Results\n",
    "\n",
    "The results for the NB classifier is way poorer, than kNN (0.5-0.6 vs 0.73)"
   ]
  },
  {
   "cell_type": "markdown",
   "metadata": {},
   "source": [
    "# Logistic Regression"
   ]
  },
  {
   "cell_type": "markdown",
   "metadata": {},
   "source": [
    "For the logistic regression we need:\n",
    "1. Normalize all the continuous features\n",
    "2. OneHot all the categorical features\n",
    "3. We can cross-validate for penalties: l1, l2 and for regularization factor C"
   ]
  },
  {
   "cell_type": "code",
   "execution_count": 322,
   "metadata": {},
   "outputs": [],
   "source": [
    "from sklearn.linear_model import LogisticRegression"
   ]
  },
  {
   "cell_type": "markdown",
   "metadata": {},
   "source": [
    "## Case 1. Age: MICE, Cabin: drop"
   ]
  },
  {
   "cell_type": "code",
   "execution_count": 324,
   "metadata": {},
   "outputs": [
    {
     "name": "stdout",
     "output_type": "stream",
     "text": [
      "<class 'pandas.core.frame.DataFrame'>\n",
      "Index: 891 entries, 1 to 891\n",
      "Data columns (total 8 columns):\n",
      " #   Column    Non-Null Count  Dtype  \n",
      "---  ------    --------------  -----  \n",
      " 0   Pclass    891 non-null    int64  \n",
      " 1   Sex       891 non-null    object \n",
      " 2   Age       714 non-null    float64\n",
      " 3   SibSp     891 non-null    int64  \n",
      " 4   Parch     891 non-null    int64  \n",
      " 5   Fare      891 non-null    float64\n",
      " 6   Cabin     891 non-null    object \n",
      " 7   Embarked  891 non-null    object \n",
      "dtypes: float64(2), int64(3), object(3)\n",
      "memory usage: 62.6+ KB\n"
     ]
    }
   ],
   "source": [
    "features.info()"
   ]
  },
  {
   "cell_type": "code",
   "execution_count": 330,
   "metadata": {},
   "outputs": [
    {
     "data": {
      "application/vnd.jupyter.widget-view+json": {
       "model_id": "bcb0f18681ea4e60b842f7abac66f926",
       "version_major": 2,
       "version_minor": 0
      },
      "text/plain": [
       "  0%|          | 0/140 [00:00<?, ?it/s]"
      ]
     },
     "metadata": {},
     "output_type": "display_data"
    },
    {
     "name": "stderr",
     "output_type": "stream",
     "text": [
      "c:\\Program Files\\Python312\\Lib\\site-packages\\sklearn\\preprocessing\\_encoders.py:241: UserWarning: Found unknown categories in columns [2] during transform. These unknown categories will be encoded as all zeros\n",
      "  warnings.warn(\n",
      "c:\\Program Files\\Python312\\Lib\\site-packages\\sklearn\\preprocessing\\_encoders.py:241: UserWarning: Found unknown categories in columns [2] during transform. These unknown categories will be encoded as all zeros\n",
      "  warnings.warn(\n",
      "c:\\Program Files\\Python312\\Lib\\site-packages\\sklearn\\preprocessing\\_encoders.py:241: UserWarning: Found unknown categories in columns [2] during transform. These unknown categories will be encoded as all zeros\n",
      "  warnings.warn(\n",
      "c:\\Program Files\\Python312\\Lib\\site-packages\\sklearn\\preprocessing\\_encoders.py:241: UserWarning: Found unknown categories in columns [2] during transform. These unknown categories will be encoded as all zeros\n",
      "  warnings.warn(\n"
     ]
    },
    {
     "name": "stdout",
     "output_type": "stream",
     "text": [
      "max f1-score: 0.7590907654875646 found at params: l2, C=10\n"
     ]
    }
   ],
   "source": [
    "features_edit = features\n",
    "target_edit = target\n",
    "\n",
    "features_edit = features_edit.loc[:, features_edit.columns.drop('Cabin')]\n",
    "\n",
    "n_folds = 10\n",
    "test_factor = 0.20\n",
    "cv_params = {'penalty': ['l1', 'l2'], 'C': [0.001, 0.01, 0.1, 1, 10, 100, 1000]}\n",
    "f1_scores = dict()\n",
    "\n",
    "total_iterations = len(cv_params['penalty']) * len(cv_params['C']) * n_folds\n",
    "\n",
    "with tqdm(total=total_iterations) as pbar:\n",
    "    for penalty_type in cv_params['penalty']:\n",
    "        for reg_factor in cv_params['C']:\n",
    "            cur_score = list()\n",
    "            for fold in range(n_folds):\n",
    "                X_train, X_test, y_train, y_test = train_test_split(features_edit, target_edit, test_size=test_factor)\n",
    "\n",
    "                ohe = ColumnTransformer(transformers=[\n",
    "                    ('ohe', OneHotEncoder(drop='first', handle_unknown='ignore', sparse_output=False), ['Pclass',\n",
    "                                                                                                        'Sex',\n",
    "                                                                                                        'Embarked']),\n",
    "                    ('pass', 'passthrough', ['Age', 'SibSp', 'Parch', 'Fare'])\n",
    "                ], verbose_feature_names_out=False)\n",
    "                X_train = pd.DataFrame(ohe.fit_transform(X_train), columns=ohe.get_feature_names_out())\n",
    "                X_test = pd.DataFrame(ohe.transform(X_test), columns=ohe.get_feature_names_out())        \n",
    "                \n",
    "                age_imputer = IterativeImputer()\n",
    "                X_train = age_imputer.fit_transform(X_train)\n",
    "                X_test = age_imputer.transform(X_test)\n",
    "                X_train = pd.DataFrame(X_train, columns=age_imputer.get_feature_names_out())\n",
    "                X_test = pd.DataFrame(X_test, columns=age_imputer.get_feature_names_out())\n",
    "                \n",
    "                scaler = ColumnTransformer(\n",
    "                    transformers=[('scaler', StandardScaler(), cont_features)],\n",
    "                    remainder='passthrough'\n",
    "                    )\n",
    "                pipe = Pipeline(steps=[\n",
    "                    ('scaler_cont_features', scaler),\n",
    "                    ('log_reg', LogisticRegression(penalty=penalty_type, C=reg_factor, solver='liblinear'))\n",
    "                ])\n",
    "                \n",
    "                pipe.fit(X_train, y_train)\n",
    "                cur_score.append(f1_score(y_test, pipe.predict(X_test)))\n",
    "                pbar.update(1)\n",
    "                \n",
    "            f1_scores[f'{penalty_type}, C={reg_factor}'] = np.mean(cur_score)\n",
    "        \n",
    "print(f'max f1-score: {max(f1_scores.values())} found at params: {max(f1_scores, key=f1_scores.get)}')"
   ]
  },
  {
   "cell_type": "markdown",
   "metadata": {},
   "source": [
    "## Case 2. Age: MICE, Cabin: letter"
   ]
  },
  {
   "cell_type": "code",
   "execution_count": 441,
   "metadata": {},
   "outputs": [
    {
     "data": {
      "application/vnd.jupyter.widget-view+json": {
       "model_id": "51ac04ba0a0449eaa08803f720dc1108",
       "version_major": 2,
       "version_minor": 0
      },
      "text/plain": [
       "  0%|          | 0/450 [00:00<?, ?it/s]"
      ]
     },
     "metadata": {},
     "output_type": "display_data"
    },
    {
     "name": "stderr",
     "output_type": "stream",
     "text": [
      "c:\\Program Files\\Python312\\Lib\\site-packages\\sklearn\\preprocessing\\_encoders.py:241: UserWarning: Found unknown categories in columns [2] during transform. These unknown categories will be encoded as all zeros\n",
      "  warnings.warn(\n",
      "c:\\Program Files\\Python312\\Lib\\site-packages\\sklearn\\preprocessing\\_encoders.py:241: UserWarning: Found unknown categories in columns [2] during transform. These unknown categories will be encoded as all zeros\n",
      "  warnings.warn(\n",
      "c:\\Program Files\\Python312\\Lib\\site-packages\\sklearn\\preprocessing\\_encoders.py:241: UserWarning: Found unknown categories in columns [2] during transform. These unknown categories will be encoded as all zeros\n",
      "  warnings.warn(\n",
      "c:\\Program Files\\Python312\\Lib\\site-packages\\sklearn\\preprocessing\\_encoders.py:241: UserWarning: Found unknown categories in columns [2] during transform. These unknown categories will be encoded as all zeros\n",
      "  warnings.warn(\n",
      "c:\\Program Files\\Python312\\Lib\\site-packages\\sklearn\\preprocessing\\_encoders.py:241: UserWarning: Found unknown categories in columns [2] during transform. These unknown categories will be encoded as all zeros\n",
      "  warnings.warn(\n",
      "c:\\Program Files\\Python312\\Lib\\site-packages\\sklearn\\preprocessing\\_encoders.py:241: UserWarning: Found unknown categories in columns [2] during transform. These unknown categories will be encoded as all zeros\n",
      "  warnings.warn(\n",
      "c:\\Program Files\\Python312\\Lib\\site-packages\\sklearn\\preprocessing\\_encoders.py:241: UserWarning: Found unknown categories in columns [2] during transform. These unknown categories will be encoded as all zeros\n",
      "  warnings.warn(\n",
      "c:\\Program Files\\Python312\\Lib\\site-packages\\sklearn\\preprocessing\\_encoders.py:241: UserWarning: Found unknown categories in columns [2] during transform. These unknown categories will be encoded as all zeros\n",
      "  warnings.warn(\n"
     ]
    },
    {
     "name": "stdout",
     "output_type": "stream",
     "text": [
      "max f1-score: 0.7653149543166056 found at params: l2, C=1000.0\n"
     ]
    }
   ],
   "source": [
    "features_edit = features\n",
    "target_edit = target\n",
    "\n",
    "n_folds = 25\n",
    "test_factor = 0.15\n",
    "cv_params = {'penalty': ['l1', 'l2'], 'C': np.logspace(-4, 4, 9)}\n",
    "f1_scores = dict()\n",
    "\n",
    "total_iterations = len(cv_params['penalty']) * len(cv_params['C']) * n_folds\n",
    "\n",
    "with tqdm(total=total_iterations) as pbar:\n",
    "    for penalty_type in cv_params['penalty']:\n",
    "        for reg_factor in cv_params['C']:\n",
    "            cur_score = list()\n",
    "            for fold in range(n_folds):\n",
    "                X_train, X_test, y_train, y_test = train_test_split(features_edit, target_edit, test_size=test_factor)\n",
    "                \n",
    "                cabin_transform = CabinPreprocessing(type='letter')\n",
    "                X_train = cabin_transform.fit_transform(X_train)\n",
    "                X_test = cabin_transform.transform(X_test)\n",
    "\n",
    "                ohe = ColumnTransformer(transformers=[\n",
    "                    ('ohe', OneHotEncoder(drop='first', handle_unknown='ignore', sparse_output=False), ['Pclass',\n",
    "                                                                                                        'Sex',\n",
    "                                                                                                        'Embarked']),\n",
    "                    ('pass', 'passthrough', ['Age', 'SibSp', 'Parch', 'Fare'])\n",
    "                ], verbose_feature_names_out=False)\n",
    "                X_train = pd.DataFrame(ohe.fit_transform(X_train), columns=ohe.get_feature_names_out())\n",
    "                X_test = pd.DataFrame(ohe.transform(X_test), columns=ohe.get_feature_names_out())        \n",
    "                \n",
    "                age_imputer = IterativeImputer()\n",
    "                X_train = age_imputer.fit_transform(X_train)\n",
    "                X_test = age_imputer.transform(X_test)\n",
    "                X_train = pd.DataFrame(X_train, columns=age_imputer.get_feature_names_out())\n",
    "                X_test = pd.DataFrame(X_test, columns=age_imputer.get_feature_names_out())\n",
    "                \n",
    "                scaler = ColumnTransformer(\n",
    "                    transformers=[('scaler', StandardScaler(), cont_features)],\n",
    "                    remainder='passthrough'\n",
    "                    )\n",
    "                pipe = Pipeline(steps=[\n",
    "                    ('scaler_cont_features', scaler),\n",
    "                    ('log_reg', LogisticRegression(penalty=penalty_type, C=reg_factor, solver='liblinear'))\n",
    "                ])\n",
    "                \n",
    "                pipe.fit(X_train, y_train)\n",
    "                cur_score.append(f1_score(y_test, pipe.predict(X_test)))\n",
    "                pbar.update(1)\n",
    "                \n",
    "            f1_scores[f'{penalty_type}, C={reg_factor}'] = np.mean(cur_score)\n",
    "        \n",
    "print(f'max f1-score: {max(f1_scores.values())} found at params: {max(f1_scores, key=f1_scores.get)}')"
   ]
  },
  {
   "cell_type": "markdown",
   "metadata": {},
   "source": [
    "## Case 3. Age: MICE, Cabin: OneHot"
   ]
  },
  {
   "cell_type": "code",
   "execution_count": 334,
   "metadata": {},
   "outputs": [
    {
     "data": {
      "application/vnd.jupyter.widget-view+json": {
       "model_id": "03903a6cb81f45eea9dc33c479584e85",
       "version_major": 2,
       "version_minor": 0
      },
      "text/plain": [
       "  0%|          | 0/140 [00:00<?, ?it/s]"
      ]
     },
     "metadata": {},
     "output_type": "display_data"
    },
    {
     "name": "stderr",
     "output_type": "stream",
     "text": [
      "c:\\Program Files\\Python312\\Lib\\site-packages\\sklearn\\preprocessing\\_encoders.py:241: UserWarning: Found unknown categories in columns [3] during transform. These unknown categories will be encoded as all zeros\n",
      "  warnings.warn(\n",
      "c:\\Program Files\\Python312\\Lib\\site-packages\\sklearn\\preprocessing\\_encoders.py:241: UserWarning: Found unknown categories in columns [3] during transform. These unknown categories will be encoded as all zeros\n",
      "  warnings.warn(\n",
      "c:\\Program Files\\Python312\\Lib\\site-packages\\sklearn\\preprocessing\\_encoders.py:241: UserWarning: Found unknown categories in columns [3] during transform. These unknown categories will be encoded as all zeros\n",
      "  warnings.warn(\n",
      "c:\\Program Files\\Python312\\Lib\\site-packages\\sklearn\\preprocessing\\_encoders.py:241: UserWarning: Found unknown categories in columns [3] during transform. These unknown categories will be encoded as all zeros\n",
      "  warnings.warn(\n",
      "c:\\Program Files\\Python312\\Lib\\site-packages\\sklearn\\preprocessing\\_encoders.py:241: UserWarning: Found unknown categories in columns [3] during transform. These unknown categories will be encoded as all zeros\n",
      "  warnings.warn(\n",
      "c:\\Program Files\\Python312\\Lib\\site-packages\\sklearn\\preprocessing\\_encoders.py:241: UserWarning: Found unknown categories in columns [3] during transform. These unknown categories will be encoded as all zeros\n",
      "  warnings.warn(\n",
      "c:\\Program Files\\Python312\\Lib\\site-packages\\sklearn\\preprocessing\\_encoders.py:241: UserWarning: Found unknown categories in columns [3] during transform. These unknown categories will be encoded as all zeros\n",
      "  warnings.warn(\n",
      "c:\\Program Files\\Python312\\Lib\\site-packages\\sklearn\\preprocessing\\_encoders.py:241: UserWarning: Found unknown categories in columns [3] during transform. These unknown categories will be encoded as all zeros\n",
      "  warnings.warn(\n",
      "c:\\Program Files\\Python312\\Lib\\site-packages\\sklearn\\preprocessing\\_encoders.py:241: UserWarning: Found unknown categories in columns [3] during transform. These unknown categories will be encoded as all zeros\n",
      "  warnings.warn(\n",
      "c:\\Program Files\\Python312\\Lib\\site-packages\\sklearn\\preprocessing\\_encoders.py:241: UserWarning: Found unknown categories in columns [3] during transform. These unknown categories will be encoded as all zeros\n",
      "  warnings.warn(\n",
      "c:\\Program Files\\Python312\\Lib\\site-packages\\sklearn\\preprocessing\\_encoders.py:241: UserWarning: Found unknown categories in columns [3] during transform. These unknown categories will be encoded as all zeros\n",
      "  warnings.warn(\n",
      "c:\\Program Files\\Python312\\Lib\\site-packages\\sklearn\\preprocessing\\_encoders.py:241: UserWarning: Found unknown categories in columns [3] during transform. These unknown categories will be encoded as all zeros\n",
      "  warnings.warn(\n",
      "c:\\Program Files\\Python312\\Lib\\site-packages\\sklearn\\preprocessing\\_encoders.py:241: UserWarning: Found unknown categories in columns [3] during transform. These unknown categories will be encoded as all zeros\n",
      "  warnings.warn(\n",
      "c:\\Program Files\\Python312\\Lib\\site-packages\\sklearn\\preprocessing\\_encoders.py:241: UserWarning: Found unknown categories in columns [3] during transform. These unknown categories will be encoded as all zeros\n",
      "  warnings.warn(\n",
      "c:\\Program Files\\Python312\\Lib\\site-packages\\sklearn\\preprocessing\\_encoders.py:241: UserWarning: Found unknown categories in columns [3] during transform. These unknown categories will be encoded as all zeros\n",
      "  warnings.warn(\n",
      "c:\\Program Files\\Python312\\Lib\\site-packages\\sklearn\\preprocessing\\_encoders.py:241: UserWarning: Found unknown categories in columns [3] during transform. These unknown categories will be encoded as all zeros\n",
      "  warnings.warn(\n",
      "c:\\Program Files\\Python312\\Lib\\site-packages\\sklearn\\preprocessing\\_encoders.py:241: UserWarning: Found unknown categories in columns [3] during transform. These unknown categories will be encoded as all zeros\n",
      "  warnings.warn(\n",
      "c:\\Program Files\\Python312\\Lib\\site-packages\\sklearn\\preprocessing\\_encoders.py:241: UserWarning: Found unknown categories in columns [3] during transform. These unknown categories will be encoded as all zeros\n",
      "  warnings.warn(\n",
      "c:\\Program Files\\Python312\\Lib\\site-packages\\sklearn\\preprocessing\\_encoders.py:241: UserWarning: Found unknown categories in columns [3] during transform. These unknown categories will be encoded as all zeros\n",
      "  warnings.warn(\n",
      "c:\\Program Files\\Python312\\Lib\\site-packages\\sklearn\\preprocessing\\_encoders.py:241: UserWarning: Found unknown categories in columns [3] during transform. These unknown categories will be encoded as all zeros\n",
      "  warnings.warn(\n",
      "c:\\Program Files\\Python312\\Lib\\site-packages\\sklearn\\preprocessing\\_encoders.py:241: UserWarning: Found unknown categories in columns [3] during transform. These unknown categories will be encoded as all zeros\n",
      "  warnings.warn(\n",
      "c:\\Program Files\\Python312\\Lib\\site-packages\\sklearn\\preprocessing\\_encoders.py:241: UserWarning: Found unknown categories in columns [3] during transform. These unknown categories will be encoded as all zeros\n",
      "  warnings.warn(\n",
      "c:\\Program Files\\Python312\\Lib\\site-packages\\sklearn\\preprocessing\\_encoders.py:241: UserWarning: Found unknown categories in columns [3] during transform. These unknown categories will be encoded as all zeros\n",
      "  warnings.warn(\n",
      "c:\\Program Files\\Python312\\Lib\\site-packages\\sklearn\\preprocessing\\_encoders.py:241: UserWarning: Found unknown categories in columns [2, 3] during transform. These unknown categories will be encoded as all zeros\n",
      "  warnings.warn(\n",
      "c:\\Program Files\\Python312\\Lib\\site-packages\\sklearn\\preprocessing\\_encoders.py:241: UserWarning: Found unknown categories in columns [3] during transform. These unknown categories will be encoded as all zeros\n",
      "  warnings.warn(\n",
      "c:\\Program Files\\Python312\\Lib\\site-packages\\sklearn\\preprocessing\\_encoders.py:241: UserWarning: Found unknown categories in columns [3] during transform. These unknown categories will be encoded as all zeros\n",
      "  warnings.warn(\n",
      "c:\\Program Files\\Python312\\Lib\\site-packages\\sklearn\\preprocessing\\_encoders.py:241: UserWarning: Found unknown categories in columns [3] during transform. These unknown categories will be encoded as all zeros\n",
      "  warnings.warn(\n",
      "c:\\Program Files\\Python312\\Lib\\site-packages\\sklearn\\preprocessing\\_encoders.py:241: UserWarning: Found unknown categories in columns [3] during transform. These unknown categories will be encoded as all zeros\n",
      "  warnings.warn(\n",
      "c:\\Program Files\\Python312\\Lib\\site-packages\\sklearn\\preprocessing\\_encoders.py:241: UserWarning: Found unknown categories in columns [3] during transform. These unknown categories will be encoded as all zeros\n",
      "  warnings.warn(\n",
      "c:\\Program Files\\Python312\\Lib\\site-packages\\sklearn\\preprocessing\\_encoders.py:241: UserWarning: Found unknown categories in columns [2, 3] during transform. These unknown categories will be encoded as all zeros\n",
      "  warnings.warn(\n",
      "c:\\Program Files\\Python312\\Lib\\site-packages\\sklearn\\preprocessing\\_encoders.py:241: UserWarning: Found unknown categories in columns [3] during transform. These unknown categories will be encoded as all zeros\n",
      "  warnings.warn(\n",
      "c:\\Program Files\\Python312\\Lib\\site-packages\\sklearn\\preprocessing\\_encoders.py:241: UserWarning: Found unknown categories in columns [3] during transform. These unknown categories will be encoded as all zeros\n",
      "  warnings.warn(\n",
      "c:\\Program Files\\Python312\\Lib\\site-packages\\sklearn\\preprocessing\\_encoders.py:241: UserWarning: Found unknown categories in columns [3] during transform. These unknown categories will be encoded as all zeros\n",
      "  warnings.warn(\n",
      "c:\\Program Files\\Python312\\Lib\\site-packages\\sklearn\\preprocessing\\_encoders.py:241: UserWarning: Found unknown categories in columns [3] during transform. These unknown categories will be encoded as all zeros\n",
      "  warnings.warn(\n",
      "c:\\Program Files\\Python312\\Lib\\site-packages\\sklearn\\preprocessing\\_encoders.py:241: UserWarning: Found unknown categories in columns [3] during transform. These unknown categories will be encoded as all zeros\n",
      "  warnings.warn(\n",
      "c:\\Program Files\\Python312\\Lib\\site-packages\\sklearn\\preprocessing\\_encoders.py:241: UserWarning: Found unknown categories in columns [3] during transform. These unknown categories will be encoded as all zeros\n",
      "  warnings.warn(\n",
      "c:\\Program Files\\Python312\\Lib\\site-packages\\sklearn\\preprocessing\\_encoders.py:241: UserWarning: Found unknown categories in columns [3] during transform. These unknown categories will be encoded as all zeros\n",
      "  warnings.warn(\n",
      "c:\\Program Files\\Python312\\Lib\\site-packages\\sklearn\\preprocessing\\_encoders.py:241: UserWarning: Found unknown categories in columns [3] during transform. These unknown categories will be encoded as all zeros\n",
      "  warnings.warn(\n",
      "c:\\Program Files\\Python312\\Lib\\site-packages\\sklearn\\preprocessing\\_encoders.py:241: UserWarning: Found unknown categories in columns [3] during transform. These unknown categories will be encoded as all zeros\n",
      "  warnings.warn(\n",
      "c:\\Program Files\\Python312\\Lib\\site-packages\\sklearn\\preprocessing\\_encoders.py:241: UserWarning: Found unknown categories in columns [3] during transform. These unknown categories will be encoded as all zeros\n",
      "  warnings.warn(\n",
      "c:\\Program Files\\Python312\\Lib\\site-packages\\sklearn\\preprocessing\\_encoders.py:241: UserWarning: Found unknown categories in columns [3] during transform. These unknown categories will be encoded as all zeros\n",
      "  warnings.warn(\n",
      "c:\\Program Files\\Python312\\Lib\\site-packages\\sklearn\\preprocessing\\_encoders.py:241: UserWarning: Found unknown categories in columns [3] during transform. These unknown categories will be encoded as all zeros\n",
      "  warnings.warn(\n",
      "c:\\Program Files\\Python312\\Lib\\site-packages\\sklearn\\preprocessing\\_encoders.py:241: UserWarning: Found unknown categories in columns [3] during transform. These unknown categories will be encoded as all zeros\n",
      "  warnings.warn(\n",
      "c:\\Program Files\\Python312\\Lib\\site-packages\\sklearn\\preprocessing\\_encoders.py:241: UserWarning: Found unknown categories in columns [3] during transform. These unknown categories will be encoded as all zeros\n",
      "  warnings.warn(\n",
      "c:\\Program Files\\Python312\\Lib\\site-packages\\sklearn\\preprocessing\\_encoders.py:241: UserWarning: Found unknown categories in columns [3] during transform. These unknown categories will be encoded as all zeros\n",
      "  warnings.warn(\n",
      "c:\\Program Files\\Python312\\Lib\\site-packages\\sklearn\\preprocessing\\_encoders.py:241: UserWarning: Found unknown categories in columns [3] during transform. These unknown categories will be encoded as all zeros\n",
      "  warnings.warn(\n",
      "c:\\Program Files\\Python312\\Lib\\site-packages\\sklearn\\preprocessing\\_encoders.py:241: UserWarning: Found unknown categories in columns [3] during transform. These unknown categories will be encoded as all zeros\n",
      "  warnings.warn(\n",
      "c:\\Program Files\\Python312\\Lib\\site-packages\\sklearn\\preprocessing\\_encoders.py:241: UserWarning: Found unknown categories in columns [3] during transform. These unknown categories will be encoded as all zeros\n",
      "  warnings.warn(\n",
      "c:\\Program Files\\Python312\\Lib\\site-packages\\sklearn\\preprocessing\\_encoders.py:241: UserWarning: Found unknown categories in columns [3] during transform. These unknown categories will be encoded as all zeros\n",
      "  warnings.warn(\n",
      "c:\\Program Files\\Python312\\Lib\\site-packages\\sklearn\\preprocessing\\_encoders.py:241: UserWarning: Found unknown categories in columns [3] during transform. These unknown categories will be encoded as all zeros\n",
      "  warnings.warn(\n",
      "c:\\Program Files\\Python312\\Lib\\site-packages\\sklearn\\preprocessing\\_encoders.py:241: UserWarning: Found unknown categories in columns [3] during transform. These unknown categories will be encoded as all zeros\n",
      "  warnings.warn(\n",
      "c:\\Program Files\\Python312\\Lib\\site-packages\\sklearn\\preprocessing\\_encoders.py:241: UserWarning: Found unknown categories in columns [2, 3] during transform. These unknown categories will be encoded as all zeros\n",
      "  warnings.warn(\n",
      "c:\\Program Files\\Python312\\Lib\\site-packages\\sklearn\\preprocessing\\_encoders.py:241: UserWarning: Found unknown categories in columns [3] during transform. These unknown categories will be encoded as all zeros\n",
      "  warnings.warn(\n",
      "c:\\Program Files\\Python312\\Lib\\site-packages\\sklearn\\preprocessing\\_encoders.py:241: UserWarning: Found unknown categories in columns [3] during transform. These unknown categories will be encoded as all zeros\n",
      "  warnings.warn(\n",
      "c:\\Program Files\\Python312\\Lib\\site-packages\\sklearn\\preprocessing\\_encoders.py:241: UserWarning: Found unknown categories in columns [3] during transform. These unknown categories will be encoded as all zeros\n",
      "  warnings.warn(\n",
      "c:\\Program Files\\Python312\\Lib\\site-packages\\sklearn\\preprocessing\\_encoders.py:241: UserWarning: Found unknown categories in columns [3] during transform. These unknown categories will be encoded as all zeros\n",
      "  warnings.warn(\n",
      "c:\\Program Files\\Python312\\Lib\\site-packages\\sklearn\\preprocessing\\_encoders.py:241: UserWarning: Found unknown categories in columns [3] during transform. These unknown categories will be encoded as all zeros\n",
      "  warnings.warn(\n",
      "c:\\Program Files\\Python312\\Lib\\site-packages\\sklearn\\preprocessing\\_encoders.py:241: UserWarning: Found unknown categories in columns [3] during transform. These unknown categories will be encoded as all zeros\n",
      "  warnings.warn(\n",
      "c:\\Program Files\\Python312\\Lib\\site-packages\\sklearn\\preprocessing\\_encoders.py:241: UserWarning: Found unknown categories in columns [3] during transform. These unknown categories will be encoded as all zeros\n",
      "  warnings.warn(\n",
      "c:\\Program Files\\Python312\\Lib\\site-packages\\sklearn\\preprocessing\\_encoders.py:241: UserWarning: Found unknown categories in columns [3] during transform. These unknown categories will be encoded as all zeros\n",
      "  warnings.warn(\n",
      "c:\\Program Files\\Python312\\Lib\\site-packages\\sklearn\\preprocessing\\_encoders.py:241: UserWarning: Found unknown categories in columns [3] during transform. These unknown categories will be encoded as all zeros\n",
      "  warnings.warn(\n",
      "c:\\Program Files\\Python312\\Lib\\site-packages\\sklearn\\preprocessing\\_encoders.py:241: UserWarning: Found unknown categories in columns [3] during transform. These unknown categories will be encoded as all zeros\n",
      "  warnings.warn(\n",
      "c:\\Program Files\\Python312\\Lib\\site-packages\\sklearn\\preprocessing\\_encoders.py:241: UserWarning: Found unknown categories in columns [3] during transform. These unknown categories will be encoded as all zeros\n",
      "  warnings.warn(\n",
      "c:\\Program Files\\Python312\\Lib\\site-packages\\sklearn\\preprocessing\\_encoders.py:241: UserWarning: Found unknown categories in columns [3] during transform. These unknown categories will be encoded as all zeros\n",
      "  warnings.warn(\n",
      "c:\\Program Files\\Python312\\Lib\\site-packages\\sklearn\\preprocessing\\_encoders.py:241: UserWarning: Found unknown categories in columns [3] during transform. These unknown categories will be encoded as all zeros\n",
      "  warnings.warn(\n",
      "c:\\Program Files\\Python312\\Lib\\site-packages\\sklearn\\preprocessing\\_encoders.py:241: UserWarning: Found unknown categories in columns [3] during transform. These unknown categories will be encoded as all zeros\n",
      "  warnings.warn(\n",
      "c:\\Program Files\\Python312\\Lib\\site-packages\\sklearn\\preprocessing\\_encoders.py:241: UserWarning: Found unknown categories in columns [3] during transform. These unknown categories will be encoded as all zeros\n",
      "  warnings.warn(\n",
      "c:\\Program Files\\Python312\\Lib\\site-packages\\sklearn\\preprocessing\\_encoders.py:241: UserWarning: Found unknown categories in columns [3] during transform. These unknown categories will be encoded as all zeros\n",
      "  warnings.warn(\n",
      "c:\\Program Files\\Python312\\Lib\\site-packages\\sklearn\\preprocessing\\_encoders.py:241: UserWarning: Found unknown categories in columns [3] during transform. These unknown categories will be encoded as all zeros\n",
      "  warnings.warn(\n",
      "c:\\Program Files\\Python312\\Lib\\site-packages\\sklearn\\preprocessing\\_encoders.py:241: UserWarning: Found unknown categories in columns [3] during transform. These unknown categories will be encoded as all zeros\n",
      "  warnings.warn(\n",
      "c:\\Program Files\\Python312\\Lib\\site-packages\\sklearn\\preprocessing\\_encoders.py:241: UserWarning: Found unknown categories in columns [3] during transform. These unknown categories will be encoded as all zeros\n",
      "  warnings.warn(\n",
      "c:\\Program Files\\Python312\\Lib\\site-packages\\sklearn\\preprocessing\\_encoders.py:241: UserWarning: Found unknown categories in columns [3] during transform. These unknown categories will be encoded as all zeros\n",
      "  warnings.warn(\n",
      "c:\\Program Files\\Python312\\Lib\\site-packages\\sklearn\\preprocessing\\_encoders.py:241: UserWarning: Found unknown categories in columns [3] during transform. These unknown categories will be encoded as all zeros\n",
      "  warnings.warn(\n",
      "c:\\Program Files\\Python312\\Lib\\site-packages\\sklearn\\preprocessing\\_encoders.py:241: UserWarning: Found unknown categories in columns [3] during transform. These unknown categories will be encoded as all zeros\n",
      "  warnings.warn(\n",
      "c:\\Program Files\\Python312\\Lib\\site-packages\\sklearn\\preprocessing\\_encoders.py:241: UserWarning: Found unknown categories in columns [3] during transform. These unknown categories will be encoded as all zeros\n",
      "  warnings.warn(\n",
      "c:\\Program Files\\Python312\\Lib\\site-packages\\sklearn\\preprocessing\\_encoders.py:241: UserWarning: Found unknown categories in columns [3] during transform. These unknown categories will be encoded as all zeros\n",
      "  warnings.warn(\n",
      "c:\\Program Files\\Python312\\Lib\\site-packages\\sklearn\\preprocessing\\_encoders.py:241: UserWarning: Found unknown categories in columns [3] during transform. These unknown categories will be encoded as all zeros\n",
      "  warnings.warn(\n",
      "c:\\Program Files\\Python312\\Lib\\site-packages\\sklearn\\preprocessing\\_encoders.py:241: UserWarning: Found unknown categories in columns [3] during transform. These unknown categories will be encoded as all zeros\n",
      "  warnings.warn(\n",
      "c:\\Program Files\\Python312\\Lib\\site-packages\\sklearn\\preprocessing\\_encoders.py:241: UserWarning: Found unknown categories in columns [3] during transform. These unknown categories will be encoded as all zeros\n",
      "  warnings.warn(\n",
      "c:\\Program Files\\Python312\\Lib\\site-packages\\sklearn\\preprocessing\\_encoders.py:241: UserWarning: Found unknown categories in columns [3] during transform. These unknown categories will be encoded as all zeros\n",
      "  warnings.warn(\n",
      "c:\\Program Files\\Python312\\Lib\\site-packages\\sklearn\\preprocessing\\_encoders.py:241: UserWarning: Found unknown categories in columns [3] during transform. These unknown categories will be encoded as all zeros\n",
      "  warnings.warn(\n",
      "c:\\Program Files\\Python312\\Lib\\site-packages\\sklearn\\preprocessing\\_encoders.py:241: UserWarning: Found unknown categories in columns [3] during transform. These unknown categories will be encoded as all zeros\n",
      "  warnings.warn(\n",
      "c:\\Program Files\\Python312\\Lib\\site-packages\\sklearn\\preprocessing\\_encoders.py:241: UserWarning: Found unknown categories in columns [3] during transform. These unknown categories will be encoded as all zeros\n",
      "  warnings.warn(\n",
      "c:\\Program Files\\Python312\\Lib\\site-packages\\sklearn\\preprocessing\\_encoders.py:241: UserWarning: Found unknown categories in columns [3] during transform. These unknown categories will be encoded as all zeros\n",
      "  warnings.warn(\n",
      "c:\\Program Files\\Python312\\Lib\\site-packages\\sklearn\\preprocessing\\_encoders.py:241: UserWarning: Found unknown categories in columns [3] during transform. These unknown categories will be encoded as all zeros\n",
      "  warnings.warn(\n",
      "c:\\Program Files\\Python312\\Lib\\site-packages\\sklearn\\preprocessing\\_encoders.py:241: UserWarning: Found unknown categories in columns [3] during transform. These unknown categories will be encoded as all zeros\n",
      "  warnings.warn(\n",
      "c:\\Program Files\\Python312\\Lib\\site-packages\\sklearn\\preprocessing\\_encoders.py:241: UserWarning: Found unknown categories in columns [3] during transform. These unknown categories will be encoded as all zeros\n",
      "  warnings.warn(\n",
      "c:\\Program Files\\Python312\\Lib\\site-packages\\sklearn\\preprocessing\\_encoders.py:241: UserWarning: Found unknown categories in columns [3] during transform. These unknown categories will be encoded as all zeros\n",
      "  warnings.warn(\n",
      "c:\\Program Files\\Python312\\Lib\\site-packages\\sklearn\\preprocessing\\_encoders.py:241: UserWarning: Found unknown categories in columns [2, 3] during transform. These unknown categories will be encoded as all zeros\n",
      "  warnings.warn(\n",
      "c:\\Program Files\\Python312\\Lib\\site-packages\\sklearn\\preprocessing\\_encoders.py:241: UserWarning: Found unknown categories in columns [3] during transform. These unknown categories will be encoded as all zeros\n",
      "  warnings.warn(\n",
      "c:\\Program Files\\Python312\\Lib\\site-packages\\sklearn\\preprocessing\\_encoders.py:241: UserWarning: Found unknown categories in columns [3] during transform. These unknown categories will be encoded as all zeros\n",
      "  warnings.warn(\n",
      "c:\\Program Files\\Python312\\Lib\\site-packages\\sklearn\\preprocessing\\_encoders.py:241: UserWarning: Found unknown categories in columns [3] during transform. These unknown categories will be encoded as all zeros\n",
      "  warnings.warn(\n",
      "c:\\Program Files\\Python312\\Lib\\site-packages\\sklearn\\preprocessing\\_encoders.py:241: UserWarning: Found unknown categories in columns [3] during transform. These unknown categories will be encoded as all zeros\n",
      "  warnings.warn(\n",
      "c:\\Program Files\\Python312\\Lib\\site-packages\\sklearn\\preprocessing\\_encoders.py:241: UserWarning: Found unknown categories in columns [3] during transform. These unknown categories will be encoded as all zeros\n",
      "  warnings.warn(\n",
      "c:\\Program Files\\Python312\\Lib\\site-packages\\sklearn\\preprocessing\\_encoders.py:241: UserWarning: Found unknown categories in columns [3] during transform. These unknown categories will be encoded as all zeros\n",
      "  warnings.warn(\n",
      "c:\\Program Files\\Python312\\Lib\\site-packages\\sklearn\\preprocessing\\_encoders.py:241: UserWarning: Found unknown categories in columns [3] during transform. These unknown categories will be encoded as all zeros\n",
      "  warnings.warn(\n",
      "c:\\Program Files\\Python312\\Lib\\site-packages\\sklearn\\preprocessing\\_encoders.py:241: UserWarning: Found unknown categories in columns [3] during transform. These unknown categories will be encoded as all zeros\n",
      "  warnings.warn(\n",
      "c:\\Program Files\\Python312\\Lib\\site-packages\\sklearn\\preprocessing\\_encoders.py:241: UserWarning: Found unknown categories in columns [3] during transform. These unknown categories will be encoded as all zeros\n",
      "  warnings.warn(\n",
      "c:\\Program Files\\Python312\\Lib\\site-packages\\sklearn\\preprocessing\\_encoders.py:241: UserWarning: Found unknown categories in columns [3] during transform. These unknown categories will be encoded as all zeros\n",
      "  warnings.warn(\n",
      "c:\\Program Files\\Python312\\Lib\\site-packages\\sklearn\\preprocessing\\_encoders.py:241: UserWarning: Found unknown categories in columns [3] during transform. These unknown categories will be encoded as all zeros\n",
      "  warnings.warn(\n",
      "c:\\Program Files\\Python312\\Lib\\site-packages\\sklearn\\preprocessing\\_encoders.py:241: UserWarning: Found unknown categories in columns [3] during transform. These unknown categories will be encoded as all zeros\n",
      "  warnings.warn(\n",
      "c:\\Program Files\\Python312\\Lib\\site-packages\\sklearn\\preprocessing\\_encoders.py:241: UserWarning: Found unknown categories in columns [3] during transform. These unknown categories will be encoded as all zeros\n",
      "  warnings.warn(\n",
      "c:\\Program Files\\Python312\\Lib\\site-packages\\sklearn\\preprocessing\\_encoders.py:241: UserWarning: Found unknown categories in columns [3] during transform. These unknown categories will be encoded as all zeros\n",
      "  warnings.warn(\n",
      "c:\\Program Files\\Python312\\Lib\\site-packages\\sklearn\\preprocessing\\_encoders.py:241: UserWarning: Found unknown categories in columns [3] during transform. These unknown categories will be encoded as all zeros\n",
      "  warnings.warn(\n",
      "c:\\Program Files\\Python312\\Lib\\site-packages\\sklearn\\preprocessing\\_encoders.py:241: UserWarning: Found unknown categories in columns [3] during transform. These unknown categories will be encoded as all zeros\n",
      "  warnings.warn(\n",
      "c:\\Program Files\\Python312\\Lib\\site-packages\\sklearn\\preprocessing\\_encoders.py:241: UserWarning: Found unknown categories in columns [3] during transform. These unknown categories will be encoded as all zeros\n",
      "  warnings.warn(\n",
      "c:\\Program Files\\Python312\\Lib\\site-packages\\sklearn\\preprocessing\\_encoders.py:241: UserWarning: Found unknown categories in columns [3] during transform. These unknown categories will be encoded as all zeros\n",
      "  warnings.warn(\n",
      "c:\\Program Files\\Python312\\Lib\\site-packages\\sklearn\\preprocessing\\_encoders.py:241: UserWarning: Found unknown categories in columns [3] during transform. These unknown categories will be encoded as all zeros\n",
      "  warnings.warn(\n",
      "c:\\Program Files\\Python312\\Lib\\site-packages\\sklearn\\preprocessing\\_encoders.py:241: UserWarning: Found unknown categories in columns [3] during transform. These unknown categories will be encoded as all zeros\n",
      "  warnings.warn(\n",
      "c:\\Program Files\\Python312\\Lib\\site-packages\\sklearn\\preprocessing\\_encoders.py:241: UserWarning: Found unknown categories in columns [3] during transform. These unknown categories will be encoded as all zeros\n",
      "  warnings.warn(\n",
      "c:\\Program Files\\Python312\\Lib\\site-packages\\sklearn\\preprocessing\\_encoders.py:241: UserWarning: Found unknown categories in columns [3] during transform. These unknown categories will be encoded as all zeros\n",
      "  warnings.warn(\n",
      "c:\\Program Files\\Python312\\Lib\\site-packages\\sklearn\\preprocessing\\_encoders.py:241: UserWarning: Found unknown categories in columns [3] during transform. These unknown categories will be encoded as all zeros\n",
      "  warnings.warn(\n",
      "c:\\Program Files\\Python312\\Lib\\site-packages\\sklearn\\preprocessing\\_encoders.py:241: UserWarning: Found unknown categories in columns [3] during transform. These unknown categories will be encoded as all zeros\n",
      "  warnings.warn(\n",
      "c:\\Program Files\\Python312\\Lib\\site-packages\\sklearn\\preprocessing\\_encoders.py:241: UserWarning: Found unknown categories in columns [3] during transform. These unknown categories will be encoded as all zeros\n",
      "  warnings.warn(\n",
      "c:\\Program Files\\Python312\\Lib\\site-packages\\sklearn\\preprocessing\\_encoders.py:241: UserWarning: Found unknown categories in columns [3] during transform. These unknown categories will be encoded as all zeros\n",
      "  warnings.warn(\n",
      "c:\\Program Files\\Python312\\Lib\\site-packages\\sklearn\\preprocessing\\_encoders.py:241: UserWarning: Found unknown categories in columns [2, 3] during transform. These unknown categories will be encoded as all zeros\n",
      "  warnings.warn(\n",
      "c:\\Program Files\\Python312\\Lib\\site-packages\\sklearn\\preprocessing\\_encoders.py:241: UserWarning: Found unknown categories in columns [3] during transform. These unknown categories will be encoded as all zeros\n",
      "  warnings.warn(\n",
      "c:\\Program Files\\Python312\\Lib\\site-packages\\sklearn\\preprocessing\\_encoders.py:241: UserWarning: Found unknown categories in columns [3] during transform. These unknown categories will be encoded as all zeros\n",
      "  warnings.warn(\n",
      "c:\\Program Files\\Python312\\Lib\\site-packages\\sklearn\\preprocessing\\_encoders.py:241: UserWarning: Found unknown categories in columns [3] during transform. These unknown categories will be encoded as all zeros\n",
      "  warnings.warn(\n",
      "c:\\Program Files\\Python312\\Lib\\site-packages\\sklearn\\preprocessing\\_encoders.py:241: UserWarning: Found unknown categories in columns [3] during transform. These unknown categories will be encoded as all zeros\n",
      "  warnings.warn(\n",
      "c:\\Program Files\\Python312\\Lib\\site-packages\\sklearn\\preprocessing\\_encoders.py:241: UserWarning: Found unknown categories in columns [3] during transform. These unknown categories will be encoded as all zeros\n",
      "  warnings.warn(\n",
      "c:\\Program Files\\Python312\\Lib\\site-packages\\sklearn\\preprocessing\\_encoders.py:241: UserWarning: Found unknown categories in columns [3] during transform. These unknown categories will be encoded as all zeros\n",
      "  warnings.warn(\n",
      "c:\\Program Files\\Python312\\Lib\\site-packages\\sklearn\\preprocessing\\_encoders.py:241: UserWarning: Found unknown categories in columns [3] during transform. These unknown categories will be encoded as all zeros\n",
      "  warnings.warn(\n",
      "c:\\Program Files\\Python312\\Lib\\site-packages\\sklearn\\preprocessing\\_encoders.py:241: UserWarning: Found unknown categories in columns [3] during transform. These unknown categories will be encoded as all zeros\n",
      "  warnings.warn(\n",
      "c:\\Program Files\\Python312\\Lib\\site-packages\\sklearn\\preprocessing\\_encoders.py:241: UserWarning: Found unknown categories in columns [3] during transform. These unknown categories will be encoded as all zeros\n",
      "  warnings.warn(\n",
      "c:\\Program Files\\Python312\\Lib\\site-packages\\sklearn\\preprocessing\\_encoders.py:241: UserWarning: Found unknown categories in columns [3] during transform. These unknown categories will be encoded as all zeros\n",
      "  warnings.warn(\n",
      "c:\\Program Files\\Python312\\Lib\\site-packages\\sklearn\\preprocessing\\_encoders.py:241: UserWarning: Found unknown categories in columns [3] during transform. These unknown categories will be encoded as all zeros\n",
      "  warnings.warn(\n",
      "c:\\Program Files\\Python312\\Lib\\site-packages\\sklearn\\preprocessing\\_encoders.py:241: UserWarning: Found unknown categories in columns [3] during transform. These unknown categories will be encoded as all zeros\n",
      "  warnings.warn(\n",
      "c:\\Program Files\\Python312\\Lib\\site-packages\\sklearn\\preprocessing\\_encoders.py:241: UserWarning: Found unknown categories in columns [3] during transform. These unknown categories will be encoded as all zeros\n",
      "  warnings.warn(\n",
      "c:\\Program Files\\Python312\\Lib\\site-packages\\sklearn\\preprocessing\\_encoders.py:241: UserWarning: Found unknown categories in columns [3] during transform. These unknown categories will be encoded as all zeros\n",
      "  warnings.warn(\n",
      "c:\\Program Files\\Python312\\Lib\\site-packages\\sklearn\\preprocessing\\_encoders.py:241: UserWarning: Found unknown categories in columns [3] during transform. These unknown categories will be encoded as all zeros\n",
      "  warnings.warn(\n",
      "c:\\Program Files\\Python312\\Lib\\site-packages\\sklearn\\preprocessing\\_encoders.py:241: UserWarning: Found unknown categories in columns [3] during transform. These unknown categories will be encoded as all zeros\n",
      "  warnings.warn(\n",
      "c:\\Program Files\\Python312\\Lib\\site-packages\\sklearn\\preprocessing\\_encoders.py:241: UserWarning: Found unknown categories in columns [3] during transform. These unknown categories will be encoded as all zeros\n",
      "  warnings.warn(\n",
      "c:\\Program Files\\Python312\\Lib\\site-packages\\sklearn\\preprocessing\\_encoders.py:241: UserWarning: Found unknown categories in columns [3] during transform. These unknown categories will be encoded as all zeros\n",
      "  warnings.warn(\n",
      "c:\\Program Files\\Python312\\Lib\\site-packages\\sklearn\\preprocessing\\_encoders.py:241: UserWarning: Found unknown categories in columns [3] during transform. These unknown categories will be encoded as all zeros\n",
      "  warnings.warn(\n",
      "c:\\Program Files\\Python312\\Lib\\site-packages\\sklearn\\preprocessing\\_encoders.py:241: UserWarning: Found unknown categories in columns [3] during transform. These unknown categories will be encoded as all zeros\n",
      "  warnings.warn(\n",
      "c:\\Program Files\\Python312\\Lib\\site-packages\\sklearn\\preprocessing\\_encoders.py:241: UserWarning: Found unknown categories in columns [3] during transform. These unknown categories will be encoded as all zeros\n",
      "  warnings.warn(\n",
      "c:\\Program Files\\Python312\\Lib\\site-packages\\sklearn\\preprocessing\\_encoders.py:241: UserWarning: Found unknown categories in columns [3] during transform. These unknown categories will be encoded as all zeros\n",
      "  warnings.warn(\n",
      "c:\\Program Files\\Python312\\Lib\\site-packages\\sklearn\\preprocessing\\_encoders.py:241: UserWarning: Found unknown categories in columns [3] during transform. These unknown categories will be encoded as all zeros\n",
      "  warnings.warn(\n",
      "c:\\Program Files\\Python312\\Lib\\site-packages\\sklearn\\preprocessing\\_encoders.py:241: UserWarning: Found unknown categories in columns [3] during transform. These unknown categories will be encoded as all zeros\n",
      "  warnings.warn(\n"
     ]
    },
    {
     "name": "stdout",
     "output_type": "stream",
     "text": [
      "max f1-score: 0.7474536786183668 found at params: l2, C=100\n"
     ]
    }
   ],
   "source": [
    "features_edit = features\n",
    "target_edit = target\n",
    "\n",
    "n_folds = 10\n",
    "test_factor = 0.20\n",
    "cv_params = {'penalty': ['l1', 'l2'], 'C': [0.001, 0.01, 0.1, 1, 10, 100, 1000]}\n",
    "f1_scores = dict()\n",
    "\n",
    "total_iterations = len(cv_params['penalty']) * len(cv_params['C']) * n_folds\n",
    "\n",
    "with tqdm(total=total_iterations) as pbar:\n",
    "    for penalty_type in cv_params['penalty']:\n",
    "        for reg_factor in cv_params['C']:\n",
    "            cur_score = list()\n",
    "            for fold in range(n_folds):\n",
    "                X_train, X_test, y_train, y_test = train_test_split(features_edit, target_edit, test_size=test_factor)\n",
    "\n",
    "                ohe = ColumnTransformer(transformers=[\n",
    "                    ('ohe', OneHotEncoder(drop='first', \n",
    "                                          handle_unknown='ignore', \n",
    "                                          sparse_output=False,\n",
    "                                          max_categories=50), ['Pclass',\n",
    "                                                                                                        'Sex',\n",
    "                                                                                                        'Embarked',\n",
    "                                                                                                        'Cabin']),\n",
    "                    ('pass', 'passthrough', ['Age', 'SibSp', 'Parch', 'Fare'])\n",
    "                ], verbose_feature_names_out=False)\n",
    "                X_train = pd.DataFrame(ohe.fit_transform(X_train), columns=ohe.get_feature_names_out())\n",
    "                X_test = pd.DataFrame(ohe.transform(X_test), columns=ohe.get_feature_names_out())        \n",
    "                \n",
    "                age_imputer = IterativeImputer()\n",
    "                X_train = age_imputer.fit_transform(X_train)\n",
    "                X_test = age_imputer.transform(X_test)\n",
    "                X_train = pd.DataFrame(X_train, columns=age_imputer.get_feature_names_out())\n",
    "                X_test = pd.DataFrame(X_test, columns=age_imputer.get_feature_names_out())\n",
    "                \n",
    "                scaler = ColumnTransformer(\n",
    "                    transformers=[('scaler', StandardScaler(), cont_features)],\n",
    "                    remainder='passthrough'\n",
    "                    )\n",
    "                pipe = Pipeline(steps=[\n",
    "                    ('scaler_cont_features', scaler),\n",
    "                    ('log_reg', LogisticRegression(penalty=penalty_type, C=reg_factor, solver='liblinear'))\n",
    "                ])\n",
    "                \n",
    "                pipe.fit(X_train, y_train)\n",
    "                cur_score.append(f1_score(y_test, pipe.predict(X_test)))\n",
    "                pbar.update(1)\n",
    "\n",
    "            f1_scores[f'{penalty_type}, C={reg_factor}'] = np.mean(cur_score)\n",
    "            \n",
    "print(f'max f1-score: {max(f1_scores.values())} found at params: {max(f1_scores, key=f1_scores.get)}')"
   ]
  },
  {
   "cell_type": "markdown",
   "metadata": {},
   "source": [
    "The best f1: 0.76, which is better than kNN and NB."
   ]
  },
  {
   "cell_type": "markdown",
   "metadata": {},
   "source": [
    "# Random Forest"
   ]
  },
  {
   "cell_type": "markdown",
   "metadata": {},
   "source": [
    "The RF from sklearn works only with numeric features. So we need to do this steps:\n",
    "1. OneHot all categorical data\n",
    "Also, we don't need the normalization.\n",
    "We will cross-validate through:\n",
    "* n_estimators\n",
    "* max_features\n",
    "* max_depth\n",
    "* min_samples_leaf"
   ]
  },
  {
   "cell_type": "code",
   "execution_count": 386,
   "metadata": {},
   "outputs": [],
   "source": [
    "from sklearn.ensemble import RandomForestClassifier"
   ]
  },
  {
   "cell_type": "markdown",
   "metadata": {},
   "source": [
    "## Case 1. Age: mean, Cabin: drop"
   ]
  },
  {
   "cell_type": "code",
   "execution_count": 387,
   "metadata": {},
   "outputs": [],
   "source": [
    "features_edit, target_edit = features.copy(), target.copy()\n",
    "features_edit.drop(columns='Cabin', inplace=True)\n",
    "\n",
    "f1_scores = dict()\n",
    "cv_params = {'n_estimators': [100, 250, 500],\n",
    "             'max_features': ['sqrt'],\n",
    "             'max_depth': [10, 25, 50],\n",
    "             'min_samples_leaf': [1, 5, 10, 15]}\n",
    "n_folds = 5\n",
    "total_iterations = len(cv_params['n_estimators']) * len(cv_params['max_features']) * len(cv_params['max_depth']) * len(cv_params['min_samples_leaf']) * n_folds"
   ]
  },
  {
   "cell_type": "code",
   "execution_count": 388,
   "metadata": {},
   "outputs": [
    {
     "data": {
      "application/vnd.jupyter.widget-view+json": {
       "model_id": "563b7179e5104f0d927f4b7cd582a313",
       "version_major": 2,
       "version_minor": 0
      },
      "text/plain": [
       "  0%|          | 0/180 [00:00<?, ?it/s]"
      ]
     },
     "metadata": {},
     "output_type": "display_data"
    },
    {
     "name": "stderr",
     "output_type": "stream",
     "text": [
      "c:\\Program Files\\Python312\\Lib\\site-packages\\sklearn\\preprocessing\\_encoders.py:241: UserWarning: Found unknown categories in columns [2] during transform. These unknown categories will be encoded as all zeros\n",
      "  warnings.warn(\n",
      "c:\\Program Files\\Python312\\Lib\\site-packages\\sklearn\\preprocessing\\_encoders.py:241: UserWarning: Found unknown categories in columns [2] during transform. These unknown categories will be encoded as all zeros\n",
      "  warnings.warn(\n",
      "c:\\Program Files\\Python312\\Lib\\site-packages\\sklearn\\preprocessing\\_encoders.py:241: UserWarning: Found unknown categories in columns [2] during transform. These unknown categories will be encoded as all zeros\n",
      "  warnings.warn(\n",
      "c:\\Program Files\\Python312\\Lib\\site-packages\\sklearn\\preprocessing\\_encoders.py:241: UserWarning: Found unknown categories in columns [2] during transform. These unknown categories will be encoded as all zeros\n",
      "  warnings.warn(\n",
      "c:\\Program Files\\Python312\\Lib\\site-packages\\sklearn\\preprocessing\\_encoders.py:241: UserWarning: Found unknown categories in columns [2] during transform. These unknown categories will be encoded as all zeros\n",
      "  warnings.warn(\n",
      "c:\\Program Files\\Python312\\Lib\\site-packages\\sklearn\\preprocessing\\_encoders.py:241: UserWarning: Found unknown categories in columns [2] during transform. These unknown categories will be encoded as all zeros\n",
      "  warnings.warn(\n",
      "c:\\Program Files\\Python312\\Lib\\site-packages\\sklearn\\preprocessing\\_encoders.py:241: UserWarning: Found unknown categories in columns [2] during transform. These unknown categories will be encoded as all zeros\n",
      "  warnings.warn(\n",
      "c:\\Program Files\\Python312\\Lib\\site-packages\\sklearn\\preprocessing\\_encoders.py:241: UserWarning: Found unknown categories in columns [2] during transform. These unknown categories will be encoded as all zeros\n",
      "  warnings.warn(\n",
      "c:\\Program Files\\Python312\\Lib\\site-packages\\sklearn\\preprocessing\\_encoders.py:241: UserWarning: Found unknown categories in columns [2] during transform. These unknown categories will be encoded as all zeros\n",
      "  warnings.warn(\n"
     ]
    },
    {
     "name": "stdout",
     "output_type": "stream",
     "text": [
      "max f1-score: 0.7871112183570128 found at params: RandomForestClassifier(max_depth=10, n_estimators=500)\n"
     ]
    }
   ],
   "source": [
    "with tqdm(total=total_iterations) as pbar:\n",
    "    for n_estimators in cv_params['n_estimators']:\n",
    "        for max_features in cv_params['max_features']:\n",
    "            for max_depth in cv_params['max_depth']:\n",
    "                for min_samples_leaf in cv_params['min_samples_leaf']:\n",
    "                    cur_score = list()\n",
    "                    col_tr = ColumnTransformer(transformers=[\n",
    "                        ('ohe', OneHotEncoder(drop='first', \n",
    "                                            handle_unknown='ignore', \n",
    "                                            sparse_output=False,\n",
    "                                            max_categories=50), ['Pclass', 'Sex', 'Embarked']),\n",
    "                        ('age_imputer', SimpleImputer(strategy='mean'), ['Age']),\n",
    "                        ('pass', 'passthrough', ['SibSp', 'Parch', 'Fare'])\n",
    "                    ], verbose_feature_names_out=False)\n",
    "                    \n",
    "                    rfc = RandomForestClassifier(n_estimators=n_estimators,\n",
    "                                            max_depth=max_depth,\n",
    "                                            min_samples_leaf=min_samples_leaf,\n",
    "                                            max_features=max_features)\n",
    "                    \n",
    "                    pipe = Pipeline(steps=[\n",
    "                        ('preprocessing', col_tr),\n",
    "                        ('classifier', rfc)\n",
    "                    ])\n",
    "                    for fold in range(n_folds):\n",
    "                        X_train, X_test, y_train, y_test = train_test_split(features_edit, target_edit, test_size=test_factor)\n",
    "                        pipe.fit(X_train, y_train)\n",
    "                        cur_score.append(f1_score(y_test, pipe.predict(X_test)))\n",
    "                        pbar.update(1)\n",
    "\n",
    "                    f1_scores[pipe.named_steps['classifier']] = np.mean(cur_score)\n",
    "            \n",
    "print(f'max f1-score: {max(f1_scores.values())} found at params: {max(f1_scores, key=f1_scores.get)}')"
   ]
  },
  {
   "cell_type": "markdown",
   "metadata": {},
   "source": [
    "## Case 2. Age: MICE, Cabin: drop"
   ]
  },
  {
   "cell_type": "code",
   "execution_count": 389,
   "metadata": {},
   "outputs": [],
   "source": [
    "features_edit, target_edit = features.copy(), target.copy()\n",
    "features_edit.drop(columns='Cabin', inplace=True)\n",
    "\n",
    "f1_scores = dict()\n",
    "cv_params = {'n_estimators': [100, 250, 500],\n",
    "             'max_features': ['sqrt'],\n",
    "             'max_depth': [10, 25, 50],\n",
    "             'min_samples_leaf': [1, 5, 10, 15]}\n",
    "n_folds = 5\n",
    "total_iterations = len(cv_params['n_estimators']) * len(cv_params['max_features']) * len(cv_params['max_depth']) * len(cv_params['min_samples_leaf']) * n_folds"
   ]
  },
  {
   "cell_type": "code",
   "execution_count": 390,
   "metadata": {},
   "outputs": [
    {
     "data": {
      "application/vnd.jupyter.widget-view+json": {
       "model_id": "5b7c8ba13a1244659d0e64a1d26ea8a2",
       "version_major": 2,
       "version_minor": 0
      },
      "text/plain": [
       "  0%|          | 0/180 [00:00<?, ?it/s]"
      ]
     },
     "metadata": {},
     "output_type": "display_data"
    },
    {
     "name": "stderr",
     "output_type": "stream",
     "text": [
      "c:\\Program Files\\Python312\\Lib\\site-packages\\sklearn\\preprocessing\\_encoders.py:241: UserWarning: Found unknown categories in columns [2] during transform. These unknown categories will be encoded as all zeros\n",
      "  warnings.warn(\n",
      "c:\\Program Files\\Python312\\Lib\\site-packages\\sklearn\\preprocessing\\_encoders.py:241: UserWarning: Found unknown categories in columns [2] during transform. These unknown categories will be encoded as all zeros\n",
      "  warnings.warn(\n",
      "c:\\Program Files\\Python312\\Lib\\site-packages\\sklearn\\preprocessing\\_encoders.py:241: UserWarning: Found unknown categories in columns [2] during transform. These unknown categories will be encoded as all zeros\n",
      "  warnings.warn(\n",
      "c:\\Program Files\\Python312\\Lib\\site-packages\\sklearn\\preprocessing\\_encoders.py:241: UserWarning: Found unknown categories in columns [2] during transform. These unknown categories will be encoded as all zeros\n",
      "  warnings.warn(\n",
      "c:\\Program Files\\Python312\\Lib\\site-packages\\sklearn\\preprocessing\\_encoders.py:241: UserWarning: Found unknown categories in columns [2] during transform. These unknown categories will be encoded as all zeros\n",
      "  warnings.warn(\n",
      "c:\\Program Files\\Python312\\Lib\\site-packages\\sklearn\\preprocessing\\_encoders.py:241: UserWarning: Found unknown categories in columns [2] during transform. These unknown categories will be encoded as all zeros\n",
      "  warnings.warn(\n"
     ]
    },
    {
     "name": "stdout",
     "output_type": "stream",
     "text": [
      "max f1-score: 0.7810412865227392 found at params: RandomForestClassifier(max_depth=50, n_estimators=500)\n"
     ]
    }
   ],
   "source": [
    "with tqdm(total=total_iterations) as pbar:\n",
    "    for n_estimators in cv_params['n_estimators']:\n",
    "        for max_features in cv_params['max_features']:\n",
    "            for max_depth in cv_params['max_depth']:\n",
    "                for min_samples_leaf in cv_params['min_samples_leaf']:\n",
    "                    cur_score = list()\n",
    "                    col_tr = ColumnTransformer(transformers=[\n",
    "                        ('ohe', OneHotEncoder(drop='first', \n",
    "                                            handle_unknown='ignore', \n",
    "                                            sparse_output=False,\n",
    "                                            max_categories=50), ['Pclass', 'Sex', 'Embarked']),\n",
    "                        ('age_imputer', IterativeImputer(), ['Age']),\n",
    "                        ('pass', 'passthrough', ['SibSp', 'Parch', 'Fare'])\n",
    "                    ], verbose_feature_names_out=False)\n",
    "                    \n",
    "                    rfc = RandomForestClassifier(n_estimators=n_estimators,\n",
    "                                            max_depth=max_depth,\n",
    "                                            min_samples_leaf=min_samples_leaf,\n",
    "                                            max_features=max_features)\n",
    "                    \n",
    "                    pipe = Pipeline(steps=[\n",
    "                        ('preprocessing', col_tr),\n",
    "                        ('classifier', rfc)\n",
    "                    ])\n",
    "                    for fold in range(n_folds):\n",
    "                        X_train, X_test, y_train, y_test = train_test_split(features_edit, target_edit, test_size=test_factor)\n",
    "                        pipe.fit(X_train, y_train)\n",
    "                        cur_score.append(f1_score(y_test, pipe.predict(X_test)))\n",
    "                        pbar.update(1)\n",
    "\n",
    "                    f1_scores[pipe.named_steps['classifier']] = np.mean(cur_score)\n",
    "            \n",
    "print(f'max f1-score: {max(f1_scores.values())} found at params: {max(f1_scores, key=f1_scores.get)}')"
   ]
  },
  {
   "cell_type": "markdown",
   "metadata": {},
   "source": [
    "## Case 3. Age: mean, Cabin: letter"
   ]
  },
  {
   "cell_type": "code",
   "execution_count": 401,
   "metadata": {},
   "outputs": [],
   "source": [
    "features_edit, target_edit = features.copy(), target.copy()\n",
    "\n",
    "f1_scores = dict()\n",
    "cv_params = {'n_estimators': [100, 250, 500],\n",
    "             'max_features': ['sqrt', 'log2'],\n",
    "             'max_depth': [10, 25, 50],\n",
    "             'min_samples_leaf': [1, 5, 10, 15]}\n",
    "n_folds = 5\n",
    "total_iterations = len(cv_params['n_estimators']) * len(cv_params['max_features']) * len(cv_params['max_depth']) * len(cv_params['min_samples_leaf']) * n_folds"
   ]
  },
  {
   "cell_type": "code",
   "execution_count": 402,
   "metadata": {},
   "outputs": [
    {
     "data": {
      "application/vnd.jupyter.widget-view+json": {
       "model_id": "8279d69826b749f0b1680c70f4195b5e",
       "version_major": 2,
       "version_minor": 0
      },
      "text/plain": [
       "  0%|          | 0/360 [00:00<?, ?it/s]"
      ]
     },
     "metadata": {},
     "output_type": "display_data"
    },
    {
     "name": "stderr",
     "output_type": "stream",
     "text": [
      "c:\\Program Files\\Python312\\Lib\\site-packages\\sklearn\\preprocessing\\_encoders.py:241: UserWarning: Found unknown categories in columns [2] during transform. These unknown categories will be encoded as all zeros\n",
      "  warnings.warn(\n",
      "c:\\Program Files\\Python312\\Lib\\site-packages\\sklearn\\preprocessing\\_encoders.py:241: UserWarning: Found unknown categories in columns [2] during transform. These unknown categories will be encoded as all zeros\n",
      "  warnings.warn(\n",
      "c:\\Program Files\\Python312\\Lib\\site-packages\\sklearn\\preprocessing\\_encoders.py:241: UserWarning: Found unknown categories in columns [2] during transform. These unknown categories will be encoded as all zeros\n",
      "  warnings.warn(\n",
      "c:\\Program Files\\Python312\\Lib\\site-packages\\sklearn\\preprocessing\\_encoders.py:241: UserWarning: Found unknown categories in columns [2] during transform. These unknown categories will be encoded as all zeros\n",
      "  warnings.warn(\n",
      "c:\\Program Files\\Python312\\Lib\\site-packages\\sklearn\\preprocessing\\_encoders.py:241: UserWarning: Found unknown categories in columns [2] during transform. These unknown categories will be encoded as all zeros\n",
      "  warnings.warn(\n",
      "c:\\Program Files\\Python312\\Lib\\site-packages\\sklearn\\preprocessing\\_encoders.py:241: UserWarning: Found unknown categories in columns [2] during transform. These unknown categories will be encoded as all zeros\n",
      "  warnings.warn(\n",
      "c:\\Program Files\\Python312\\Lib\\site-packages\\sklearn\\preprocessing\\_encoders.py:241: UserWarning: Found unknown categories in columns [2] during transform. These unknown categories will be encoded as all zeros\n",
      "  warnings.warn(\n",
      "c:\\Program Files\\Python312\\Lib\\site-packages\\sklearn\\preprocessing\\_encoders.py:241: UserWarning: Found unknown categories in columns [2] during transform. These unknown categories will be encoded as all zeros\n",
      "  warnings.warn(\n",
      "c:\\Program Files\\Python312\\Lib\\site-packages\\sklearn\\preprocessing\\_encoders.py:241: UserWarning: Found unknown categories in columns [2] during transform. These unknown categories will be encoded as all zeros\n",
      "  warnings.warn(\n",
      "c:\\Program Files\\Python312\\Lib\\site-packages\\sklearn\\preprocessing\\_encoders.py:241: UserWarning: Found unknown categories in columns [2] during transform. These unknown categories will be encoded as all zeros\n",
      "  warnings.warn(\n",
      "c:\\Program Files\\Python312\\Lib\\site-packages\\sklearn\\preprocessing\\_encoders.py:241: UserWarning: Found unknown categories in columns [2] during transform. These unknown categories will be encoded as all zeros\n",
      "  warnings.warn(\n",
      "c:\\Program Files\\Python312\\Lib\\site-packages\\sklearn\\preprocessing\\_encoders.py:241: UserWarning: Found unknown categories in columns [2] during transform. These unknown categories will be encoded as all zeros\n",
      "  warnings.warn(\n",
      "c:\\Program Files\\Python312\\Lib\\site-packages\\sklearn\\preprocessing\\_encoders.py:241: UserWarning: Found unknown categories in columns [2] during transform. These unknown categories will be encoded as all zeros\n",
      "  warnings.warn(\n",
      "c:\\Program Files\\Python312\\Lib\\site-packages\\sklearn\\preprocessing\\_encoders.py:241: UserWarning: Found unknown categories in columns [2] during transform. These unknown categories will be encoded as all zeros\n",
      "  warnings.warn(\n",
      "c:\\Program Files\\Python312\\Lib\\site-packages\\sklearn\\preprocessing\\_encoders.py:241: UserWarning: Found unknown categories in columns [2] during transform. These unknown categories will be encoded as all zeros\n",
      "  warnings.warn(\n"
     ]
    },
    {
     "name": "stdout",
     "output_type": "stream",
     "text": [
      "max f1-score: 0.7884483322862685 found at params: RandomForestClassifier(max_depth=10, max_features='log2')\n"
     ]
    }
   ],
   "source": [
    "with tqdm(total=total_iterations) as pbar:\n",
    "    for n_estimators in cv_params['n_estimators']:\n",
    "        for max_features in cv_params['max_features']:\n",
    "            for max_depth in cv_params['max_depth']:\n",
    "                for min_samples_leaf in cv_params['min_samples_leaf']:\n",
    "                    cur_score = list()\n",
    "                    col_tr = ColumnTransformer(transformers=[\n",
    "                        ('ohe', OneHotEncoder(drop='first', \n",
    "                                            handle_unknown='ignore', \n",
    "                                            sparse_output=False), ['Pclass', 'Sex', 'Embarked', 'Cabin']),\n",
    "                        ('age_imputer', SimpleImputer(strategy='mean'), ['Age']),\n",
    "                    ], verbose_feature_names_out=False, remainder='passthrough')\n",
    "                    \n",
    "                    rfc = RandomForestClassifier(n_estimators=n_estimators,\n",
    "                                            max_depth=max_depth,\n",
    "                                            min_samples_leaf=min_samples_leaf,\n",
    "                                            max_features=max_features)\n",
    "                    \n",
    "                    pipe = Pipeline(steps=[\n",
    "                        ('preprocessing', col_tr),\n",
    "                        ('classifier', rfc)\n",
    "                    ])\n",
    "                    for fold in range(n_folds):\n",
    "                        X_train, X_test, y_train, y_test = train_test_split(features_edit, target_edit, test_size=test_factor)\n",
    "                        cabin_transform = CabinPreprocessing(type='letter')\n",
    "                        X_train = cabin_transform.fit_transform(X_train)\n",
    "                        X_test = cabin_transform.transform(X_test)\n",
    "                        pipe.fit(X_train, y_train)\n",
    "                        cur_score.append(f1_score(y_test, pipe.predict(X_test)))\n",
    "                        pbar.update(1)\n",
    "\n",
    "                    f1_scores[pipe.named_steps['classifier']] = np.mean(cur_score)\n",
    "            \n",
    "print(f'max f1-score: {max(f1_scores.values())} found at params: {max(f1_scores, key=f1_scores.get)}')"
   ]
  },
  {
   "cell_type": "markdown",
   "metadata": {},
   "source": [
    "The f1-score from RF are greater that the NB, kNN and Log Reg"
   ]
  },
  {
   "cell_type": "markdown",
   "metadata": {},
   "source": [
    "# Gradient Boosting (sklearn)"
   ]
  },
  {
   "cell_type": "code",
   "execution_count": 404,
   "metadata": {},
   "outputs": [],
   "source": [
    "from sklearn.ensemble import GradientBoostingClassifier"
   ]
  },
  {
   "cell_type": "markdown",
   "metadata": {},
   "source": [
    "# Case 1. Age: MICE, Cabin: letter"
   ]
  },
  {
   "cell_type": "code",
   "execution_count": 405,
   "metadata": {},
   "outputs": [],
   "source": [
    "features_edit, target_edit = features.copy(), target.copy()\n",
    "\n",
    "f1_scores = dict()\n",
    "cv_params = {'n_estimators': [100, 250, 500],\n",
    "             'criterion': ['friedman_mse', 'squared_error'],\n",
    "             'max_depth': [10, 25, 50],\n",
    "             'min_samples_leaf': [1, 5, 10, 15]}\n",
    "n_folds = 5\n",
    "total_iterations = len(cv_params['n_estimators']) * len(cv_params['criterion']) * len(cv_params['max_depth']) * len(cv_params['min_samples_leaf']) * n_folds"
   ]
  },
  {
   "cell_type": "code",
   "execution_count": 406,
   "metadata": {},
   "outputs": [
    {
     "data": {
      "application/vnd.jupyter.widget-view+json": {
       "model_id": "67e79a2d98f74236b9888121b8bafb1b",
       "version_major": 2,
       "version_minor": 0
      },
      "text/plain": [
       "  0%|          | 0/360 [00:00<?, ?it/s]"
      ]
     },
     "metadata": {},
     "output_type": "display_data"
    },
    {
     "name": "stderr",
     "output_type": "stream",
     "text": [
      "c:\\Program Files\\Python312\\Lib\\site-packages\\sklearn\\preprocessing\\_encoders.py:241: UserWarning: Found unknown categories in columns [2] during transform. These unknown categories will be encoded as all zeros\n",
      "  warnings.warn(\n",
      "c:\\Program Files\\Python312\\Lib\\site-packages\\sklearn\\preprocessing\\_encoders.py:241: UserWarning: Found unknown categories in columns [2] during transform. These unknown categories will be encoded as all zeros\n",
      "  warnings.warn(\n",
      "c:\\Program Files\\Python312\\Lib\\site-packages\\sklearn\\preprocessing\\_encoders.py:241: UserWarning: Found unknown categories in columns [2] during transform. These unknown categories will be encoded as all zeros\n",
      "  warnings.warn(\n",
      "c:\\Program Files\\Python312\\Lib\\site-packages\\sklearn\\preprocessing\\_encoders.py:241: UserWarning: Found unknown categories in columns [2] during transform. These unknown categories will be encoded as all zeros\n",
      "  warnings.warn(\n",
      "c:\\Program Files\\Python312\\Lib\\site-packages\\sklearn\\preprocessing\\_encoders.py:241: UserWarning: Found unknown categories in columns [2] during transform. These unknown categories will be encoded as all zeros\n",
      "  warnings.warn(\n",
      "c:\\Program Files\\Python312\\Lib\\site-packages\\sklearn\\preprocessing\\_encoders.py:241: UserWarning: Found unknown categories in columns [2] during transform. These unknown categories will be encoded as all zeros\n",
      "  warnings.warn(\n",
      "c:\\Program Files\\Python312\\Lib\\site-packages\\sklearn\\preprocessing\\_encoders.py:241: UserWarning: Found unknown categories in columns [2] during transform. These unknown categories will be encoded as all zeros\n",
      "  warnings.warn(\n",
      "c:\\Program Files\\Python312\\Lib\\site-packages\\sklearn\\preprocessing\\_encoders.py:241: UserWarning: Found unknown categories in columns [2] during transform. These unknown categories will be encoded as all zeros\n",
      "  warnings.warn(\n",
      "c:\\Program Files\\Python312\\Lib\\site-packages\\sklearn\\preprocessing\\_encoders.py:241: UserWarning: Found unknown categories in columns [2] during transform. These unknown categories will be encoded as all zeros\n",
      "  warnings.warn(\n",
      "c:\\Program Files\\Python312\\Lib\\site-packages\\sklearn\\preprocessing\\_encoders.py:241: UserWarning: Found unknown categories in columns [2] during transform. These unknown categories will be encoded as all zeros\n",
      "  warnings.warn(\n",
      "c:\\Program Files\\Python312\\Lib\\site-packages\\sklearn\\preprocessing\\_encoders.py:241: UserWarning: Found unknown categories in columns [2] during transform. These unknown categories will be encoded as all zeros\n",
      "  warnings.warn(\n",
      "c:\\Program Files\\Python312\\Lib\\site-packages\\sklearn\\preprocessing\\_encoders.py:241: UserWarning: Found unknown categories in columns [2] during transform. These unknown categories will be encoded as all zeros\n",
      "  warnings.warn(\n",
      "c:\\Program Files\\Python312\\Lib\\site-packages\\sklearn\\preprocessing\\_encoders.py:241: UserWarning: Found unknown categories in columns [2] during transform. These unknown categories will be encoded as all zeros\n",
      "  warnings.warn(\n",
      "c:\\Program Files\\Python312\\Lib\\site-packages\\sklearn\\preprocessing\\_encoders.py:241: UserWarning: Found unknown categories in columns [2] during transform. These unknown categories will be encoded as all zeros\n",
      "  warnings.warn(\n",
      "c:\\Program Files\\Python312\\Lib\\site-packages\\sklearn\\preprocessing\\_encoders.py:241: UserWarning: Found unknown categories in columns [2] during transform. These unknown categories will be encoded as all zeros\n",
      "  warnings.warn(\n",
      "c:\\Program Files\\Python312\\Lib\\site-packages\\sklearn\\preprocessing\\_encoders.py:241: UserWarning: Found unknown categories in columns [2] during transform. These unknown categories will be encoded as all zeros\n",
      "  warnings.warn(\n",
      "c:\\Program Files\\Python312\\Lib\\site-packages\\sklearn\\preprocessing\\_encoders.py:241: UserWarning: Found unknown categories in columns [2] during transform. These unknown categories will be encoded as all zeros\n",
      "  warnings.warn(\n"
     ]
    },
    {
     "name": "stdout",
     "output_type": "stream",
     "text": [
      "max f1-score: 0.7858116808806257 found at params: GradientBoostingClassifier(criterion='squared_error', max_depth=25,\n",
      "                           min_samples_leaf=5)\n"
     ]
    }
   ],
   "source": [
    "with tqdm(total=total_iterations) as pbar:\n",
    "    for n_estimators in cv_params['n_estimators']:\n",
    "        for criterion in cv_params['criterion']:\n",
    "            for max_depth in cv_params['max_depth']:\n",
    "                for min_samples_leaf in cv_params['min_samples_leaf']:\n",
    "                    cur_score = list()\n",
    "                    col_tr = ColumnTransformer(transformers=[\n",
    "                        ('ohe', OneHotEncoder(drop='first', \n",
    "                                            handle_unknown='ignore', \n",
    "                                            sparse_output=False), ['Pclass', 'Sex', 'Embarked', 'Cabin']),\n",
    "                        ('age_imputer', SimpleImputer(strategy='mean'), ['Age']),\n",
    "                    ], verbose_feature_names_out=False, remainder='passthrough')\n",
    "                    \n",
    "                    rfc = GradientBoostingClassifier(n_estimators=n_estimators,\n",
    "                                            max_depth=max_depth,\n",
    "                                            min_samples_leaf=min_samples_leaf,\n",
    "                                            criterion=criterion)\n",
    "                    \n",
    "                    pipe = Pipeline(steps=[\n",
    "                        ('preprocessing', col_tr),\n",
    "                        ('classifier', rfc)\n",
    "                    ])\n",
    "                    for fold in range(n_folds):\n",
    "                        X_train, X_test, y_train, y_test = train_test_split(features_edit, target_edit, test_size=test_factor)\n",
    "                        cabin_transform = CabinPreprocessing(type='letter')\n",
    "                        X_train = cabin_transform.fit_transform(X_train)\n",
    "                        X_test = cabin_transform.transform(X_test)\n",
    "                        pipe.fit(X_train, y_train)\n",
    "                        cur_score.append(f1_score(y_test, pipe.predict(X_test)))\n",
    "                        pbar.update(1)\n",
    "\n",
    "                    f1_scores[pipe.named_steps['classifier']] = np.mean(cur_score)\n",
    "            \n",
    "print(f'max f1-score: {max(f1_scores.values())} found at params: {max(f1_scores, key=f1_scores.get)}')"
   ]
  },
  {
   "cell_type": "markdown",
   "metadata": {},
   "source": [
    "# Testing\n",
    "\n",
    "Let's testing the best models:\n",
    "1. Log Reg (l2, C=1000.0) with 'Age': MICE, 'Cabin': letter\n",
    "2. RandomForestClassifier(max_depth=10, max_features='log2'), with 'Age': MICE, 'Cabin': letter\n",
    "3. GradientBoostingClassifier(criterion='squared_error', max_depth=25, min_samples_leaf=5) with 'Age': MICE, 'Cabin': letter"
   ]
  },
  {
   "cell_type": "markdown",
   "metadata": {},
   "source": [
    "## Logistic Regression"
   ]
  },
  {
   "cell_type": "code",
   "execution_count": 481,
   "metadata": {},
   "outputs": [],
   "source": [
    "from sklearn.metrics import accuracy_score"
   ]
  },
  {
   "cell_type": "markdown",
   "metadata": {},
   "source": [
    "Predict the results from 'test.csv' and send to the Kaggle"
   ]
  },
  {
   "cell_type": "code",
   "execution_count": 502,
   "metadata": {},
   "outputs": [],
   "source": [
    "test_data = pd.read_csv('data/test.csv', index_col=0)\n",
    "test_data.drop(columns=['Name', 'Ticket'], inplace=True)\n",
    "test_data.loc[:, ['Cabin', 'Embarked']] = SimpleImputer(missing_values=pd.NA, strategy='constant', fill_value='Missing').fit_transform(test_data.loc[:, ['Cabin', 'Embarked']])"
   ]
  },
  {
   "cell_type": "code",
   "execution_count": 484,
   "metadata": {},
   "outputs": [
    {
     "name": "stdout",
     "output_type": "stream",
     "text": [
      "f1 val 0.8115942028985508\n",
      "acc val 0.8555555555555555\n"
     ]
    }
   ],
   "source": [
    "X_train, X_val, y_train, y_val = train_test_split(features, target, test_size=0.1)\n",
    "\n",
    "cabin_transform = CabinPreprocessing(type='letter')\n",
    "X_train = cabin_transform.fit_transform(X_train)\n",
    "X_val = cabin_transform.transform(X_val)\n",
    "X_test = cabin_transform.transform(test_data)\n",
    "\n",
    "ohe = ColumnTransformer(transformers=[\n",
    "    ('ohe', OneHotEncoder(drop='first', handle_unknown='ignore', sparse_output=False), ['Pclass',\n",
    "                                                                                        'Sex',\n",
    "                                                                                        'Embarked']),\n",
    "    ('pass', 'passthrough', ['Age', 'SibSp', 'Parch', 'Fare'])\n",
    "], verbose_feature_names_out=False)\n",
    "X_train = pd.DataFrame(ohe.fit_transform(X_train), columns=ohe.get_feature_names_out())\n",
    "X_test = pd.DataFrame(ohe.transform(X_test), columns=ohe.get_feature_names_out())\n",
    "X_val = pd.DataFrame(ohe.transform(X_val), columns=ohe.get_feature_names_out())                \n",
    "\n",
    "age_imputer = IterativeImputer()\n",
    "X_train = age_imputer.fit_transform(X_train)\n",
    "X_test = age_imputer.transform(X_test)\n",
    "X_val = age_imputer.transform(X_val)\n",
    "\n",
    "X_train = pd.DataFrame(X_train, columns=age_imputer.get_feature_names_out())\n",
    "X_test = pd.DataFrame(X_test, columns=age_imputer.get_feature_names_out())\n",
    "X_val = pd.DataFrame(X_val, columns=age_imputer.get_feature_names_out())\n",
    "\n",
    "scaler = ColumnTransformer(\n",
    "    transformers=[('scaler', StandardScaler(), cont_features)],\n",
    "    remainder='passthrough'\n",
    "    )\n",
    "pipe = Pipeline(steps=[\n",
    "    ('scaler_cont_features', scaler),\n",
    "    ('log_reg', LogisticRegression(penalty='l2', C=1000))\n",
    "])\n",
    "\n",
    "pipe.fit(X_train, y_train)\n",
    "y_pred_val = pipe.predict(X_val)\n",
    "y_pred_test = pipe.predict(X_test)\n",
    "\n",
    "print('f1 val', f1_score(y_val, y_pred_val))\n",
    "print('acc val', accuracy_score(y_val, y_pred_val))"
   ]
  },
  {
   "cell_type": "code",
   "execution_count": 485,
   "metadata": {},
   "outputs": [],
   "source": [
    "result = pd.DataFrame(np.concatenate([test_data.index.values.reshape(-1, 1), y_pred_test.reshape(-1, 1)], axis=1), columns=['PassengerId', 'Survived'])\n",
    "result.to_csv('submissions/logreg.csv', index=False)"
   ]
  },
  {
   "cell_type": "markdown",
   "metadata": {},
   "source": [
    "## Random Forest"
   ]
  },
  {
   "cell_type": "code",
   "execution_count": 499,
   "metadata": {},
   "outputs": [
    {
     "name": "stdout",
     "output_type": "stream",
     "text": [
      "f1 val 0.7\n",
      "acc val 0.8\n"
     ]
    }
   ],
   "source": [
    "X_train, X_val, y_train, y_val = train_test_split(features, target, test_size=0.1)\n",
    "\n",
    "cabin_transform = CabinPreprocessing(type='letter')\n",
    "X_train = cabin_transform.fit_transform(X_train)\n",
    "X_val = cabin_transform.transform(X_val)\n",
    "X_test = cabin_transform.transform(test_data)\n",
    "\n",
    "col_tr = ColumnTransformer(transformers=[\n",
    "    ('ohe', OneHotEncoder(drop='first', \n",
    "                        handle_unknown='ignore', \n",
    "                        sparse_output=False), ['Pclass', 'Sex', 'Embarked', 'Cabin']),\n",
    "    ('age_imputer', IterativeImputer(), ['Age']),\n",
    "], verbose_feature_names_out=False, remainder='passthrough')\n",
    "\n",
    "rfc = RandomForestClassifier(max_depth=10, max_features='log2')\n",
    "\n",
    "pipe = Pipeline(steps=[\n",
    "    ('preprocessing', col_tr),\n",
    "    ('classifier', rfc)\n",
    "])\n",
    "\n",
    "pipe.fit(X_train, y_train)\n",
    "y_pred_val = pipe.predict(X_val)\n",
    "y_pred_test = pipe.predict(X_test)\n",
    "print('f1 val', f1_score(y_val, y_pred_val))\n",
    "print('acc val', accuracy_score(y_val, y_pred_val))"
   ]
  },
  {
   "cell_type": "code",
   "execution_count": 492,
   "metadata": {},
   "outputs": [],
   "source": [
    "result = pd.DataFrame(np.concatenate([test_data.index.values.reshape(-1, 1), y_pred_test.reshape(-1, 1)], axis=1), columns=['PassengerId', 'Survived'])\n",
    "result.to_csv('submissions/random_forest.csv', index=False)"
   ]
  },
  {
   "cell_type": "markdown",
   "metadata": {},
   "source": [
    "## Gradient Boosting"
   ]
  },
  {
   "cell_type": "code",
   "execution_count": 509,
   "metadata": {},
   "outputs": [],
   "source": [
    "cabin_transform = CabinPreprocessing(type='letter')\n",
    "X_train = cabin_transform.fit_transform(features)\n",
    "X_test = cabin_transform.transform(test_data)\n",
    "\n",
    "col_tr = ColumnTransformer(transformers=[\n",
    "    ('ohe', OneHotEncoder(drop='first', \n",
    "                        handle_unknown='ignore', \n",
    "                        sparse_output=False), ['Pclass', 'Sex', 'Embarked', 'Cabin']),\n",
    "    ('imputer', SimpleImputer(strategy='mean'), ['Age', 'Fare']),\n",
    "], verbose_feature_names_out=False, remainder='passthrough')\n",
    "\n",
    "rfc = GradientBoostingClassifier(criterion='squared_error', max_depth=25, min_samples_leaf=5)\n",
    "\n",
    "pipe = Pipeline(steps=[\n",
    "    ('preprocessing', col_tr),\n",
    "    ('classifier', rfc)\n",
    "])\n",
    "\n",
    "pipe.fit(X_train, target)\n",
    "y_pred = pipe.predict(X_test)"
   ]
  },
  {
   "cell_type": "code",
   "execution_count": 510,
   "metadata": {},
   "outputs": [],
   "source": [
    "result = pd.DataFrame(np.concatenate([test_data.index.values.reshape(-1, 1), y_pred_test.reshape(-1, 1)], axis=1), columns=['PassengerId', 'Survived'])\n",
    "result.to_csv('submissions/gradient_boosting.csv', index=False)"
   ]
  }
 ],
 "metadata": {
  "kernelspec": {
   "display_name": "Python 3",
   "language": "python",
   "name": "python3"
  },
  "language_info": {
   "codemirror_mode": {
    "name": "ipython",
    "version": 3
   },
   "file_extension": ".py",
   "mimetype": "text/x-python",
   "name": "python",
   "nbconvert_exporter": "python",
   "pygments_lexer": "ipython3",
   "version": "3.12.1"
  }
 },
 "nbformat": 4,
 "nbformat_minor": 2
}
